{
 "cells": [
  {
   "cell_type": "markdown",
   "metadata": {},
   "source": [
    "# Predicting The Re-Sale Value of Used Cars"
   ]
  },
  {
   "cell_type": "markdown",
   "metadata": {},
   "source": [
    "## Problem Statement"
   ]
  },
  {
   "cell_type": "markdown",
   "metadata": {},
   "source": [
    "In the United States used cars represent almost half of the U.S. auto retail market and is the largest retail segment of the economy. There has been a shift by consumers to purchase more affordable previously owned vechinces as automobile debt has surpassed 1 trillion dollars and now makes up 9.5% of American consumer debt. The market for used vehicles is challenging to navigate for many consumers as prices can vary widely as many formulas fail to take into the many nuances of a car.\n",
    "\n",
    "Consumers can use online valuation calculators to get an estimate on a car but these sites tend to only factor in a few features like make, model and miles driven. They also value the car on a straight line depreciation formula which can be overly simplistic, especially for cars that were well maintained by the previous owner. Buyers may look to third party appraisals to price a second hand car, but often these appraisals are costly and time consuming. \n",
    "\n",
    "In the current used car market landscape there is a need by both buyers and sellers for a price prediciton method to better determine the fair market value of a car. Individual sellers can use this price prediciton model to better price their cars before putting them on the market. Buyers can use additional predictions to reference them against popular online valuators to get a better idea of the fair market value of a car. In the often times overwhelming used car market a price predicition model that accounts for the nuances of an automobiles many features will benefit both buyers and sellers to help determine the actual worth of a used car. \n",
    "\n",
    "A series of regression models that will be utilized to predict the price of the cars in our dataset. These include; Linear Regression, Ridge, Lasso, Decision Trees, Random Forest, Extra Trees and Gradient Boost. The model will be evalueted using the metric Root Mean Squared Error. This metric was chosen because it provides us with a number that is more easily interpreted for our parameter of interst price(. In this case the metric will show the difference in monetary units (Euros) the predicted price was from the actual price. A benchmark RMSE score within 10% of the mean value of the cars in our dataset is how we will determine if we have a successful model. This would mean if the cars in the data set had a mean value of 5,000 a succesful RMSE score would be <= 500. A score like this would be helpful as a secondary appraisal to help consumers confirm they are paying a fair value for a used car. "
   ]
  },
  {
   "cell_type": "code",
   "execution_count": 532,
   "metadata": {},
   "outputs": [],
   "source": [
    "import pandas as pd\n",
    "import matplotlib.pyplot as plt\n",
    "import seaborn as sns\n",
    "import regex as re\n",
    "import numpy as np"
   ]
  },
  {
   "cell_type": "markdown",
   "metadata": {},
   "source": [
    "## Executive Summary"
   ]
  },
  {
   "cell_type": "markdown",
   "metadata": {},
   "source": [
    "Predicting the price of used cars is an important problem that has great value in real world applications. As more consumers shift away from leasing or financing cars, more people are looking toward the used car market. Navigating the used car market can be challenging and it is unclear to many buyers and sellers as what the fair market value of a car is.  Intuition tells us that the older the car and the more miles it has on the odometer the cheaper it will be. However, in the data that was collected for this project we observed prices varying greatly in both the age and miles driven categories. This led us to believe that there are many additional features that are affecting the price of a used car. \n",
    "\n",
    "Given the extreme range in our target variable price we knew we would have to remove outliers on both ends of the price range. There were cars listed at over 150,000 euros and cars listed under 500 euros. For a used car prediction model we didn’t want to have cars priced extremely high as these vehicles are likely exotics or collectors items and did not represent what we believed to be the average used car. Addtionally we wanted to remove cars below 500 euros as these could be considered “junkers” and may be bought just for parts or scrap metal. During the modelling phase we kept scaling back on the max price as the scores of the model were very poor. The high price cars were making it very difficult for the model to learn. When going back to look at the distribution of prices the majority of the cars were in the 500 – 20,000 euro range. We ended up settling on this price range for our target variable. We believed this was a true representation on what a normal person would spend on a used car. Prices above this threshold were equivalent of the price of some new cars and we wanted to focus on a realistic price range for the average consumer. \n",
    "\n",
    "We wanted to use a number of different models in attempt to get the best score. We started with a simplified approach dropping the null values from our data set and running a linear regression model. We then went back and imputed the mode values for our categorical variables and re-ran the linear regression model where we observed an improvement in our score. Building off of that adjustment we introduced new models, Ridge and Lasso were used to regularize the (insert regularize info). Decision Tree, Random Forests and Extra Trees were used and the scores continued to improve. Finally, Gradient Boost was used where we observed our best score. \n",
    "\n",
    "Overall, the scores our models produced were poor. There were only a few features that had any impactful correlation on our models. Besides age and kilometers driven there was very weak correlation among the other features included in the model. The additional features created too much noise and it made it challenging for the models to learn.  When we scaled back to just a few features the noise was reduced and the models were less overfit but they still performed poorly. Due to the wide range in price amongst every feature, especially model and brand of car it made it extremely difficult for the models to make accurate price predictions. These results reinforce the idea that setting the actual price of a used automobile is extremely challenging and is most likely why straight line depreciation is used for this problem. \n"
   ]
  },
  {
   "cell_type": "markdown",
   "metadata": {},
   "source": [
    "### Contents:\n",
    "- [Import Data](#Import-Data)\n",
    "- [Data Dictionary](#Data-Dictionary)\n",
    "- [Exploratory Data Analysis](#Exploratory-Data-Analysis)\n",
    "- [Convert Date Columns to Datetime](#Convert-Date-Columns-to-Datetime)\n",
    "- [Identify Missing Values](#Identify-Missing-Values)\n",
    "- [Address Outliers In Data Set](#Address-Outliers-In-Data-Set)\n",
    "- [Price](#Price)\n",
    "- [Kilometers Driven](#Kilometers-Driven)\n",
    "- [Power PS](#Power-PS)\n",
    "- [Vehichle Type](#Vehichle-Type)\n",
    "- [Car Brands](#Car-Brands)\n",
    "- [Fuel Types](#Fuel-Types)\n",
    "- [Kilometers vs. Price](#Kilometers-vs.-Price)\n",
    "- [Transmission Type](#Transmission-Type)\n",
    "- [Damage To Vehicle](#Damage-To-Vehicle)\n",
    "- [Revisting Max Price](#Revisting-Max-Price)\n",
    "\n"
   ]
  },
  {
   "cell_type": "markdown",
   "metadata": {},
   "source": [
    "## Import Data"
   ]
  },
  {
   "cell_type": "code",
   "execution_count": 533,
   "metadata": {},
   "outputs": [],
   "source": [
    "df = pd.read_csv('./data/autos.csv', encoding = 'latin-1')"
   ]
  },
  {
   "cell_type": "code",
   "execution_count": 534,
   "metadata": {},
   "outputs": [
    {
     "data": {
      "text/plain": [
       "limousine     95894\n",
       "kleinwagen    80023\n",
       "kombi         67564\n",
       "bus           30201\n",
       "cabrio        22898\n",
       "coupe         19015\n",
       "suv           14707\n",
       "andere         3357\n",
       "Name: vehicleType, dtype: int64"
      ]
     },
     "execution_count": 534,
     "metadata": {},
     "output_type": "execute_result"
    }
   ],
   "source": [
    "df['vehicleType'].value_counts()"
   ]
  },
  {
   "cell_type": "code",
   "execution_count": 535,
   "metadata": {},
   "outputs": [
    {
     "data": {
      "text/html": [
       "<div>\n",
       "<style scoped>\n",
       "    .dataframe tbody tr th:only-of-type {\n",
       "        vertical-align: middle;\n",
       "    }\n",
       "\n",
       "    .dataframe tbody tr th {\n",
       "        vertical-align: top;\n",
       "    }\n",
       "\n",
       "    .dataframe thead th {\n",
       "        text-align: right;\n",
       "    }\n",
       "</style>\n",
       "<table border=\"1\" class=\"dataframe\">\n",
       "  <thead>\n",
       "    <tr style=\"text-align: right;\">\n",
       "      <th></th>\n",
       "      <th>dateCrawled</th>\n",
       "      <th>name</th>\n",
       "      <th>seller</th>\n",
       "      <th>offerType</th>\n",
       "      <th>price</th>\n",
       "      <th>abtest</th>\n",
       "      <th>vehicleType</th>\n",
       "      <th>yearOfRegistration</th>\n",
       "      <th>gearbox</th>\n",
       "      <th>powerPS</th>\n",
       "      <th>model</th>\n",
       "      <th>kilometer</th>\n",
       "      <th>monthOfRegistration</th>\n",
       "      <th>fuelType</th>\n",
       "      <th>brand</th>\n",
       "      <th>notRepairedDamage</th>\n",
       "      <th>dateCreated</th>\n",
       "      <th>nrOfPictures</th>\n",
       "      <th>postalCode</th>\n",
       "      <th>lastSeen</th>\n",
       "    </tr>\n",
       "  </thead>\n",
       "  <tbody>\n",
       "    <tr>\n",
       "      <th>0</th>\n",
       "      <td>2016-03-24 11:52:17</td>\n",
       "      <td>Golf_3_1.6</td>\n",
       "      <td>privat</td>\n",
       "      <td>Angebot</td>\n",
       "      <td>480</td>\n",
       "      <td>test</td>\n",
       "      <td>NaN</td>\n",
       "      <td>1993</td>\n",
       "      <td>manuell</td>\n",
       "      <td>0</td>\n",
       "      <td>golf</td>\n",
       "      <td>150000</td>\n",
       "      <td>0</td>\n",
       "      <td>benzin</td>\n",
       "      <td>volkswagen</td>\n",
       "      <td>NaN</td>\n",
       "      <td>2016-03-24 00:00:00</td>\n",
       "      <td>0</td>\n",
       "      <td>70435</td>\n",
       "      <td>2016-04-07 03:16:57</td>\n",
       "    </tr>\n",
       "    <tr>\n",
       "      <th>1</th>\n",
       "      <td>2016-03-24 10:58:45</td>\n",
       "      <td>A5_Sportback_2.7_Tdi</td>\n",
       "      <td>privat</td>\n",
       "      <td>Angebot</td>\n",
       "      <td>18300</td>\n",
       "      <td>test</td>\n",
       "      <td>coupe</td>\n",
       "      <td>2011</td>\n",
       "      <td>manuell</td>\n",
       "      <td>190</td>\n",
       "      <td>NaN</td>\n",
       "      <td>125000</td>\n",
       "      <td>5</td>\n",
       "      <td>diesel</td>\n",
       "      <td>audi</td>\n",
       "      <td>ja</td>\n",
       "      <td>2016-03-24 00:00:00</td>\n",
       "      <td>0</td>\n",
       "      <td>66954</td>\n",
       "      <td>2016-04-07 01:46:50</td>\n",
       "    </tr>\n",
       "    <tr>\n",
       "      <th>2</th>\n",
       "      <td>2016-03-14 12:52:21</td>\n",
       "      <td>Jeep_Grand_Cherokee_\"Overland\"</td>\n",
       "      <td>privat</td>\n",
       "      <td>Angebot</td>\n",
       "      <td>9800</td>\n",
       "      <td>test</td>\n",
       "      <td>suv</td>\n",
       "      <td>2004</td>\n",
       "      <td>automatik</td>\n",
       "      <td>163</td>\n",
       "      <td>grand</td>\n",
       "      <td>125000</td>\n",
       "      <td>8</td>\n",
       "      <td>diesel</td>\n",
       "      <td>jeep</td>\n",
       "      <td>NaN</td>\n",
       "      <td>2016-03-14 00:00:00</td>\n",
       "      <td>0</td>\n",
       "      <td>90480</td>\n",
       "      <td>2016-04-05 12:47:46</td>\n",
       "    </tr>\n",
       "    <tr>\n",
       "      <th>3</th>\n",
       "      <td>2016-03-17 16:54:04</td>\n",
       "      <td>GOLF_4_1_4__3TÜRER</td>\n",
       "      <td>privat</td>\n",
       "      <td>Angebot</td>\n",
       "      <td>1500</td>\n",
       "      <td>test</td>\n",
       "      <td>kleinwagen</td>\n",
       "      <td>2001</td>\n",
       "      <td>manuell</td>\n",
       "      <td>75</td>\n",
       "      <td>golf</td>\n",
       "      <td>150000</td>\n",
       "      <td>6</td>\n",
       "      <td>benzin</td>\n",
       "      <td>volkswagen</td>\n",
       "      <td>nein</td>\n",
       "      <td>2016-03-17 00:00:00</td>\n",
       "      <td>0</td>\n",
       "      <td>91074</td>\n",
       "      <td>2016-03-17 17:40:17</td>\n",
       "    </tr>\n",
       "    <tr>\n",
       "      <th>4</th>\n",
       "      <td>2016-03-31 17:25:20</td>\n",
       "      <td>Skoda_Fabia_1.4_TDI_PD_Classic</td>\n",
       "      <td>privat</td>\n",
       "      <td>Angebot</td>\n",
       "      <td>3600</td>\n",
       "      <td>test</td>\n",
       "      <td>kleinwagen</td>\n",
       "      <td>2008</td>\n",
       "      <td>manuell</td>\n",
       "      <td>69</td>\n",
       "      <td>fabia</td>\n",
       "      <td>90000</td>\n",
       "      <td>7</td>\n",
       "      <td>diesel</td>\n",
       "      <td>skoda</td>\n",
       "      <td>nein</td>\n",
       "      <td>2016-03-31 00:00:00</td>\n",
       "      <td>0</td>\n",
       "      <td>60437</td>\n",
       "      <td>2016-04-06 10:17:21</td>\n",
       "    </tr>\n",
       "  </tbody>\n",
       "</table>\n",
       "</div>"
      ],
      "text/plain": [
       "           dateCrawled                            name  seller offerType  \\\n",
       "0  2016-03-24 11:52:17                      Golf_3_1.6  privat   Angebot   \n",
       "1  2016-03-24 10:58:45            A5_Sportback_2.7_Tdi  privat   Angebot   \n",
       "2  2016-03-14 12:52:21  Jeep_Grand_Cherokee_\"Overland\"  privat   Angebot   \n",
       "3  2016-03-17 16:54:04              GOLF_4_1_4__3TÜRER  privat   Angebot   \n",
       "4  2016-03-31 17:25:20  Skoda_Fabia_1.4_TDI_PD_Classic  privat   Angebot   \n",
       "\n",
       "   price abtest vehicleType  yearOfRegistration    gearbox  powerPS  model  \\\n",
       "0    480   test         NaN                1993    manuell        0   golf   \n",
       "1  18300   test       coupe                2011    manuell      190    NaN   \n",
       "2   9800   test         suv                2004  automatik      163  grand   \n",
       "3   1500   test  kleinwagen                2001    manuell       75   golf   \n",
       "4   3600   test  kleinwagen                2008    manuell       69  fabia   \n",
       "\n",
       "   kilometer  monthOfRegistration fuelType       brand notRepairedDamage  \\\n",
       "0     150000                    0   benzin  volkswagen               NaN   \n",
       "1     125000                    5   diesel        audi                ja   \n",
       "2     125000                    8   diesel        jeep               NaN   \n",
       "3     150000                    6   benzin  volkswagen              nein   \n",
       "4      90000                    7   diesel       skoda              nein   \n",
       "\n",
       "           dateCreated  nrOfPictures  postalCode             lastSeen  \n",
       "0  2016-03-24 00:00:00             0       70435  2016-04-07 03:16:57  \n",
       "1  2016-03-24 00:00:00             0       66954  2016-04-07 01:46:50  \n",
       "2  2016-03-14 00:00:00             0       90480  2016-04-05 12:47:46  \n",
       "3  2016-03-17 00:00:00             0       91074  2016-03-17 17:40:17  \n",
       "4  2016-03-31 00:00:00             0       60437  2016-04-06 10:17:21  "
      ]
     },
     "execution_count": 535,
     "metadata": {},
     "output_type": "execute_result"
    }
   ],
   "source": [
    "df.head()"
   ]
  },
  {
   "cell_type": "code",
   "execution_count": 536,
   "metadata": {},
   "outputs": [
    {
     "data": {
      "text/plain": [
       "test       192585\n",
       "control    178943\n",
       "Name: abtest, dtype: int64"
      ]
     },
     "execution_count": 536,
     "metadata": {},
     "output_type": "execute_result"
    }
   ],
   "source": [
    "df['abtest'].value_counts()"
   ]
  },
  {
   "cell_type": "markdown",
   "metadata": {},
   "source": [
    "## Data Dictionary"
   ]
  },
  {
   "cell_type": "markdown",
   "metadata": {},
   "source": [
    "The data for this project was taken from autos from Kaggle. The data was scraped from \"\" , which is a website similar to ebay in Germany. Translation of German words will be provided at points along this notebook. "
   ]
  },
  {
   "cell_type": "markdown",
   "metadata": {},
   "source": [
    "|Column|Type|Description|\n",
    "|:---|---|:---|\n",
    "|Date Crawled|string|When this ad was first scraped from the website \n",
    "|Name|string|Name of the Car (Ex. VW Golf 1.87)\n",
    "|Seller|string|Seller Type, Private or Dealer \n",
    "|Offer Type|string|The average sat Math score\n",
    "|Price|int|Listed price of car\n",
    "|AB Test|string|Offer is a test or control \n",
    "|Vehicle Type|string|Type of vehcile (SUV, Coupe, Van, etc.)\n",
    "|Year of Registration|int|When the vehicle was first registered\n",
    "|Gearbox|string|Transmission type (Manual or Automatic)\n",
    "|PowerPs|int|Power of the car is PS\n",
    "|Model|string|Model of the vehicle (VW Golf, Audi A4, BMW M3)\n",
    "|Kilometer|int|Number of ilometers driven\n",
    "|Month of Registraion|string|Which month the car was first registered\n",
    "|Fuel Type|string|What type of fuel the car uses (Diesel, Gasoline, Electric)\n",
    "|Brand|string|The Vehicle Manufactuer (Toyota, Volkwagen, Honda)\n",
    "|Not Repaired Damage|string|If the car has damage that is unrepaired\n",
    "|Date Created|string|The date for which the ad at ebay was created\n",
    "|Postal Code|int|Postal Code of Seller/Cars location\n",
    "|Last Seen|string|When the web scraper last saw the ad online"
   ]
  },
  {
   "cell_type": "markdown",
   "metadata": {},
   "source": [
    "# Exploratory Data Analysis"
   ]
  },
  {
   "cell_type": "code",
   "execution_count": 537,
   "metadata": {},
   "outputs": [
    {
     "data": {
      "text/plain": [
       "(371528, 20)"
      ]
     },
     "execution_count": 537,
     "metadata": {},
     "output_type": "execute_result"
    }
   ],
   "source": [
    "df.shape"
   ]
  },
  {
   "cell_type": "code",
   "execution_count": 538,
   "metadata": {},
   "outputs": [
    {
     "data": {
      "text/html": [
       "<div>\n",
       "<style scoped>\n",
       "    .dataframe tbody tr th:only-of-type {\n",
       "        vertical-align: middle;\n",
       "    }\n",
       "\n",
       "    .dataframe tbody tr th {\n",
       "        vertical-align: top;\n",
       "    }\n",
       "\n",
       "    .dataframe thead th {\n",
       "        text-align: right;\n",
       "    }\n",
       "</style>\n",
       "<table border=\"1\" class=\"dataframe\">\n",
       "  <thead>\n",
       "    <tr style=\"text-align: right;\">\n",
       "      <th></th>\n",
       "      <th>count</th>\n",
       "      <th>mean</th>\n",
       "      <th>std</th>\n",
       "      <th>min</th>\n",
       "      <th>25%</th>\n",
       "      <th>50%</th>\n",
       "      <th>75%</th>\n",
       "      <th>max</th>\n",
       "    </tr>\n",
       "  </thead>\n",
       "  <tbody>\n",
       "    <tr>\n",
       "      <th>price</th>\n",
       "      <td>371528.0</td>\n",
       "      <td>17295.141865</td>\n",
       "      <td>3.587954e+06</td>\n",
       "      <td>0.0</td>\n",
       "      <td>1150.0</td>\n",
       "      <td>2950.0</td>\n",
       "      <td>7200.0</td>\n",
       "      <td>2.147484e+09</td>\n",
       "    </tr>\n",
       "    <tr>\n",
       "      <th>yearOfRegistration</th>\n",
       "      <td>371528.0</td>\n",
       "      <td>2004.577997</td>\n",
       "      <td>9.286660e+01</td>\n",
       "      <td>1000.0</td>\n",
       "      <td>1999.0</td>\n",
       "      <td>2003.0</td>\n",
       "      <td>2008.0</td>\n",
       "      <td>9.999000e+03</td>\n",
       "    </tr>\n",
       "    <tr>\n",
       "      <th>powerPS</th>\n",
       "      <td>371528.0</td>\n",
       "      <td>115.549477</td>\n",
       "      <td>1.921396e+02</td>\n",
       "      <td>0.0</td>\n",
       "      <td>70.0</td>\n",
       "      <td>105.0</td>\n",
       "      <td>150.0</td>\n",
       "      <td>2.000000e+04</td>\n",
       "    </tr>\n",
       "    <tr>\n",
       "      <th>kilometer</th>\n",
       "      <td>371528.0</td>\n",
       "      <td>125618.688228</td>\n",
       "      <td>4.011234e+04</td>\n",
       "      <td>5000.0</td>\n",
       "      <td>125000.0</td>\n",
       "      <td>150000.0</td>\n",
       "      <td>150000.0</td>\n",
       "      <td>1.500000e+05</td>\n",
       "    </tr>\n",
       "    <tr>\n",
       "      <th>monthOfRegistration</th>\n",
       "      <td>371528.0</td>\n",
       "      <td>5.734445</td>\n",
       "      <td>3.712412e+00</td>\n",
       "      <td>0.0</td>\n",
       "      <td>3.0</td>\n",
       "      <td>6.0</td>\n",
       "      <td>9.0</td>\n",
       "      <td>1.200000e+01</td>\n",
       "    </tr>\n",
       "    <tr>\n",
       "      <th>nrOfPictures</th>\n",
       "      <td>371528.0</td>\n",
       "      <td>0.000000</td>\n",
       "      <td>0.000000e+00</td>\n",
       "      <td>0.0</td>\n",
       "      <td>0.0</td>\n",
       "      <td>0.0</td>\n",
       "      <td>0.0</td>\n",
       "      <td>0.000000e+00</td>\n",
       "    </tr>\n",
       "    <tr>\n",
       "      <th>postalCode</th>\n",
       "      <td>371528.0</td>\n",
       "      <td>50820.667640</td>\n",
       "      <td>2.579908e+04</td>\n",
       "      <td>1067.0</td>\n",
       "      <td>30459.0</td>\n",
       "      <td>49610.0</td>\n",
       "      <td>71546.0</td>\n",
       "      <td>9.999800e+04</td>\n",
       "    </tr>\n",
       "  </tbody>\n",
       "</table>\n",
       "</div>"
      ],
      "text/plain": [
       "                        count           mean           std     min       25%  \\\n",
       "price                371528.0   17295.141865  3.587954e+06     0.0    1150.0   \n",
       "yearOfRegistration   371528.0    2004.577997  9.286660e+01  1000.0    1999.0   \n",
       "powerPS              371528.0     115.549477  1.921396e+02     0.0      70.0   \n",
       "kilometer            371528.0  125618.688228  4.011234e+04  5000.0  125000.0   \n",
       "monthOfRegistration  371528.0       5.734445  3.712412e+00     0.0       3.0   \n",
       "nrOfPictures         371528.0       0.000000  0.000000e+00     0.0       0.0   \n",
       "postalCode           371528.0   50820.667640  2.579908e+04  1067.0   30459.0   \n",
       "\n",
       "                          50%       75%           max  \n",
       "price                  2950.0    7200.0  2.147484e+09  \n",
       "yearOfRegistration     2003.0    2008.0  9.999000e+03  \n",
       "powerPS                 105.0     150.0  2.000000e+04  \n",
       "kilometer            150000.0  150000.0  1.500000e+05  \n",
       "monthOfRegistration       6.0       9.0  1.200000e+01  \n",
       "nrOfPictures              0.0       0.0  0.000000e+00  \n",
       "postalCode            49610.0   71546.0  9.999800e+04  "
      ]
     },
     "execution_count": 538,
     "metadata": {},
     "output_type": "execute_result"
    }
   ],
   "source": [
    "df.describe().T"
   ]
  },
  {
   "cell_type": "code",
   "execution_count": 539,
   "metadata": {},
   "outputs": [
    {
     "data": {
      "text/plain": [
       "dateCrawled            object\n",
       "name                   object\n",
       "seller                 object\n",
       "offerType              object\n",
       "price                   int64\n",
       "abtest                 object\n",
       "vehicleType            object\n",
       "yearOfRegistration      int64\n",
       "gearbox                object\n",
       "powerPS                 int64\n",
       "model                  object\n",
       "kilometer               int64\n",
       "monthOfRegistration     int64\n",
       "fuelType               object\n",
       "brand                  object\n",
       "notRepairedDamage      object\n",
       "dateCreated            object\n",
       "nrOfPictures            int64\n",
       "postalCode              int64\n",
       "lastSeen               object\n",
       "dtype: object"
      ]
     },
     "execution_count": 539,
     "metadata": {},
     "output_type": "execute_result"
    }
   ],
   "source": [
    "df.dtypes"
   ]
  },
  {
   "cell_type": "markdown",
   "metadata": {},
   "source": [
    "### Convert date columns to datetime"
   ]
  },
  {
   "cell_type": "code",
   "execution_count": 540,
   "metadata": {},
   "outputs": [],
   "source": [
    "df['dateCrawled'] = pd.to_datetime(df['dateCrawled'])"
   ]
  },
  {
   "cell_type": "code",
   "execution_count": 541,
   "metadata": {},
   "outputs": [],
   "source": [
    "df['dateCreated'] = pd.to_datetime(df['dateCreated'])"
   ]
  },
  {
   "cell_type": "code",
   "execution_count": 542,
   "metadata": {},
   "outputs": [],
   "source": [
    "df['lastSeen'] = pd.to_datetime(df['lastSeen'])"
   ]
  },
  {
   "cell_type": "code",
   "execution_count": 543,
   "metadata": {},
   "outputs": [],
   "source": [
    "df['Ad_Duration'] = df['lastSeen'] - df['dateCreated']"
   ]
  },
  {
   "cell_type": "code",
   "execution_count": 544,
   "metadata": {},
   "outputs": [
    {
     "data": {
      "text/plain": [
       "dtype('<m8[ns]')"
      ]
     },
     "execution_count": 544,
     "metadata": {},
     "output_type": "execute_result"
    }
   ],
   "source": [
    "df['Ad_Duration'].dtypes"
   ]
  },
  {
   "cell_type": "code",
   "execution_count": 545,
   "metadata": {},
   "outputs": [],
   "source": [
    "#df['Ad_Duration'] = df['Ad_Duration'].astype(int)"
   ]
  },
  {
   "cell_type": "code",
   "execution_count": 546,
   "metadata": {},
   "outputs": [],
   "source": [
    "ad_test = df['Ad_Duration'][0]"
   ]
  },
  {
   "cell_type": "code",
   "execution_count": 547,
   "metadata": {},
   "outputs": [
    {
     "data": {
      "text/plain": [
       "14"
      ]
     },
     "execution_count": 547,
     "metadata": {},
     "output_type": "execute_result"
    }
   ],
   "source": [
    "ad_test.days"
   ]
  },
  {
   "cell_type": "markdown",
   "metadata": {},
   "source": [
    "Create a feature \"Ad Duration Days\" which is the number of days the ad listing has been up on the website. The number of days a car is posted on the website could be correlated to the price. "
   ]
  },
  {
   "cell_type": "code",
   "execution_count": 548,
   "metadata": {},
   "outputs": [],
   "source": [
    "df['Ad_Duration_days'] = df['Ad_Duration'].apply(lambda x: x.days)"
   ]
  },
  {
   "cell_type": "markdown",
   "metadata": {},
   "source": [
    "The fields lastSeen and dateCreated could be used to estimate how long a car will online before it has been sold."
   ]
  },
  {
   "cell_type": "code",
   "execution_count": 549,
   "metadata": {},
   "outputs": [
    {
     "data": {
      "text/plain": [
       "dateCrawled             datetime64[ns]\n",
       "name                            object\n",
       "seller                          object\n",
       "offerType                       object\n",
       "price                            int64\n",
       "abtest                          object\n",
       "vehicleType                     object\n",
       "yearOfRegistration               int64\n",
       "gearbox                         object\n",
       "powerPS                          int64\n",
       "model                           object\n",
       "kilometer                        int64\n",
       "monthOfRegistration              int64\n",
       "fuelType                        object\n",
       "brand                           object\n",
       "notRepairedDamage               object\n",
       "dateCreated             datetime64[ns]\n",
       "nrOfPictures                     int64\n",
       "postalCode                       int64\n",
       "lastSeen                datetime64[ns]\n",
       "Ad_Duration            timedelta64[ns]\n",
       "Ad_Duration_days                 int64\n",
       "dtype: object"
      ]
     },
     "execution_count": 549,
     "metadata": {},
     "output_type": "execute_result"
    }
   ],
   "source": [
    "df.dtypes"
   ]
  },
  {
   "cell_type": "markdown",
   "metadata": {},
   "source": [
    "### Identify Missing Values"
   ]
  },
  {
   "cell_type": "code",
   "execution_count": 550,
   "metadata": {},
   "outputs": [
    {
     "data": {
      "text/plain": [
       "dateCrawled                0\n",
       "name                       0\n",
       "seller                     0\n",
       "offerType                  0\n",
       "price                      0\n",
       "abtest                     0\n",
       "vehicleType            37869\n",
       "yearOfRegistration         0\n",
       "gearbox                20209\n",
       "powerPS                    0\n",
       "model                  20484\n",
       "kilometer                  0\n",
       "monthOfRegistration        0\n",
       "fuelType               33386\n",
       "brand                      0\n",
       "notRepairedDamage      72060\n",
       "dateCreated                0\n",
       "nrOfPictures               0\n",
       "postalCode                 0\n",
       "lastSeen                   0\n",
       "Ad_Duration                0\n",
       "Ad_Duration_days           0\n",
       "dtype: int64"
      ]
     },
     "execution_count": 550,
     "metadata": {},
     "output_type": "execute_result"
    }
   ],
   "source": [
    "df.isnull().sum()"
   ]
  },
  {
   "cell_type": "code",
   "execution_count": 551,
   "metadata": {},
   "outputs": [
    {
     "data": {
      "image/png": "[encoded data removed]",
      "text/plain": [
       "<Figure size 432x288 with 1 Axes>"
      ]
     },
     "metadata": {},
     "output_type": "display_data"
    }
   ],
   "source": [
    "#visualize null values\n",
    "plt.title(\"Missing Values\")\n",
    "plt.xlabel(\"Features\")\n",
    "plt.ylabel(\"Frequency\")\n",
    "df.isnull().sum().plot(kind = 'bar');"
   ]
  },
  {
   "cell_type": "markdown",
   "metadata": {},
   "source": [
    "Determine if any null values are less than 5% of the dataset. If so we may just drop the null values from the dataset, if not we will have to impute the missing data or take a pattern submodel approach if possible. "
   ]
  },
  {
   "cell_type": "code",
   "execution_count": 552,
   "metadata": {},
   "outputs": [
    {
     "data": {
      "text/html": [
       "<div>\n",
       "<style scoped>\n",
       "    .dataframe tbody tr th:only-of-type {\n",
       "        vertical-align: middle;\n",
       "    }\n",
       "\n",
       "    .dataframe tbody tr th {\n",
       "        vertical-align: top;\n",
       "    }\n",
       "\n",
       "    .dataframe thead th {\n",
       "        text-align: right;\n",
       "    }\n",
       "</style>\n",
       "<table border=\"1\" class=\"dataframe\">\n",
       "  <thead>\n",
       "    <tr style=\"text-align: right;\">\n",
       "      <th></th>\n",
       "      <th>null</th>\n",
       "      <th>percent</th>\n",
       "    </tr>\n",
       "  </thead>\n",
       "  <tbody>\n",
       "    <tr>\n",
       "      <th>notRepairedDamage</th>\n",
       "      <td>72060</td>\n",
       "      <td>0.193956</td>\n",
       "    </tr>\n",
       "    <tr>\n",
       "      <th>vehicleType</th>\n",
       "      <td>37869</td>\n",
       "      <td>0.101928</td>\n",
       "    </tr>\n",
       "    <tr>\n",
       "      <th>fuelType</th>\n",
       "      <td>33386</td>\n",
       "      <td>0.089861</td>\n",
       "    </tr>\n",
       "    <tr>\n",
       "      <th>model</th>\n",
       "      <td>20484</td>\n",
       "      <td>0.055134</td>\n",
       "    </tr>\n",
       "    <tr>\n",
       "      <th>gearbox</th>\n",
       "      <td>20209</td>\n",
       "      <td>0.054394</td>\n",
       "    </tr>\n",
       "    <tr>\n",
       "      <th>dateCrawled</th>\n",
       "      <td>0</td>\n",
       "      <td>0.000000</td>\n",
       "    </tr>\n",
       "    <tr>\n",
       "      <th>Ad_Duration</th>\n",
       "      <td>0</td>\n",
       "      <td>0.000000</td>\n",
       "    </tr>\n",
       "    <tr>\n",
       "      <th>lastSeen</th>\n",
       "      <td>0</td>\n",
       "      <td>0.000000</td>\n",
       "    </tr>\n",
       "    <tr>\n",
       "      <th>postalCode</th>\n",
       "      <td>0</td>\n",
       "      <td>0.000000</td>\n",
       "    </tr>\n",
       "    <tr>\n",
       "      <th>nrOfPictures</th>\n",
       "      <td>0</td>\n",
       "      <td>0.000000</td>\n",
       "    </tr>\n",
       "    <tr>\n",
       "      <th>dateCreated</th>\n",
       "      <td>0</td>\n",
       "      <td>0.000000</td>\n",
       "    </tr>\n",
       "    <tr>\n",
       "      <th>brand</th>\n",
       "      <td>0</td>\n",
       "      <td>0.000000</td>\n",
       "    </tr>\n",
       "    <tr>\n",
       "      <th>kilometer</th>\n",
       "      <td>0</td>\n",
       "      <td>0.000000</td>\n",
       "    </tr>\n",
       "    <tr>\n",
       "      <th>monthOfRegistration</th>\n",
       "      <td>0</td>\n",
       "      <td>0.000000</td>\n",
       "    </tr>\n",
       "    <tr>\n",
       "      <th>name</th>\n",
       "      <td>0</td>\n",
       "      <td>0.000000</td>\n",
       "    </tr>\n",
       "    <tr>\n",
       "      <th>powerPS</th>\n",
       "      <td>0</td>\n",
       "      <td>0.000000</td>\n",
       "    </tr>\n",
       "    <tr>\n",
       "      <th>yearOfRegistration</th>\n",
       "      <td>0</td>\n",
       "      <td>0.000000</td>\n",
       "    </tr>\n",
       "    <tr>\n",
       "      <th>abtest</th>\n",
       "      <td>0</td>\n",
       "      <td>0.000000</td>\n",
       "    </tr>\n",
       "    <tr>\n",
       "      <th>price</th>\n",
       "      <td>0</td>\n",
       "      <td>0.000000</td>\n",
       "    </tr>\n",
       "    <tr>\n",
       "      <th>offerType</th>\n",
       "      <td>0</td>\n",
       "      <td>0.000000</td>\n",
       "    </tr>\n",
       "    <tr>\n",
       "      <th>seller</th>\n",
       "      <td>0</td>\n",
       "      <td>0.000000</td>\n",
       "    </tr>\n",
       "    <tr>\n",
       "      <th>Ad_Duration_days</th>\n",
       "      <td>0</td>\n",
       "      <td>0.000000</td>\n",
       "    </tr>\n",
       "  </tbody>\n",
       "</table>\n",
       "</div>"
      ],
      "text/plain": [
       "                      null   percent\n",
       "notRepairedDamage    72060  0.193956\n",
       "vehicleType          37869  0.101928\n",
       "fuelType             33386  0.089861\n",
       "model                20484  0.055134\n",
       "gearbox              20209  0.054394\n",
       "dateCrawled              0  0.000000\n",
       "Ad_Duration              0  0.000000\n",
       "lastSeen                 0  0.000000\n",
       "postalCode               0  0.000000\n",
       "nrOfPictures             0  0.000000\n",
       "dateCreated              0  0.000000\n",
       "brand                    0  0.000000\n",
       "kilometer                0  0.000000\n",
       "monthOfRegistration      0  0.000000\n",
       "name                     0  0.000000\n",
       "powerPS                  0  0.000000\n",
       "yearOfRegistration       0  0.000000\n",
       "abtest                   0  0.000000\n",
       "price                    0  0.000000\n",
       "offerType                0  0.000000\n",
       "seller                   0  0.000000\n",
       "Ad_Duration_days         0  0.000000"
      ]
     },
     "execution_count": 552,
     "metadata": {},
     "output_type": "execute_result"
    }
   ],
   "source": [
    "nulls = df.isnull().sum()\n",
    "nulls = pd.DataFrame(nulls, columns = ['null'])\n",
    "total = len(df)\n",
    "nulls['percent']  = nulls['null']/total\n",
    "nulls.sort_values('percent', ascending = False)"
   ]
  },
  {
   "cell_type": "markdown",
   "metadata": {},
   "source": [
    "#### Missing Data"
   ]
  },
  {
   "cell_type": "markdown",
   "metadata": {},
   "source": [
    "Is the missing data Missing Completely At Random (MCAR), Missing At Random (MAR) or Not Missing At Random (NMAR). Look to see if any of the columns have a higher number of shared nulls to see if a pattern submodel approach can be taken to handle the missing data. "
   ]
  },
  {
   "cell_type": "code",
   "execution_count": 553,
   "metadata": {},
   "outputs": [],
   "source": [
    "no_damage = df['notRepairedDamage'].isnull()\n",
    "vtype = df[\"vehicleType\"].isnull()\n",
    "shared_null = no_damage & vtype"
   ]
  },
  {
   "cell_type": "code",
   "execution_count": 554,
   "metadata": {},
   "outputs": [
    {
     "name": "stdout",
     "output_type": "stream",
     "text": [
      "No Damage Nulls: 72060\n",
      "Vehicle Type Nulls: 37869\n",
      "Shared Nulls: 20756\n"
     ]
    }
   ],
   "source": [
    "print(f\"No Damage Nulls: {sum(no_damage)}\")\n",
    "print(f\"Vehicle Type Nulls: {sum(vtype)}\")\n",
    "print(f\"Shared Nulls: {sum(shared_null)}\")"
   ]
  },
  {
   "cell_type": "code",
   "execution_count": 555,
   "metadata": {},
   "outputs": [],
   "source": [
    "vehicle_nulls = df[\"vehicleType\"].isnull()\n",
    "fuel_nulls = df[\"fuelType\"].isnull()\n",
    "shared_nulls = vehicle_nulls & fuel_nulls"
   ]
  },
  {
   "cell_type": "code",
   "execution_count": 556,
   "metadata": {},
   "outputs": [
    {
     "name": "stdout",
     "output_type": "stream",
     "text": [
      "Vehicle Type Nulls: 37869\n",
      "Fuel Type Nulls: 33386\n",
      "Shared Nulls: 17495\n"
     ]
    }
   ],
   "source": [
    "print(f\"Vehicle Type Nulls: {sum(vehicle_nulls)}\")\n",
    "print(f\"Fuel Type Nulls: {sum(fuel_nulls)}\")\n",
    "print(f\"Shared Nulls: {sum(shared_nulls)}\")"
   ]
  },
  {
   "cell_type": "code",
   "execution_count": 557,
   "metadata": {},
   "outputs": [],
   "source": [
    "gearbox_nulls = df[\"gearbox\"].isnull()\n",
    "model_nulls = df[\"model\"].isnull()\n",
    "shared_nulls_1 = gearbox_nulls & model_nulls"
   ]
  },
  {
   "cell_type": "code",
   "execution_count": 558,
   "metadata": {},
   "outputs": [
    {
     "name": "stdout",
     "output_type": "stream",
     "text": [
      "Gearbox Nulls: 20209\n",
      "Model Nulls: 20484\n",
      "Shared Nulls: 4233\n"
     ]
    }
   ],
   "source": [
    "print(f\"Gearbox Nulls: {sum(gearbox_nulls)}\")\n",
    "print(f\"Model Nulls: {sum(model_nulls)}\")\n",
    "print(f\"Shared Nulls: {sum(shared_nulls_1)}\")"
   ]
  },
  {
   "cell_type": "code",
   "execution_count": 559,
   "metadata": {},
   "outputs": [],
   "source": [
    "vehicle_type_nulls = df[\"vehicleType\"].isnull()\n",
    "model_nulls1 = df[\"model\"].isnull()\n",
    "shared_nulls_2 = vehicle_type_nulls & model_nulls"
   ]
  },
  {
   "cell_type": "code",
   "execution_count": 560,
   "metadata": {},
   "outputs": [
    {
     "name": "stdout",
     "output_type": "stream",
     "text": [
      "Gearbox Nulls: 37869\n",
      "Model Nulls: 20484\n",
      "Shared Nulls: 6917\n"
     ]
    }
   ],
   "source": [
    "print(f\"Gearbox Nulls: {sum(vehicle_type_nulls)}\")\n",
    "print(f\"Model Nulls: {sum(model_nulls1)}\")\n",
    "print(f\"Shared Nulls: {sum(shared_nulls_2)}\")"
   ]
  },
  {
   "cell_type": "markdown",
   "metadata": {},
   "source": [
    "The missing data in this data set appears to be missing completely at random (MCAR). We anlayzed the shared null values of our features with missing values and observed a low percentage of shared nulls amongst them. Initially we wanted to use a pattern sub model approach to address the missing data but because the data is MCAR using multiple imputation or a missingness indicator can perform just as well as the pattern submodel approach"
   ]
  },
  {
   "cell_type": "markdown",
   "metadata": {},
   "source": [
    "## Address Outliers In Data Set"
   ]
  },
  {
   "cell_type": "markdown",
   "metadata": {},
   "source": [
    "## Price"
   ]
  },
  {
   "cell_type": "code",
   "execution_count": 561,
   "metadata": {},
   "outputs": [
    {
     "name": "stdout",
     "output_type": "stream",
     "text": [
      "Mean Price of Cars: 17295.14186548524\n",
      "Median Price of Cars: 2950.0\n",
      "Max Car Price: 2147483647\n",
      "Min Car Price: 0\n"
     ]
    }
   ],
   "source": [
    "print(f'Mean Price of Cars: {df.price.mean()}')\n",
    "print(f'Median Price of Cars: {df.price.median()}')\n",
    "print(f'Max Car Price: {df.price.max()}') \n",
    "print(f'Min Car Price: {df.price.min()}')"
   ]
  },
  {
   "cell_type": "code",
   "execution_count": 562,
   "metadata": {},
   "outputs": [
    {
     "data": {
      "text/plain": [
       "(10778, 22)"
      ]
     },
     "execution_count": 562,
     "metadata": {},
     "output_type": "execute_result"
    }
   ],
   "source": [
    "df[df['price'] == 0].shape"
   ]
  },
  {
   "cell_type": "code",
   "execution_count": 563,
   "metadata": {},
   "outputs": [
    {
     "data": {
      "text/plain": [
       "(17144, 22)"
      ]
     },
     "execution_count": 563,
     "metadata": {},
     "output_type": "execute_result"
    }
   ],
   "source": [
    "df[df['price'] > 20_000].shape"
   ]
  },
  {
   "cell_type": "code",
   "execution_count": 564,
   "metadata": {},
   "outputs": [
    {
     "data": {
      "text/plain": [
       "(36062, 22)"
      ]
     },
     "execution_count": 564,
     "metadata": {},
     "output_type": "execute_result"
    }
   ],
   "source": [
    "df[df['price'] < 500].shape"
   ]
  },
  {
   "cell_type": "code",
   "execution_count": 565,
   "metadata": {},
   "outputs": [
    {
     "data": {
      "text/plain": [
       "0.08620346245774207"
      ]
     },
     "execution_count": 565,
     "metadata": {},
     "output_type": "execute_result"
    }
   ],
   "source": [
    "#get percentage of cars above 150,000 (df[df['price'] > 150_000].value_counts(nomralize = True))\n",
    "len(df[df.price > 15000]) / len(df)"
   ]
  },
  {
   "cell_type": "code",
   "execution_count": 566,
   "metadata": {},
   "outputs": [],
   "source": [
    "df = df[df['price'] >= 499]"
   ]
  },
  {
   "cell_type": "markdown",
   "metadata": {},
   "source": [
    "Setting the min at 500 as outside research shows you can expect about $250-$500 for your junk car, depending on the vehicle's weight. We want to eliminate cars in the junk status range as a consumer is unlikely to purchase an car in this condition to actual use for transportation purposes."
   ]
  },
  {
   "cell_type": "code",
   "execution_count": 567,
   "metadata": {},
   "outputs": [],
   "source": [
    "df = df[df['price'] <= 150_000]"
   ]
  },
  {
   "cell_type": "code",
   "execution_count": 568,
   "metadata": {},
   "outputs": [
    {
     "data": {
      "text/plain": [
       "(335905, 22)"
      ]
     },
     "execution_count": 568,
     "metadata": {},
     "output_type": "execute_result"
    }
   ],
   "source": [
    "df.shape"
   ]
  },
  {
   "cell_type": "code",
   "execution_count": 569,
   "metadata": {},
   "outputs": [
    {
     "name": "stdout",
     "output_type": "stream",
     "text": [
      "Mean Price of Cars: 6238.0633661303045\n",
      "Median Price of Cars: 3500.0\n",
      "Max Car Price: 150000\n",
      "Min Car Price: 499\n"
     ]
    }
   ],
   "source": [
    "print(f'Mean Price of Cars: {df.price.mean()}')\n",
    "print(f'Median Price of Cars: {df.price.median()}')\n",
    "print(f'Max Car Price: {df.price.max()}') \n",
    "print(f'Min Car Price: {df.price.min()}')"
   ]
  },
  {
   "cell_type": "code",
   "execution_count": 570,
   "metadata": {},
   "outputs": [
    {
     "data": {
      "image/png": "[encoded data removed]",
      "text/plain": [
       "<Figure size 576x432 with 1 Axes>"
      ]
     },
     "metadata": {},
     "output_type": "display_data"
    }
   ],
   "source": [
    "size = 12\n",
    "plt.figure(figsize=(8,6))\n",
    "plt.title(\"Counts of Sale Price Ranges\", size = 16)\n",
    "plt.xlabel(\"Sale Price (€)\")\n",
    "plt.ylabel(\"Frequency\",)\n",
    "plt.xticks(size = size)\n",
    "plt.yticks(size = size)\n",
    "df[\"price\"].hist(bins = 15);"
   ]
  },
  {
   "cell_type": "markdown",
   "metadata": {},
   "source": [
    "There are cars that a worth more than 150,000 euro and after further inspection they do look legitimately priced as they are exotic or luxury cars. Since most of the data is clustered toward the low end of the price range (between 5,000 - 10,000 euros) we decided to only focused on vehicles between 500 euro and 20,000 euro. We have a considerable range in the quality of automobiles in our dataset. Only the lower range we have cars that could be consdiered \"junkers\" all the way up to luxury automobiles. However, the collectors items are the outliers in the dataset and we felt they could be included up until a certain point, there were only 232 cars priced over 150,000 so we decided to establish our max price there. Max price may be reduced if we observe poor RMSE scores. The metric RMSE is greatly affected by outliers and this is something to be aware of once we begin modeling. "
   ]
  },
  {
   "cell_type": "code",
   "execution_count": 571,
   "metadata": {},
   "outputs": [
    {
     "data": {
      "image/png": "[encoded data removed]",
      "text/plain": [
       "<Figure size 576x360 with 1 Axes>"
      ]
     },
     "metadata": {},
     "output_type": "display_data"
    }
   ],
   "source": [
    "#need a title & reduce size to show a better box plot \n",
    "plt.figure(figsize=(8,5))\n",
    "sns.boxplot(y='price', data=df, width=0.5);"
   ]
  },
  {
   "cell_type": "markdown",
   "metadata": {},
   "source": [
    "The above box plot is somewhat hard to interpret because we have so many outliers. The majority of cars in our data set are less than €10,000 with a mean value just under €5,000. The upper quartile range is around €7,500. We observe litte spread between the firt quartile and third quartlie range but due to the large number of outliers it gives our box plot the squashed appearence. We have a lot of data in our data set and a large number of outliers. "
   ]
  },
  {
   "cell_type": "code",
   "execution_count": 572,
   "metadata": {},
   "outputs": [],
   "source": [
    "adjusted_price = np.log(df['price'])"
   ]
  },
  {
   "cell_type": "code",
   "execution_count": 573,
   "metadata": {},
   "outputs": [
    {
     "name": "stdout",
     "output_type": "stream",
     "text": [
      "Mean Log of Car Prices: 8.171698472870407\n",
      "Median Log of Car Prices: 8.160518247477505\n",
      "Max Log of Car Prices: 11.918390573078392\n",
      "Min Log of Car Prices: 6.212606095751519\n"
     ]
    }
   ],
   "source": [
    "print(f'Mean Log of Car Prices: {adjusted_price.mean()}')\n",
    "print(f'Median Log of Car Prices: {adjusted_price.median()}')\n",
    "print(f'Max Log of Car Prices: {adjusted_price.max()}') \n",
    "print(f'Min Log of Car Prices: {adjusted_price.min()}')"
   ]
  },
  {
   "cell_type": "markdown",
   "metadata": {},
   "source": [
    "Insert comments on adjusting prices to log values"
   ]
  },
  {
   "cell_type": "code",
   "execution_count": 574,
   "metadata": {},
   "outputs": [
    {
     "data": {
      "image/png": "[encoded data removed]",
      "text/plain": [
       "<Figure size 576x432 with 1 Axes>"
      ]
     },
     "metadata": {},
     "output_type": "display_data"
    }
   ],
   "source": [
    "size = 12\n",
    "plt.figure(figsize=(8,6))\n",
    "plt.title(\"Counts of Car log(Price) Ranges\", size = 16)\n",
    "plt.xlabel(\"Sale Price ($)\")\n",
    "plt.ylabel(\"Frequency\")\n",
    "plt.xticks(size = size * 4/5)\n",
    "plt.yticks(size = size)\n",
    "adjusted_price.hist(bins = 10);"
   ]
  },
  {
   "cell_type": "markdown",
   "metadata": {},
   "source": [
    "Insert write up on log price "
   ]
  },
  {
   "cell_type": "code",
   "execution_count": 575,
   "metadata": {},
   "outputs": [],
   "source": [
    "df['price_ln'] = np.log(df['price'])"
   ]
  },
  {
   "cell_type": "markdown",
   "metadata": {},
   "source": [
    "### Kilometers Driven"
   ]
  },
  {
   "cell_type": "code",
   "execution_count": 576,
   "metadata": {},
   "outputs": [
    {
     "data": {
      "text/plain": [
       "150000    0.636570\n",
       "125000    0.106346\n",
       "100000    0.044158\n",
       "90000     0.035742\n",
       "80000     0.031711\n",
       "70000     0.028234\n",
       "60000     0.025215\n",
       "50000     0.022104\n",
       "40000     0.018589\n",
       "30000     0.017213\n",
       "20000     0.015725\n",
       "5000      0.013167\n",
       "10000     0.005225\n",
       "Name: kilometer, dtype: float64"
      ]
     },
     "execution_count": 576,
     "metadata": {},
     "output_type": "execute_result"
    }
   ],
   "source": [
    "df.kilometer.value_counts(normalize = True)"
   ]
  },
  {
   "cell_type": "code",
   "execution_count": 577,
   "metadata": {},
   "outputs": [
    {
     "name": "stdout",
     "output_type": "stream",
     "text": [
      "Mean Kilometers Driven: 125235.27485449755\n",
      "Median Kilometers Driven: 150000.0\n",
      "Max Kilometers Driven: 150000\n",
      "Min Kilometers Driven: 5000\n"
     ]
    }
   ],
   "source": [
    "print(f'Mean Kilometers Driven: {df.kilometer.mean()}')\n",
    "print(f'Median Kilometers Driven: {df.kilometer.median()}')\n",
    "print(f'Max Kilometers Driven: {df.kilometer.max()}') \n",
    "print(f'Min Kilometers Driven: {df.kilometer.min()}')"
   ]
  },
  {
   "cell_type": "code",
   "execution_count": 578,
   "metadata": {},
   "outputs": [
    {
     "data": {
      "text/plain": [
       "(0, 23)"
      ]
     },
     "execution_count": 578,
     "metadata": {},
     "output_type": "execute_result"
    }
   ],
   "source": [
    "df[df['kilometer'] < 5_000].shape"
   ]
  },
  {
   "cell_type": "code",
   "execution_count": 579,
   "metadata": {},
   "outputs": [
    {
     "data": {
      "text/plain": [
       "(0, 23)"
      ]
     },
     "execution_count": 579,
     "metadata": {},
     "output_type": "execute_result"
    }
   ],
   "source": [
    "df[df['kilometer'] > 200_000].shape"
   ]
  },
  {
   "cell_type": "code",
   "execution_count": 580,
   "metadata": {},
   "outputs": [],
   "source": [
    "df = df[df['kilometer'] > 5000]"
   ]
  },
  {
   "cell_type": "code",
   "execution_count": 581,
   "metadata": {},
   "outputs": [
    {
     "data": {
      "text/plain": [
       "(331482, 23)"
      ]
     },
     "execution_count": 581,
     "metadata": {},
     "output_type": "execute_result"
    }
   ],
   "source": [
    "df.shape"
   ]
  },
  {
   "cell_type": "code",
   "execution_count": 582,
   "metadata": {},
   "outputs": [],
   "source": [
    "pvt = df.pivot_table(index = 'kilometer',\n",
    "                          values = 'price', aggfunc = np.mean)"
   ]
  },
  {
   "cell_type": "code",
   "execution_count": 583,
   "metadata": {},
   "outputs": [
    {
     "data": {
      "text/plain": [
       "<Figure size 1440x1296 with 0 Axes>"
      ]
     },
     "metadata": {},
     "output_type": "display_data"
    },
    {
     "data": {
      "image/png": "[encoded data removed]",
      "text/plain": [
       "<Figure size 432x288 with 1 Axes>"
      ]
     },
     "metadata": {},
     "output_type": "display_data"
    }
   ],
   "source": [
    "plt.figure(figsize =(20, 18))\n",
    "pvt.plot(kind = 'bar', color = 'blue')\n",
    "plt.xlabel('Kilometers Driven')\n",
    "plt.ylabel('Mean Price')\n",
    "plt.xticks(rotation = 90)\n",
    "plt.xticks(rotation=90)\n",
    "plt.title('Mean Price vs. Kilometers Driven', size = 20);"
   ]
  },
  {
   "cell_type": "markdown",
   "metadata": {},
   "source": [
    "Exact number of kilometers driven is not given, instead the number of of kilometers driven is segmented into categories; from 5,000 - 10,000 and then increasing by 10,000 until 100,000 where it increases by 25,000 k per grouping. "
   ]
  },
  {
   "cell_type": "code",
   "execution_count": 584,
   "metadata": {},
   "outputs": [
    {
     "data": {
      "text/plain": [
       "(1198, 23)"
      ]
     },
     "execution_count": 584,
     "metadata": {},
     "output_type": "execute_result"
    }
   ],
   "source": [
    "df[df['yearOfRegistration'] < 1970].shape"
   ]
  },
  {
   "cell_type": "code",
   "execution_count": 585,
   "metadata": {},
   "outputs": [
    {
     "data": {
      "text/plain": [
       "(38, 23)"
      ]
     },
     "execution_count": 585,
     "metadata": {},
     "output_type": "execute_result"
    }
   ],
   "source": [
    "df[df['yearOfRegistration'] > 2020].shape"
   ]
  },
  {
   "cell_type": "code",
   "execution_count": 586,
   "metadata": {},
   "outputs": [],
   "source": [
    "df = df[(df['yearOfRegistration'] > 1970) | (df['yearOfRegistration'] < 2020)]"
   ]
  },
  {
   "cell_type": "code",
   "execution_count": 587,
   "metadata": {},
   "outputs": [],
   "source": [
    "df = df[df['yearOfRegistration'] > 1970]"
   ]
  },
  {
   "cell_type": "code",
   "execution_count": 588,
   "metadata": {},
   "outputs": [],
   "source": [
    "df = df[df['yearOfRegistration'] < 2020]"
   ]
  },
  {
   "cell_type": "code",
   "execution_count": 589,
   "metadata": {},
   "outputs": [],
   "source": [
    "df['age'] = 2017 - df['yearOfRegistration']"
   ]
  },
  {
   "cell_type": "code",
   "execution_count": 590,
   "metadata": {},
   "outputs": [],
   "source": [
    "df.drop(columns = 'yearOfRegistration', inplace = True)"
   ]
  },
  {
   "cell_type": "code",
   "execution_count": 591,
   "metadata": {},
   "outputs": [
    {
     "data": {
      "text/plain": [
       "<bound method IndexOpsMixin.value_counts of 1          6\n",
       "2         13\n",
       "3         16\n",
       "4          9\n",
       "5         22\n",
       "          ..\n",
       "371523    12\n",
       "371524    17\n",
       "371525    21\n",
       "371526    15\n",
       "371527     4\n",
       "Name: age, Length: 330017, dtype: int64>"
      ]
     },
     "execution_count": 591,
     "metadata": {},
     "output_type": "execute_result"
    }
   ],
   "source": [
    "df.age.value_counts\n"
   ]
  },
  {
   "cell_type": "code",
   "execution_count": 592,
   "metadata": {},
   "outputs": [
    {
     "data": {
      "image/png": "[encoded data removed]",
      "text/plain": [
       "<Figure size 720x432 with 1 Axes>"
      ]
     },
     "metadata": {},
     "output_type": "display_data"
    }
   ],
   "source": [
    "plt.figure(figsize=(10,6))\n",
    "\n",
    "sns.distplot(df['age']).set_title('Distribution of Age of Vehicles', size = 20)\n",
    "plt.ylabel('Frequency');"
   ]
  },
  {
   "cell_type": "markdown",
   "metadata": {},
   "source": [
    "Year Of Registration is the year the car was first registered. We can infer from this information that this is the approximate age of the car. The year of registration will be subtracted from the year the data was collect (2017) to create an age feature in our dataset. The dataset included some outliers that we knew not to be true, such as cars listed from the year 1400 or 8455. These extremes could be removed because cars were not around in the 15th century and it is unlikely we would have cars from the future available on this list of pre-owned vehichles. There were cars that dated back to the early 20th century. However we will exclude cars before 1970 as it was only a small percentage of our dataset and these cars may be antiques or classics that may throw off our predicitons. This dataset is primarily focused on your typical used automobile that the average person would drive. We want to reduce the number of exotic or antique cars to get a better predicitons. "
   ]
  },
  {
   "cell_type": "markdown",
   "metadata": {},
   "source": [
    "## Power PS"
   ]
  },
  {
   "cell_type": "markdown",
   "metadata": {},
   "source": [
    "Although it’s still commonly used by carmakers, PS or Pferdestärke (horse strength in German) was actually replaced by kW as the EU's ‘legal’ measurement of engine power in 1992.  One PS is about 98.6% of a brake horsepower – the two are virtually interchangeable, and PS is sometimes referred to as 'metric horsepower'.\n",
    "\n"
   ]
  },
  {
   "cell_type": "code",
   "execution_count": 593,
   "metadata": {},
   "outputs": [],
   "source": [
    "#convert Power PS to kW & drop Power PS from columns when creating features(X)\n",
    "#df['Power_kW'] = df['PowerPS'] * .986"
   ]
  },
  {
   "cell_type": "code",
   "execution_count": 594,
   "metadata": {},
   "outputs": [
    {
     "name": "stdout",
     "output_type": "stream",
     "text": [
      "Mean Power PS D: 120.67007154176906\n",
      "Median Power PS: 110.0\n",
      "Max Power PS: 20000\n",
      "Min Power PS: 0\n"
     ]
    }
   ],
   "source": [
    "print(f'Mean Power PS D: {df.powerPS.mean()}')\n",
    "print(f'Median Power PS: {df.powerPS.median()}')\n",
    "print(f'Max Power PS: {df.powerPS.max()}') \n",
    "print(f'Min Power PS: {df.powerPS.min()}')"
   ]
  },
  {
   "cell_type": "code",
   "execution_count": 595,
   "metadata": {},
   "outputs": [
    {
     "data": {
      "text/plain": [
       "(330017, 23)"
      ]
     },
     "execution_count": 595,
     "metadata": {},
     "output_type": "execute_result"
    }
   ],
   "source": [
    "df.shape"
   ]
  },
  {
   "cell_type": "code",
   "execution_count": 596,
   "metadata": {},
   "outputs": [
    {
     "data": {
      "text/plain": [
       "(27690, 23)"
      ]
     },
     "execution_count": 596,
     "metadata": {},
     "output_type": "execute_result"
    }
   ],
   "source": [
    "df[df['powerPS'] == 0].shape"
   ]
  },
  {
   "cell_type": "code",
   "execution_count": 597,
   "metadata": {},
   "outputs": [
    {
     "data": {
      "text/plain": [
       "(236, 23)"
      ]
     },
     "execution_count": 597,
     "metadata": {},
     "output_type": "execute_result"
    }
   ],
   "source": [
    "df[df['powerPS'] > 1000].shape"
   ]
  },
  {
   "cell_type": "code",
   "execution_count": 598,
   "metadata": {},
   "outputs": [],
   "source": [
    "df = df[(df['powerPS'] < 1000) | (df['powerPS'] > 0)]"
   ]
  },
  {
   "cell_type": "code",
   "execution_count": 599,
   "metadata": {},
   "outputs": [],
   "source": [
    "# convert powerPS to Kw (insert markdwon cell on why)\n",
    "df['KwPower'] = df['powerPS'] * 0.7355"
   ]
  },
  {
   "cell_type": "code",
   "execution_count": 600,
   "metadata": {},
   "outputs": [],
   "source": [
    "df.drop(columns = 'powerPS', inplace = True)"
   ]
  },
  {
   "cell_type": "markdown",
   "metadata": {},
   "source": [
    "## Address Null Values"
   ]
  },
  {
   "cell_type": "markdown",
   "metadata": {},
   "source": [
    "All of the categories that have null values are categorical features. The first feature we wanted to address was model. We reviewed the value counts of each model for each brand and used the mode to to replace the missing data. The feature model had null values that was just over 5%. This is usually the threshold to just drop the missing data, but we wanted to replace the null values with the mode to see it's performance on the model. We will then remove these imputed values and run the model again to see which performs better. "
   ]
  },
  {
   "cell_type": "code",
   "execution_count": 601,
   "metadata": {},
   "outputs": [
    {
     "data": {
      "text/plain": [
       "limousine     88726\n",
       "kleinwagen    67814\n",
       "kombi         62676\n",
       "bus           28927\n",
       "cabrio        21706\n",
       "coupe         16991\n",
       "suv           14097\n",
       "andere         2652\n",
       "Name: vehicleType, dtype: int64"
      ]
     },
     "execution_count": 601,
     "metadata": {},
     "output_type": "execute_result"
    }
   ],
   "source": [
    "df['vehicleType'].value_counts()"
   ]
  },
  {
   "cell_type": "markdown",
   "metadata": {},
   "source": [
    "#### Model Null Values"
   ]
  },
  {
   "cell_type": "markdown",
   "metadata": {},
   "source": [
    "We will impute missing model types from our dataset with the mode value of each brand. For Volkswagen missing model types will be imputed with the moddel golf. "
   ]
  },
  {
   "cell_type": "code",
   "execution_count": 602,
   "metadata": {},
   "outputs": [
    {
     "data": {
      "text/plain": [
       "golf               26801\n",
       "andere             22763\n",
       "3er                19083\n",
       "polo               10598\n",
       "corsa               9807\n",
       "                   ...  \n",
       "samara                 5\n",
       "serie_2                4\n",
       "serie_3                3\n",
       "serie_1                1\n",
       "discovery_sport        1\n",
       "Name: model, Length: 251, dtype: int64"
      ]
     },
     "execution_count": 602,
     "metadata": {},
     "output_type": "execute_result"
    }
   ],
   "source": [
    "df.model.value_counts()"
   ]
  },
  {
   "cell_type": "code",
   "execution_count": 603,
   "metadata": {},
   "outputs": [],
   "source": [
    "vtype_mode = df.groupby('model')['vehicleType'].agg(pd.Series.mode)"
   ]
  },
  {
   "cell_type": "code",
   "execution_count": 604,
   "metadata": {},
   "outputs": [
    {
     "name": "stdout",
     "output_type": "stream",
     "text": [
      "elefantino ['kleinwagen' 'limousine']\n",
      "superb ['kombi' 'limousine']\n"
     ]
    }
   ],
   "source": [
    "for i,vtype in vtype_mode.iteritems():\n",
    "    if len(vtype) == 2:\n",
    "        print(i,vtype)\n",
    "    \n",
    "\n",
    "#vtype_mode.replace(np.array(['kleinwagen', 'limousine']), 'limousine').value_counts()"
   ]
  },
  {
   "cell_type": "code",
   "execution_count": 605,
   "metadata": {},
   "outputs": [],
   "source": [
    "vtype_mode['elefantino'] = 'limousine'\n",
    "vtype_mode['superb'] = 'limousine'\n",
    "vtype_mode['serie_2'] = 'suv'"
   ]
  },
  {
   "cell_type": "code",
   "execution_count": 606,
   "metadata": {},
   "outputs": [],
   "source": [
    "df['vehicleType'].fillna(df['model'], inplace = True)"
   ]
  },
  {
   "cell_type": "code",
   "execution_count": 607,
   "metadata": {},
   "outputs": [],
   "source": [
    "df['vehicleType'] = df['vehicleType'].map(vtype_mode.to_dict()).fillna(df['vehicleType'])"
   ]
  },
  {
   "cell_type": "code",
   "execution_count": 608,
   "metadata": {},
   "outputs": [],
   "source": [
    "brand_mode = df.groupby('brand')['model'].agg(pd.Series.mode)"
   ]
  },
  {
   "cell_type": "code",
   "execution_count": 609,
   "metadata": {},
   "outputs": [],
   "source": [
    "df['model'].fillna(df['brand'], inplace = True)"
   ]
  },
  {
   "cell_type": "code",
   "execution_count": 610,
   "metadata": {},
   "outputs": [
    {
     "data": {
      "text/plain": [
       "{'alfa_romeo': '147',\n",
       " 'audi': 'a4',\n",
       " 'bmw': '3er',\n",
       " 'chevrolet': 'andere',\n",
       " 'chrysler': 'andere',\n",
       " 'citroen': 'andere',\n",
       " 'dacia': 'logan',\n",
       " 'daewoo': 'matiz',\n",
       " 'daihatsu': 'cuore',\n",
       " 'fiat': 'punto',\n",
       " 'ford': 'focus',\n",
       " 'honda': 'civic',\n",
       " 'hyundai': 'i_reihe',\n",
       " 'jaguar': 'andere',\n",
       " 'jeep': 'grand',\n",
       " 'kia': 'andere',\n",
       " 'lada': 'niva',\n",
       " 'lancia': 'ypsilon',\n",
       " 'land_rover': 'freelander',\n",
       " 'mazda': '6_reihe',\n",
       " 'mercedes_benz': 'c_klasse',\n",
       " 'mini': 'cooper',\n",
       " 'mitsubishi': 'colt',\n",
       " 'nissan': 'micra',\n",
       " 'opel': 'corsa',\n",
       " 'peugeot': '2_reihe',\n",
       " 'porsche': '911',\n",
       " 'renault': 'twingo',\n",
       " 'rover': 'andere',\n",
       " 'saab': 'andere',\n",
       " 'seat': 'ibiza',\n",
       " 'skoda': 'octavia',\n",
       " 'smart': 'fortwo',\n",
       " 'sonstige_autos': array([], dtype=object),\n",
       " 'subaru': 'impreza',\n",
       " 'suzuki': 'andere',\n",
       " 'toyota': 'yaris',\n",
       " 'trabant': '601',\n",
       " 'volkswagen': 'golf',\n",
       " 'volvo': 'v40'}"
      ]
     },
     "execution_count": 610,
     "metadata": {},
     "output_type": "execute_result"
    }
   ],
   "source": [
    "brand_mode.to_dict()"
   ]
  },
  {
   "cell_type": "code",
   "execution_count": 611,
   "metadata": {},
   "outputs": [],
   "source": [
    "df['model'] = df['model'].map(brand_mode.to_dict()).fillna(df['model'])"
   ]
  },
  {
   "cell_type": "code",
   "execution_count": 612,
   "metadata": {},
   "outputs": [
    {
     "name": "stderr",
     "output_type": "stream",
     "text": [
      "/opt/anaconda3/lib/python3.7/site-packages/ipykernel_launcher.py:1: SettingWithCopyWarning: \n",
      "A value is trying to be set on a copy of a slice from a DataFrame.\n",
      "Try using .loc[row_indexer,col_indexer] = value instead\n",
      "\n",
      "See the caveats in the documentation: https://pandas.pydata.org/pandas-docs/stable/user_guide/indexing.html#returning-a-view-versus-a-copy\n",
      "  \"\"\"Entry point for launching an IPython kernel.\n"
     ]
    }
   ],
   "source": [
    "df[df['brand'] == 'sonstige_autos']['model'] = 'andere'"
   ]
  },
  {
   "cell_type": "code",
   "execution_count": 613,
   "metadata": {},
   "outputs": [],
   "source": [
    "df.drop(columns = 'nrOfPictures', inplace = True)"
   ]
  },
  {
   "cell_type": "markdown",
   "metadata": {},
   "source": [
    "nrofPictures column did not have any data. It appears there was an error when scraping the information from the website. This column will be dropped. "
   ]
  },
  {
   "cell_type": "markdown",
   "metadata": {},
   "source": [
    "#### Fuel Type & Gearbox"
   ]
  },
  {
   "cell_type": "code",
   "execution_count": 614,
   "metadata": {},
   "outputs": [
    {
     "data": {
      "text/plain": [
       "benzin     0.641339\n",
       "diesel     0.338984\n",
       "lpg        0.016487\n",
       "cng        0.001731\n",
       "hybrid     0.000853\n",
       "andere     0.000332\n",
       "elektro    0.000273\n",
       "Name: fuelType, dtype: float64"
      ]
     },
     "execution_count": 614,
     "metadata": {},
     "output_type": "execute_result"
    }
   ],
   "source": [
    "df.fuelType.value_counts(normalize = True)"
   ]
  },
  {
   "cell_type": "code",
   "execution_count": 615,
   "metadata": {},
   "outputs": [
    {
     "data": {
      "text/html": [
       "<div>\n",
       "<style scoped>\n",
       "    .dataframe tbody tr th:only-of-type {\n",
       "        vertical-align: middle;\n",
       "    }\n",
       "\n",
       "    .dataframe tbody tr th {\n",
       "        vertical-align: top;\n",
       "    }\n",
       "\n",
       "    .dataframe thead th {\n",
       "        text-align: right;\n",
       "    }\n",
       "</style>\n",
       "<table border=\"1\" class=\"dataframe\">\n",
       "  <thead>\n",
       "    <tr style=\"text-align: right;\">\n",
       "      <th></th>\n",
       "      <th>gearbox</th>\n",
       "      <th>fuelType</th>\n",
       "    </tr>\n",
       "  </thead>\n",
       "  <tbody>\n",
       "    <tr>\n",
       "      <th>0</th>\n",
       "      <td>manuell</td>\n",
       "      <td>benzin</td>\n",
       "    </tr>\n",
       "  </tbody>\n",
       "</table>\n",
       "</div>"
      ],
      "text/plain": [
       "   gearbox fuelType\n",
       "0  manuell   benzin"
      ]
     },
     "execution_count": 615,
     "metadata": {},
     "output_type": "execute_result"
    }
   ],
   "source": [
    "df[['gearbox', 'fuelType']].mode()"
   ]
  },
  {
   "cell_type": "code",
   "execution_count": 616,
   "metadata": {},
   "outputs": [],
   "source": [
    "df['gearbox'].fillna(df['gearbox'].mode().values[0], inplace = True)"
   ]
  },
  {
   "cell_type": "code",
   "execution_count": 617,
   "metadata": {},
   "outputs": [],
   "source": [
    "df['fuelType'].fillna(df['fuelType'].mode().values[0], inplace = True)"
   ]
  },
  {
   "cell_type": "markdown",
   "metadata": {},
   "source": [
    "Imputed mode values of gearbox also known as transmission types. Manual transmissions were by far the most common transmission type so this was our best method to address the null values. Also there are only two types of transmissions so imputing the wrong value is less likey. This is not ideal to address null values but we don't want to just drop data from our dataset. "
   ]
  },
  {
   "cell_type": "markdown",
   "metadata": {},
   "source": [
    "#### Unrepaired Damage"
   ]
  },
  {
   "cell_type": "markdown",
   "metadata": {},
   "source": [
    "If the car has  damage which has not repaired yet been repaired. This is a feature that could greatly impact the re-sale value of a car and is something that most likely cannot be hidden from a potential buyer. To address the null values in this category we will assume a null value means there is no un-repaired damage and the value will be filled with the answer 'nein' (no). If did not have any damange and thus did not need repair it is likely a seller ommitted an answer all together from this category. "
   ]
  },
  {
   "cell_type": "code",
   "execution_count": 618,
   "metadata": {},
   "outputs": [
    {
     "data": {
      "text/plain": [
       "array(['ja', nan, 'nein'], dtype=object)"
      ]
     },
     "execution_count": 618,
     "metadata": {},
     "output_type": "execute_result"
    }
   ],
   "source": [
    "df['notRepairedDamage'].unique()"
   ]
  },
  {
   "cell_type": "code",
   "execution_count": 619,
   "metadata": {},
   "outputs": [],
   "source": [
    "df['notRepairedDamage'].fillna('nein', inplace = True)"
   ]
  },
  {
   "cell_type": "code",
   "execution_count": 620,
   "metadata": {},
   "outputs": [
    {
     "data": {
      "text/plain": [
       "seller\n",
       "gewerblich         1\n",
       "privat        330016\n",
       "dtype: int64"
      ]
     },
     "execution_count": 620,
     "metadata": {},
     "output_type": "execute_result"
    }
   ],
   "source": [
    "#gewerblich/commercial(english) all other sellers are private \n",
    "df.groupby('seller').size()"
   ]
  },
  {
   "cell_type": "code",
   "execution_count": 621,
   "metadata": {},
   "outputs": [
    {
     "data": {
      "text/plain": [
       "Angebot    330014\n",
       "Gesuch          3\n",
       "Name: offerType, dtype: int64"
      ]
     },
     "execution_count": 621,
     "metadata": {},
     "output_type": "execute_result"
    }
   ],
   "source": [
    "df.offerType.value_counts()"
   ]
  },
  {
   "cell_type": "markdown",
   "metadata": {},
   "source": [
    "### Vehichle Type"
   ]
  },
  {
   "cell_type": "code",
   "execution_count": 622,
   "metadata": {},
   "outputs": [
    {
     "data": {
      "image/png": "[encoded data removed]",
      "text/plain": [
       "<Figure size 432x288 with 1 Axes>"
      ]
     },
     "metadata": {},
     "output_type": "display_data"
    }
   ],
   "source": [
    "df['vehicleType'].value_counts().plot(kind = 'bar')\n",
    "plt.title('Vehicle Types', size = 14)\n",
    "plt.xlabel('Vehicle Type')\n",
    "plt.ylabel('Number of Cars');"
   ]
  },
  {
   "cell_type": "markdown",
   "metadata": {},
   "source": [
    "__English Translations__ \n",
    "\n",
    "Limousine - Sedan\n",
    "\n",
    "Kleinwagen - Compact Car\n",
    "\n",
    "Kombi - Minibus\n",
    "\n",
    "Cabrio - Convertible \n",
    "\n",
    "\n"
   ]
  },
  {
   "cell_type": "markdown",
   "metadata": {},
   "source": [
    "The most common vehicle types in the data set are Sedans and compact cars. Europeans tend to drive smaller more fuel efficient cars because of the price of fuel in Europe is more expensive than the United States. We observe a small number of SUV's and no pickup trucks. "
   ]
  },
  {
   "cell_type": "code",
   "execution_count": 623,
   "metadata": {},
   "outputs": [
    {
     "data": {
      "image/png": "[encoded data removed]",
      "text/plain": [
       "<Figure size 576x432 with 1 Axes>"
      ]
     },
     "metadata": {},
     "output_type": "display_data"
    }
   ],
   "source": [
    "var = 'vehicleType'\n",
    "data = pd.concat([df['price'], df[var]], axis=1)\n",
    "f, ax = plt.subplots(figsize=(8, 6))\n",
    "fig = sns.boxplot(x=var, y=\"price\", data=data)\n",
    "fig.axis(ymin=0, ymax=80000);"
   ]
  },
  {
   "cell_type": "markdown",
   "metadata": {},
   "source": [
    "Again we see a vast range of prices from somewhere in the low hundreds all the way up to 100,000. The box plots help visualize that most of the vehicle types listed have prices that are clustered below the 20,000 euro ranges. We can infer from the box plot that SUV's have the highest re-sale prices while the small compact car (kleinwagen) have the lowest retail price."
   ]
  },
  {
   "cell_type": "markdown",
   "metadata": {},
   "source": [
    "## Car Brands"
   ]
  },
  {
   "cell_type": "code",
   "execution_count": 624,
   "metadata": {},
   "outputs": [
    {
     "data": {
      "text/plain": [
       "volkswagen        0.214331\n",
       "bmw               0.113937\n",
       "mercedes_benz     0.101583\n",
       "opel              0.100937\n",
       "audi              0.093368\n",
       "ford              0.063954\n",
       "renault           0.045161\n",
       "peugeot           0.029989\n",
       "fiat              0.024114\n",
       "seat              0.018823\n",
       "skoda             0.016293\n",
       "smart             0.015351\n",
       "mazda             0.015275\n",
       "citroen           0.013939\n",
       "toyota            0.013672\n",
       "nissan            0.013293\n",
       "hyundai           0.010372\n",
       "mini              0.009975\n",
       "volvo             0.009000\n",
       "mitsubishi        0.007797\n",
       "honda             0.007687\n",
       "sonstige_autos    0.007415\n",
       "kia               0.007221\n",
       "suzuki            0.006233\n",
       "alfa_romeo        0.006175\n",
       "porsche           0.006024\n",
       "chevrolet         0.005051\n",
       "chrysler          0.003836\n",
       "dacia             0.002660\n",
       "jeep              0.002264\n",
       "land_rover        0.002215\n",
       "subaru            0.001973\n",
       "daihatsu          0.001836\n",
       "jaguar            0.001703\n",
       "saab              0.001479\n",
       "daewoo            0.001270\n",
       "lancia            0.001164\n",
       "rover             0.001145\n",
       "trabant           0.000897\n",
       "lada              0.000588\n",
       "Name: brand, dtype: float64"
      ]
     },
     "execution_count": 624,
     "metadata": {},
     "output_type": "execute_result"
    }
   ],
   "source": [
    "df.brand.value_counts(normalize = True)"
   ]
  },
  {
   "cell_type": "code",
   "execution_count": 625,
   "metadata": {},
   "outputs": [
    {
     "data": {
      "image/png": "[encoded data removed]",
      "text/plain": [
       "<Figure size 576x576 with 1 Axes>"
      ]
     },
     "metadata": {},
     "output_type": "display_data"
    }
   ],
   "source": [
    "#Visualize the frequency of brands in the dataset (add labels)\n",
    "plt.figure(figsize = (8,8))\n",
    "df.brand.value_counts(ascending = True).plot(kind = 'barh')\n",
    "plt.title('Car Brands', size = 20)\n",
    "plt.xlabel('Frequency')\n",
    "plt.ylabel('Brand');"
   ]
  },
  {
   "cell_type": "markdown",
   "metadata": {},
   "source": [
    "It comes as no surprise that four of the five most common brands are German manufacturers as this data was scraped from a German website. Volkswagen is the most common car making up approximately 20% of our dataset. Volkswagen roughy translages to the peoples car and this makes sense now as we see how popular of a car it is with German consumers. Volkswagens are affordable and reliable cars that have good fuel economy, which is very important to European consumers because of the price of gas in Europe. We only observe one car brand that comes from outside of Europe in the top 10. Ford ranks sixth on this list and outside research shows Ford has a large presence in Germany with a factory in Cologne. Fords are one of the most popular foregin (outside of Europe) car makers in Germany. "
   ]
  },
  {
   "cell_type": "code",
   "execution_count": 626,
   "metadata": {},
   "outputs": [],
   "source": [
    "mean_price_brand = df.pivot_table(index = 'brand',\n",
    "                          values = 'price', aggfunc = np.mean)"
   ]
  },
  {
   "cell_type": "code",
   "execution_count": 627,
   "metadata": {},
   "outputs": [
    {
     "data": {
      "text/plain": [
       "<Figure size 1440x1440 with 0 Axes>"
      ]
     },
     "metadata": {},
     "output_type": "display_data"
    },
    {
     "data": {
      "image/png": "[encoded data removed]",
      "text/plain": [
       "<Figure size 432x288 with 1 Axes>"
      ]
     },
     "metadata": {},
     "output_type": "display_data"
    }
   ],
   "source": [
    "plt.figure(figsize =(20, 20))\n",
    "mean_price_brand.plot(kind = 'bar', color = 'red')\n",
    "plt.xlabel('Vehicle Brands')\n",
    "plt.ylabel('Mean Price')\n",
    "plt.xticks(rotation = 90)\n",
    "\n",
    "plt.title('Mean Price vs. Vehicle Brands', size = 20);"
   ]
  },
  {
   "cell_type": "markdown",
   "metadata": {},
   "source": [
    "Above we obeserve the mean prices of the brands of vehicles in our data set. Most of the brands mean prices are below €10,000. Only two brand Land Rover and Porsche have mean values of over €15,000. Even other luxury brands like BMW and Audi have low mean prices. This is not surprising as consumers of used cars are probably not interested in spending more than €10,000. At that point you start to enter the new car price range. "
   ]
  },
  {
   "cell_type": "code",
   "execution_count": 628,
   "metadata": {},
   "outputs": [
    {
     "data": {
      "image/png": "[encoded data removed]",
      "text/plain": [
       "<Figure size 576x432 with 1 Axes>"
      ]
     },
     "metadata": {},
     "output_type": "display_data"
    }
   ],
   "source": [
    "size= 14\n",
    "plt.figure(figsize=(8,6))\n",
    "sns.set(style='darkgrid')\n",
    "sns.boxplot(x='model', y='price', data=df[df.brand == 'bmw']).\\\n",
    "set_title('Prices of Different BMW Models', size = 20)\n",
    "fig.axis(ymin=0, ymax=80000);\n",
    "plt.xticks(rotation=0, size = size)\n",
    "plt.yticks(size = size);"
   ]
  },
  {
   "cell_type": "markdown",
   "metadata": {},
   "source": [
    "When comparing the vehicle brands to price we observe prices for some brands range from close to 0 up to 100,000  BMWs have a great range in price. This is most likely due to the age, number or kilometers and condition of the cars. This brand is considered luxury and some models can retail for over €60,000. However, most of the cars are below €20,000. This is what makes the resale value of cars interesting as they are a depreciating asset and it is difficult to maintain their value. We observe in the above visualization that even luxury automobiles can become \"clunkers\" after enough time on the road and wear and tear. \n",
    "\n",
    "Automobiles are depreciating assets so as soon as they are purchased and driven off the lot their price begins to drop. Increasing the mileage as well as addtional wear and tear to a vehicle are contributing factors to price depreciation. This is why we observe this range of prices"
   ]
  },
  {
   "cell_type": "markdown",
   "metadata": {},
   "source": [
    "### Fuel Types"
   ]
  },
  {
   "cell_type": "code",
   "execution_count": 629,
   "metadata": {},
   "outputs": [
    {
     "data": {
      "text/plain": [
       "benzin     0.666002\n",
       "diesel     0.315675\n",
       "lpg        0.015354\n",
       "cng        0.001612\n",
       "hybrid     0.000794\n",
       "andere     0.000309\n",
       "elektro    0.000255\n",
       "Name: fuelType, dtype: float64"
      ]
     },
     "execution_count": 629,
     "metadata": {},
     "output_type": "execute_result"
    }
   ],
   "source": [
    "df.fuelType.value_counts(normalize = True)"
   ]
  },
  {
   "cell_type": "code",
   "execution_count": 630,
   "metadata": {},
   "outputs": [
    {
     "data": {
      "image/png": "[encoded data removed]",
      "text/plain": [
       "<Figure size 432x288 with 1 Axes>"
      ]
     },
     "metadata": {},
     "output_type": "display_data"
    }
   ],
   "source": [
    "#klienwagen is a compact car, kombi is a minibus, andere is other, limousine is a sedan, change names to english words!\n",
    "\n",
    "df['fuelType'].value_counts().plot(kind = 'bar')\n",
    "plt.title('Fuel Types')\n",
    "plt.xlabel('Frequency')\n",
    "plt.ylabel('Fuel Types');"
   ]
  },
  {
   "cell_type": "markdown",
   "metadata": {},
   "source": [
    "Insert write up on Fuel Types "
   ]
  },
  {
   "cell_type": "code",
   "execution_count": 631,
   "metadata": {},
   "outputs": [
    {
     "data": {
      "image/png": "[encoded data removed]",
      "text/plain": [
       "<Figure size 576x432 with 1 Axes>"
      ]
     },
     "metadata": {},
     "output_type": "display_data"
    }
   ],
   "source": [
    "#Title!!!\n",
    "var = 'fuelType'\n",
    "data = pd.concat([df['price'], df[var]], axis=1)\n",
    "f, ax = plt.subplots(figsize=(8, 6))\n",
    "fig = sns.boxplot(x=var, y=\"price\", data=data)\n",
    "fig.axis(ymin=0, ymax=80000);"
   ]
  },
  {
   "cell_type": "markdown",
   "metadata": {},
   "source": [
    "Again we see a vast range of prices from somewhere in the low hundreds all the way up to 100,000. The box plots help visualize that most of the vehicle types listed have prices that are clustered below the 20,000 euro ranges. We can infer from the box plot that vehicles with hybrid fuel types have the highest re-sale prices. For gasoline (benzin) which is the most common fuel type in our data set we observe a mean value in the low thousands and the third quartile range in the mid thousands and a maximu of approximatley 14,000 euros. Outliers continue all the way up to the ymax setting of the box plot. The graph shows us again the large number of outliers in the dataset. The same observation for gasoline engines is observed for diesel, the second most common fuel type. The other fuel types make up only a small percentage of total fuel types but they follow similar patterns as gasoline and diesel engines.  "
   ]
  },
  {
   "cell_type": "code",
   "execution_count": 632,
   "metadata": {},
   "outputs": [],
   "source": [
    "#vehichle Type vs. Price (insert visual)\n",
    "\n",
    "#plt.figure(figsize=(10,6))\n",
    "#sns.regplot(x='vehicleType', y='price', data=df).set_title('Age vs Price')"
   ]
  },
  {
   "cell_type": "raw",
   "metadata": {},
   "source": [
    "Insert write up on Vehichle types (change names to english words)"
   ]
  },
  {
   "cell_type": "markdown",
   "metadata": {},
   "source": [
    "### Kilometers vs. Price"
   ]
  },
  {
   "cell_type": "code",
   "execution_count": 633,
   "metadata": {},
   "outputs": [
    {
     "data": {
      "text/plain": [
       "Text(0.5, 1.0, 'Km vs Price')"
      ]
     },
     "execution_count": 633,
     "metadata": {},
     "output_type": "execute_result"
    },
    {
     "data": {
      "image/png": "[encoded data removed]",
      "text/plain": [
       "<Figure size 720x432 with 1 Axes>"
      ]
     },
     "metadata": {},
     "output_type": "display_data"
    }
   ],
   "source": [
    "plt.figure(figsize=(10,6))\n",
    "sns.regplot(x='kilometer', y='price', data=df).set_title('Km vs Price', size = 20)"
   ]
  },
  {
   "cell_type": "markdown",
   "metadata": {},
   "source": [
    "The above scatterplot shows that an increase in kilometers driven reduces the sale price of the car. This is no surprise as usually the first question a buyer has about a pre-owned vehicle is how many miles/kilometers it has been driven. This represents the wear on the automobile and usually a buyer can deduce how much more time on the road the car can be driven. "
   ]
  },
  {
   "cell_type": "code",
   "execution_count": 634,
   "metadata": {},
   "outputs": [
    {
     "data": {
      "image/png": "[encoded data removed]",
      "text/plain": [
       "<Figure size 576x432 with 1 Axes>"
      ]
     },
     "metadata": {},
     "output_type": "display_data"
    }
   ],
   "source": [
    "# cars with less than 400,000 kms\n",
    "plt.figure(figsize=(8,6))\n",
    "sns.regplot(x='kilometer', y='age', data=df, x_estimator = np.mean).set_title('Mean KM vs Vehicle Age', size = 20);"
   ]
  },
  {
   "cell_type": "markdown",
   "metadata": {},
   "source": [
    "We observe a trend between age and kilometers. This is to be expected as the majority of the cars for sale are old cars that most likely have been driven a considerable amount. Initially we believed there would be a correlation between older cars and kilometers driven which the above graph shows."
   ]
  },
  {
   "cell_type": "markdown",
   "metadata": {},
   "source": [
    "### Transmission Type"
   ]
  },
  {
   "cell_type": "code",
   "execution_count": 635,
   "metadata": {},
   "outputs": [
    {
     "data": {
      "image/png": "[encoded data removed]",
      "text/plain": [
       "<Figure size 432x288 with 1 Axes>"
      ]
     },
     "metadata": {},
     "output_type": "display_data"
    }
   ],
   "source": [
    "df['gearbox'].value_counts().plot(kind = 'bar')\n",
    "plt.title('Manual & Automatic Transmissions')\n",
    "plt.xlabel('Transmission Type')\n",
    "plt.ylabel('Frequency');"
   ]
  },
  {
   "cell_type": "markdown",
   "metadata": {},
   "source": [
    "Manual cars are about $1,000 cheaper than automatics on average, as of 2019. In addition, older manuals have a greater fuel economy than automatics of a similar age. That's not just because manual cars lack fuel-draining torque converters. It's also because manual cars have lighter transmissions. Manual transmissions are much popular in Europe which is were this data is derived from. "
   ]
  },
  {
   "cell_type": "code",
   "execution_count": 636,
   "metadata": {},
   "outputs": [],
   "source": [
    "gb_pvt = df.pivot_table(index = 'gearbox',\n",
    "                          values = 'price', aggfunc = np.mean)"
   ]
  },
  {
   "cell_type": "code",
   "execution_count": 637,
   "metadata": {},
   "outputs": [
    {
     "data": {
      "text/plain": [
       "<Figure size 1152x648 with 0 Axes>"
      ]
     },
     "metadata": {},
     "output_type": "display_data"
    },
    {
     "data": {
      "image/png": "[encoded data removed]",
      "text/plain": [
       "<Figure size 432x288 with 1 Axes>"
      ]
     },
     "metadata": {},
     "output_type": "display_data"
    }
   ],
   "source": [
    "plt.figure(figsize =(16, 9))\n",
    "gb_pvt.plot(kind = 'bar', color = 'blue')\n",
    "plt.xlabel('Transmission Type')\n",
    "plt.ylabel('Mean Price')\n",
    "plt.xticks(rotation = 0)\n",
    "plt.title('Mean Price of Transmission Types', size = 20);"
   ]
  },
  {
   "cell_type": "markdown",
   "metadata": {},
   "source": [
    "Mean prices of automitic cars is about 5,000 euro more than manual cars. However, automatic cars are much rarer in our dataset. Outside research shows on average manual cars are approximately 1,000 euro less than manual cars. This does not apply in our data as there is a considerable difference in price for this feature. The automatic transmissions are much less common and more expensive in our data. This may be due to buyers who have more money to spend on a car and want certain specifications like an automatic transmission. "
   ]
  },
  {
   "cell_type": "markdown",
   "metadata": {},
   "source": [
    "### Damage To Vehicle"
   ]
  },
  {
   "cell_type": "code",
   "execution_count": 638,
   "metadata": {},
   "outputs": [
    {
     "data": {
      "text/plain": [
       "nein    303756\n",
       "ja       26261\n",
       "Name: notRepairedDamage, dtype: int64"
      ]
     },
     "execution_count": 638,
     "metadata": {},
     "output_type": "execute_result"
    }
   ],
   "source": [
    "df.notRepairedDamage.value_counts()"
   ]
  },
  {
   "cell_type": "code",
   "execution_count": 639,
   "metadata": {},
   "outputs": [
    {
     "data": {
      "image/png": "[encoded data removed]",
      "text/plain": [
       "<Figure size 432x288 with 1 Axes>"
      ]
     },
     "metadata": {},
     "output_type": "display_data"
    }
   ],
   "source": [
    "df['notRepairedDamage'].value_counts().plot(kind = 'bar')\n",
    "plt.title('Unrepaired Damage to Vehicle')\n",
    "plt.xlabel('Unrepaired Damage')\n",
    "plt.ylabel('Frequency');"
   ]
  },
  {
   "cell_type": "markdown",
   "metadata": {},
   "source": [
    "notRepairedDamage means there is unrepaired damage to the vehicle. this feature will negatively affect\n",
    "the price of a car. A small number of vehicles in our data set have unrepaired damange, which will likely have a negative impact on the price of a car. Damage could range from a minor dent to severe damage to the body of a car. Without having specifics it will be difficult to understand the true impact this feature will have on price.  "
   ]
  },
  {
   "cell_type": "markdown",
   "metadata": {},
   "source": [
    "After analyzing the features we believe will have the greatest correlation to price we can say with some confidence that we will be able to answer the problem in question, which is to accurately predict the resale prices of used cars. There is some concern about the number of outliers in our dataset but because so much of the data is clustered on the lower end of the price range we may be able to avoid any issues with outliers. Scaling back on max price may be done to eliminate outliers so we can focus on a smaller range in price. Outside research shows that the average consumer would not be looking for a used car priced above €20,000 because at this threshold most people would look toward a new car. "
   ]
  },
  {
   "cell_type": "code",
   "execution_count": 640,
   "metadata": {},
   "outputs": [
    {
     "data": {
      "text/html": [
       "<div>\n",
       "<style scoped>\n",
       "    .dataframe tbody tr th:only-of-type {\n",
       "        vertical-align: middle;\n",
       "    }\n",
       "\n",
       "    .dataframe tbody tr th {\n",
       "        vertical-align: top;\n",
       "    }\n",
       "\n",
       "    .dataframe thead th {\n",
       "        text-align: right;\n",
       "    }\n",
       "</style>\n",
       "<table border=\"1\" class=\"dataframe\">\n",
       "  <thead>\n",
       "    <tr style=\"text-align: right;\">\n",
       "      <th></th>\n",
       "      <th>price</th>\n",
       "      <th>kilometer</th>\n",
       "      <th>monthOfRegistration</th>\n",
       "      <th>postalCode</th>\n",
       "      <th>Ad_Duration</th>\n",
       "      <th>Ad_Duration_days</th>\n",
       "      <th>price_ln</th>\n",
       "      <th>age</th>\n",
       "      <th>KwPower</th>\n",
       "    </tr>\n",
       "  </thead>\n",
       "  <tbody>\n",
       "    <tr>\n",
       "      <th>count</th>\n",
       "      <td>330017.000000</td>\n",
       "      <td>330017.000000</td>\n",
       "      <td>330017.000000</td>\n",
       "      <td>330017.000000</td>\n",
       "      <td>330017</td>\n",
       "      <td>330017.000000</td>\n",
       "      <td>330017.000000</td>\n",
       "      <td>330017.000000</td>\n",
       "      <td>330017.000000</td>\n",
       "    </tr>\n",
       "    <tr>\n",
       "      <th>mean</th>\n",
       "      <td>6148.184472</td>\n",
       "      <td>127012.184221</td>\n",
       "      <td>5.943730</td>\n",
       "      <td>51294.802437</td>\n",
       "      <td>9 days 11:35:09.990964</td>\n",
       "      <td>8.968014</td>\n",
       "      <td>8.166785</td>\n",
       "      <td>13.032135</td>\n",
       "      <td>88.752838</td>\n",
       "    </tr>\n",
       "    <tr>\n",
       "      <th>std</th>\n",
       "      <td>7806.310155</td>\n",
       "      <td>37244.929655</td>\n",
       "      <td>3.624079</td>\n",
       "      <td>25715.029588</td>\n",
       "      <td>8 days 17:15:14.778607</td>\n",
       "      <td>8.753292</td>\n",
       "      <td>1.060763</td>\n",
       "      <td>6.785051</td>\n",
       "      <td>131.768928</td>\n",
       "    </tr>\n",
       "    <tr>\n",
       "      <th>min</th>\n",
       "      <td>499.000000</td>\n",
       "      <td>10000.000000</td>\n",
       "      <td>0.000000</td>\n",
       "      <td>1067.000000</td>\n",
       "      <td>0 days 00:25:36</td>\n",
       "      <td>0.000000</td>\n",
       "      <td>6.212606</td>\n",
       "      <td>-2.000000</td>\n",
       "      <td>0.000000</td>\n",
       "    </tr>\n",
       "    <tr>\n",
       "      <th>25%</th>\n",
       "      <td>1500.000000</td>\n",
       "      <td>125000.000000</td>\n",
       "      <td>3.000000</td>\n",
       "      <td>30982.000000</td>\n",
       "      <td>2 days 14:56:44</td>\n",
       "      <td>2.000000</td>\n",
       "      <td>7.313220</td>\n",
       "      <td>9.000000</td>\n",
       "      <td>55.162500</td>\n",
       "    </tr>\n",
       "    <tr>\n",
       "      <th>50%</th>\n",
       "      <td>3500.000000</td>\n",
       "      <td>150000.000000</td>\n",
       "      <td>6.000000</td>\n",
       "      <td>50226.000000</td>\n",
       "      <td>6 days 15:16:44</td>\n",
       "      <td>6.000000</td>\n",
       "      <td>8.160518</td>\n",
       "      <td>13.000000</td>\n",
       "      <td>80.905000</td>\n",
       "    </tr>\n",
       "    <tr>\n",
       "      <th>75%</th>\n",
       "      <td>7899.000000</td>\n",
       "      <td>150000.000000</td>\n",
       "      <td>9.000000</td>\n",
       "      <td>72141.000000</td>\n",
       "      <td>14 days 06:16:09</td>\n",
       "      <td>14.000000</td>\n",
       "      <td>8.974491</td>\n",
       "      <td>17.000000</td>\n",
       "      <td>110.325000</td>\n",
       "    </tr>\n",
       "    <tr>\n",
       "      <th>max</th>\n",
       "      <td>150000.000000</td>\n",
       "      <td>150000.000000</td>\n",
       "      <td>12.000000</td>\n",
       "      <td>99998.000000</td>\n",
       "      <td>759 days 04:46:24</td>\n",
       "      <td>759.000000</td>\n",
       "      <td>11.918391</td>\n",
       "      <td>46.000000</td>\n",
       "      <td>14710.000000</td>\n",
       "    </tr>\n",
       "  </tbody>\n",
       "</table>\n",
       "</div>"
      ],
      "text/plain": [
       "               price      kilometer  monthOfRegistration     postalCode  \\\n",
       "count  330017.000000  330017.000000        330017.000000  330017.000000   \n",
       "mean     6148.184472  127012.184221             5.943730   51294.802437   \n",
       "std      7806.310155   37244.929655             3.624079   25715.029588   \n",
       "min       499.000000   10000.000000             0.000000    1067.000000   \n",
       "25%      1500.000000  125000.000000             3.000000   30982.000000   \n",
       "50%      3500.000000  150000.000000             6.000000   50226.000000   \n",
       "75%      7899.000000  150000.000000             9.000000   72141.000000   \n",
       "max    150000.000000  150000.000000            12.000000   99998.000000   \n",
       "\n",
       "                  Ad_Duration  Ad_Duration_days       price_ln            age  \\\n",
       "count                  330017     330017.000000  330017.000000  330017.000000   \n",
       "mean   9 days 11:35:09.990964          8.968014       8.166785      13.032135   \n",
       "std    8 days 17:15:14.778607          8.753292       1.060763       6.785051   \n",
       "min           0 days 00:25:36          0.000000       6.212606      -2.000000   \n",
       "25%           2 days 14:56:44          2.000000       7.313220       9.000000   \n",
       "50%           6 days 15:16:44          6.000000       8.160518      13.000000   \n",
       "75%          14 days 06:16:09         14.000000       8.974491      17.000000   \n",
       "max         759 days 04:46:24        759.000000      11.918391      46.000000   \n",
       "\n",
       "             KwPower  \n",
       "count  330017.000000  \n",
       "mean       88.752838  \n",
       "std       131.768928  \n",
       "min         0.000000  \n",
       "25%        55.162500  \n",
       "50%        80.905000  \n",
       "75%       110.325000  \n",
       "max     14710.000000  "
      ]
     },
     "execution_count": 640,
     "metadata": {},
     "output_type": "execute_result"
    }
   ],
   "source": [
    "df.describe()"
   ]
  },
  {
   "cell_type": "code",
   "execution_count": 641,
   "metadata": {},
   "outputs": [
    {
     "data": {
      "text/html": [
       "<div>\n",
       "<style scoped>\n",
       "    .dataframe tbody tr th:only-of-type {\n",
       "        vertical-align: middle;\n",
       "    }\n",
       "\n",
       "    .dataframe tbody tr th {\n",
       "        vertical-align: top;\n",
       "    }\n",
       "\n",
       "    .dataframe thead th {\n",
       "        text-align: right;\n",
       "    }\n",
       "</style>\n",
       "<table border=\"1\" class=\"dataframe\">\n",
       "  <thead>\n",
       "    <tr style=\"text-align: right;\">\n",
       "      <th></th>\n",
       "      <th>price</th>\n",
       "      <th>kilometer</th>\n",
       "      <th>monthOfRegistration</th>\n",
       "      <th>postalCode</th>\n",
       "      <th>Ad_Duration_days</th>\n",
       "      <th>price_ln</th>\n",
       "      <th>age</th>\n",
       "      <th>KwPower</th>\n",
       "    </tr>\n",
       "  </thead>\n",
       "  <tbody>\n",
       "    <tr>\n",
       "      <th>price</th>\n",
       "      <td>1.000000</td>\n",
       "      <td>-0.452643</td>\n",
       "      <td>0.047606</td>\n",
       "      <td>0.074535</td>\n",
       "      <td>0.128511</td>\n",
       "      <td>0.803819</td>\n",
       "      <td>-0.361881</td>\n",
       "      <td>0.208756</td>\n",
       "    </tr>\n",
       "    <tr>\n",
       "      <th>kilometer</th>\n",
       "      <td>-0.452643</td>\n",
       "      <td>1.000000</td>\n",
       "      <td>-0.025882</td>\n",
       "      <td>-0.037263</td>\n",
       "      <td>-0.092032</td>\n",
       "      <td>-0.452231</td>\n",
       "      <td>0.333498</td>\n",
       "      <td>-0.016111</td>\n",
       "    </tr>\n",
       "    <tr>\n",
       "      <th>monthOfRegistration</th>\n",
       "      <td>0.047606</td>\n",
       "      <td>-0.025882</td>\n",
       "      <td>1.000000</td>\n",
       "      <td>0.006509</td>\n",
       "      <td>-0.000299</td>\n",
       "      <td>0.085209</td>\n",
       "      <td>-0.018317</td>\n",
       "      <td>0.028711</td>\n",
       "    </tr>\n",
       "    <tr>\n",
       "      <th>postalCode</th>\n",
       "      <td>0.074535</td>\n",
       "      <td>-0.037263</td>\n",
       "      <td>0.006509</td>\n",
       "      <td>1.000000</td>\n",
       "      <td>0.030905</td>\n",
       "      <td>0.079190</td>\n",
       "      <td>-0.025752</td>\n",
       "      <td>0.025925</td>\n",
       "    </tr>\n",
       "    <tr>\n",
       "      <th>Ad_Duration_days</th>\n",
       "      <td>0.128511</td>\n",
       "      <td>-0.092032</td>\n",
       "      <td>-0.000299</td>\n",
       "      <td>0.030905</td>\n",
       "      <td>1.000000</td>\n",
       "      <td>0.158459</td>\n",
       "      <td>-0.028929</td>\n",
       "      <td>0.029268</td>\n",
       "    </tr>\n",
       "    <tr>\n",
       "      <th>price_ln</th>\n",
       "      <td>0.803819</td>\n",
       "      <td>-0.452231</td>\n",
       "      <td>0.085209</td>\n",
       "      <td>0.079190</td>\n",
       "      <td>0.158459</td>\n",
       "      <td>1.000000</td>\n",
       "      <td>-0.470073</td>\n",
       "      <td>0.205093</td>\n",
       "    </tr>\n",
       "    <tr>\n",
       "      <th>age</th>\n",
       "      <td>-0.361881</td>\n",
       "      <td>0.333498</td>\n",
       "      <td>-0.018317</td>\n",
       "      <td>-0.025752</td>\n",
       "      <td>-0.028929</td>\n",
       "      <td>-0.470073</td>\n",
       "      <td>1.000000</td>\n",
       "      <td>-0.048122</td>\n",
       "    </tr>\n",
       "    <tr>\n",
       "      <th>KwPower</th>\n",
       "      <td>0.208756</td>\n",
       "      <td>-0.016111</td>\n",
       "      <td>0.028711</td>\n",
       "      <td>0.025925</td>\n",
       "      <td>0.029268</td>\n",
       "      <td>0.205093</td>\n",
       "      <td>-0.048122</td>\n",
       "      <td>1.000000</td>\n",
       "    </tr>\n",
       "  </tbody>\n",
       "</table>\n",
       "</div>"
      ],
      "text/plain": [
       "                        price  kilometer  monthOfRegistration  postalCode  \\\n",
       "price                1.000000  -0.452643             0.047606    0.074535   \n",
       "kilometer           -0.452643   1.000000            -0.025882   -0.037263   \n",
       "monthOfRegistration  0.047606  -0.025882             1.000000    0.006509   \n",
       "postalCode           0.074535  -0.037263             0.006509    1.000000   \n",
       "Ad_Duration_days     0.128511  -0.092032            -0.000299    0.030905   \n",
       "price_ln             0.803819  -0.452231             0.085209    0.079190   \n",
       "age                 -0.361881   0.333498            -0.018317   -0.025752   \n",
       "KwPower              0.208756  -0.016111             0.028711    0.025925   \n",
       "\n",
       "                     Ad_Duration_days  price_ln       age   KwPower  \n",
       "price                        0.128511  0.803819 -0.361881  0.208756  \n",
       "kilometer                   -0.092032 -0.452231  0.333498 -0.016111  \n",
       "monthOfRegistration         -0.000299  0.085209 -0.018317  0.028711  \n",
       "postalCode                   0.030905  0.079190 -0.025752  0.025925  \n",
       "Ad_Duration_days             1.000000  0.158459 -0.028929  0.029268  \n",
       "price_ln                     0.158459  1.000000 -0.470073  0.205093  \n",
       "age                         -0.028929 -0.470073  1.000000 -0.048122  \n",
       "KwPower                      0.029268  0.205093 -0.048122  1.000000  "
      ]
     },
     "execution_count": 641,
     "metadata": {},
     "output_type": "execute_result"
    }
   ],
   "source": [
    "df.corr()"
   ]
  },
  {
   "cell_type": "code",
   "execution_count": 642,
   "metadata": {},
   "outputs": [
    {
     "data": {
      "image/png": "[encoded data removed]",
      "text/plain": [
       "<Figure size 432x288 with 2 Axes>"
      ]
     },
     "metadata": {},
     "output_type": "display_data"
    }
   ],
   "source": [
    "sns.heatmap(df.corr(), cmap = 'Blues', annot = True).set_title('Correlation Matrix');"
   ]
  },
  {
   "cell_type": "markdown",
   "metadata": {},
   "source": [
    "The heatmap above gives us an idea heading into the modeling phase of our project of what features have the strongest linear relationship with price as well as with other features. We don't observe many strong correlations above besides kilometer and price. This is a cause for concern because without strong correlated features the models may have a difficult time making accurate predictions. "
   ]
  },
  {
   "cell_type": "markdown",
   "metadata": {},
   "source": [
    "### Revisting Max Price"
   ]
  },
  {
   "cell_type": "markdown",
   "metadata": {},
   "source": [
    "After running models with a max price of 150,000 we observed RMSE scores above our baseline score. We believed the outliers in the data were having a sizeable affect on our models performance. We keep reducing the price until we were able to see RMSE scores drop below the baseline score.Price max reduced to 20,000 euro as model scores were performing poorly, returning results worse than our baseline model. 70%+ of our data was within this range so there is still a sufficient amount of data for prediction. "
   ]
  },
  {
   "cell_type": "code",
   "execution_count": 643,
   "metadata": {},
   "outputs": [],
   "source": [
    "df = df[df['price'] <= 20_000]"
   ]
  },
  {
   "cell_type": "code",
   "execution_count": 644,
   "metadata": {},
   "outputs": [
    {
     "name": "stdout",
     "output_type": "stream",
     "text": [
      "Mean Price of Cars: 4878.129327665536\n",
      "Median Price of Cars: 3200.0\n",
      "Max Car Price: 20000\n",
      "Min Car Price: 499\n"
     ]
    }
   ],
   "source": [
    "print(f'Mean Price of Cars: {df.price.mean()}')\n",
    "print(f'Median Price of Cars: {df.price.median()}')\n",
    "print(f'Max Car Price: {df.price.max()}') \n",
    "print(f'Min Car Price: {df.price.min()}')"
   ]
  },
  {
   "cell_type": "code",
   "execution_count": 645,
   "metadata": {},
   "outputs": [
    {
     "data": {
      "text/plain": [
       "(314055, 22)"
      ]
     },
     "execution_count": 645,
     "metadata": {},
     "output_type": "execute_result"
    }
   ],
   "source": [
    "df.shape"
   ]
  },
  {
   "cell_type": "code",
   "execution_count": 646,
   "metadata": {},
   "outputs": [],
   "source": [
    "df.to_csv('./data/car_data.csv', index = False)"
   ]
  }
 ],
 "metadata": {
  "kernelspec": {
   "display_name": "Python 3",
   "language": "python",
   "name": "python3"
  },
  "language_info": {
   "codemirror_mode": {
    "name": "ipython",
    "version": 3
   },
   "file_extension": ".py",
   "mimetype": "text/x-python",
   "name": "python",
   "nbconvert_exporter": "python",
   "pygments_lexer": "ipython3",
   "version": "3.7.4"
  }
 },
 "nbformat": 4,
 "nbformat_minor": 2
}
