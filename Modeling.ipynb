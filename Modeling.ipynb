{
 "cells": [
  {
   "cell_type": "code",
   "execution_count": 249,
   "metadata": {},
   "outputs": [],
   "source": [
    "import pandas as pd\n",
    "import numpy as np\n",
    "from sklearn.linear_model import LinearRegression, Ridge, Lasso, RidgeCV, LassoCV\n",
    "from sklearn.preprocessing import StandardScaler\n",
    "from sklearn.model_selection import train_test_split, cross_val_score, cross_val_predict\n",
    "from sklearn.metrics import mean_squared_error\n",
    "from sklearn.metrics import mean_absolute_error\n",
    "from sklearn.ensemble import RandomForestRegressor\n",
    "from sklearn.ensemble import GradientBoostingRegressor\n",
    "from sklearn.linear_model import Ridge\n",
    "from sklearn.linear_model import Lasso\n",
    "from sklearn.model_selection import GridSearchCV\n",
    "from sklearn.tree import DecisionTreeRegressor\n",
    "from sklearn.ensemble import ExtraTreesRegressor\n",
    "from sklearn.metrics import r2_score\n",
    "\n",
    "from math import sqrt\n",
    "import matplotlib.pyplot as plt\n",
    "import seaborn as sns"
   ]
  },
  {
   "cell_type": "code",
   "execution_count": 250,
   "metadata": {},
   "outputs": [],
   "source": [
    "#df.to_csv('./car_data.csv', index = False)\n",
    "df = pd.read_csv('./data/car_data.csv')"
   ]
  },
  {
   "cell_type": "markdown",
   "metadata": {},
   "source": [
    "### Contents:\n",
    "- [Preprocessing](#Preprocessing)\n",
    "- [Train Test Split](#Train-Test-Split)\n",
    "- [Baseline Model](#Baseline-Model)\n",
    "- [Linear Regression](#Linear-Regression)\n",
    "- [Ridge](#Ridge)\n",
    "- [Lasso](#Lasso)\n",
    "- [Decision Tree](#Decision-Tree)\n",
    "- [Random Forest](#Random-Forest)\n",
    "- [Extra Trees](#Extra-Trees)\n",
    "- [Gradient Boost](#Gradient-Boost)\n",
    "- [Model Selection](#Model-Selection)\n",
    "- [Model Evaluation](#Model-Evaluation)\n",
    "- [Interpretable Model/Model Coefficients](#Interpretable-Model/Model-Coefficients)\n",
    "- [Modeling Assumptions](#Modeling-Assumptions)\n",
    "- [Conclusion](#Conclusion)\n",
    "- [Recommendations](#Recommendations)\n",
    "- [Sources](#Sources)"
   ]
  },
  {
   "cell_type": "markdown",
   "metadata": {},
   "source": []
  },
  {
   "cell_type": "code",
   "execution_count": 257,
   "metadata": {},
   "outputs": [],
   "source": [
    "df = pd.get_dummies(data = df, columns=['vehicleType',\n",
    "                                       'gearbox',\n",
    "                                       'fuelType',\n",
    "                                       'brand',\n",
    "                                       'notRepairedDamage',\n",
    "                                        'model'\n",
    "                                       ], drop_first = True )"
   ]
  },
  {
   "cell_type": "code",
   "execution_count": 260,
   "metadata": {},
   "outputs": [],
   "source": [
    "X = df.drop(columns = ['dateCrawled', 'name', 'seller','abtest', 'offerType', 'price','lastSeen',\n",
    "                       'dateCreated', 'price_ln', 'Ad_Duration'], axis = 1)\n",
    "y = df['price']"
   ]
  },
  {
   "cell_type": "markdown",
   "metadata": {},
   "source": [
    "## Train Test Split"
   ]
  },
  {
   "cell_type": "code",
   "execution_count": 502,
   "metadata": {},
   "outputs": [],
   "source": [
    "#Train/Test split reduced due to hardware limitations, data still includes over 150,000 car listings \n",
    "X_train, X_test, y_train, y_test = train_test_split(X,\n",
    "                                                y,random_state = 15, test_size = 0.15, train_size = .35)"
   ]
  },
  {
   "cell_type": "code",
   "execution_count": 26,
   "metadata": {},
   "outputs": [],
   "source": [
    "#X_train, X_test, y_train, y_test = train_test_split(X,\n",
    "                                                  #y, random_state = 42)"
   ]
  },
  {
   "cell_type": "markdown",
   "metadata": {},
   "source": [
    "We perfom a train/test split on the dataset. We split our data into two pieces:\n",
    "\n",
    "\"A Training Set\": The subset of the data on which we fit our model.\n",
    "\n",
    "\"A Testing Set\": The subset of the data on which we evaluate the quality of our predictions."
   ]
  },
  {
   "cell_type": "code",
   "execution_count": null,
   "metadata": {},
   "outputs": [],
   "source": [
    "\n",
    "def rmse(y_true, y_pred): # this signature matters for later use with `make_scorer`\n",
    "    '''Returns the root mean squared error'''\n",
    "    return np.sqrt(mean_squared_error(y_true, y_pred))"
   ]
  },
  {
   "cell_type": "code",
   "execution_count": null,
   "metadata": {},
   "outputs": [],
   "source": [
    "# cross_val score\n",
    "cross_val_score(lr, X, y, cv = 5, scoring = make_scorer(rmse)).mean()"
   ]
  },
  {
   "cell_type": "markdown",
   "metadata": {},
   "source": [
    "## Baseline Model"
   ]
  },
  {
   "cell_type": "code",
   "execution_count": 496,
   "metadata": {},
   "outputs": [],
   "source": [
    "y_train_baseline = [y_train.mean() for i in y_train]\n",
    "y_test_baseline = [y_train.mean() for i in y_test]"
   ]
  },
  {
   "cell_type": "code",
   "execution_count": 499,
   "metadata": {},
   "outputs": [
    {
     "name": "stdout",
     "output_type": "stream",
     "text": [
      "Training Root Mean Squared Error: 4501.074859962035\n",
      "Testing Root Mean Squared Error: 4499.088239500674\n"
     ]
    }
   ],
   "source": [
    "print('Training Root Mean Squared Error:',(np.sqrt(mean_squared_error(y_train, y_train_baseline))))\n",
    "print('Testing Root Mean Squared Error:',(np.sqrt(mean_squared_error(y_test, y_test_baseline))))"
   ]
  },
  {
   "cell_type": "markdown",
   "metadata": {},
   "source": [
    "A baseline model has been created using the mean sale prices of our target variable price. This model provides a useful point of comparison for all future models used. Once we start getting results from other models our baseline can tell us if a change is adding value or if we need to include different features. If the model achieves a a score that is above the baseline prediction we will know something is wrong and that this model may not be appropriate for our problem. The baseline model is a critical component of our modeling process. We will be using the metric RMSE to score our models performance. The RMSE of our baseline model in 4501.07. "
   ]
  },
  {
   "cell_type": "markdown",
   "metadata": {},
   "source": [
    "## Linear Regression"
   ]
  },
  {
   "cell_type": "code",
   "execution_count": 503,
   "metadata": {},
   "outputs": [],
   "source": [
    "model = LinearRegression()"
   ]
  },
  {
   "cell_type": "code",
   "execution_count": 504,
   "metadata": {},
   "outputs": [
    {
     "data": {
      "text/plain": [
       "LinearRegression(copy_X=True, fit_intercept=True, n_jobs=None, normalize=False)"
      ]
     },
     "execution_count": 504,
     "metadata": {},
     "output_type": "execute_result"
    }
   ],
   "source": [
    "model.fit(X_train, y_train)"
   ]
  },
  {
   "cell_type": "code",
   "execution_count": 505,
   "metadata": {},
   "outputs": [],
   "source": [
    "y_train_preds = model.predict(X_train)\n",
    "y_test_preds = model.predict(X_test)"
   ]
  },
  {
   "cell_type": "code",
   "execution_count": 513,
   "metadata": {},
   "outputs": [
    {
     "name": "stdout",
     "output_type": "stream",
     "text": [
      "Training Root Mean Squared Error: 2762.888358238805\n",
      "Testing Root Mean Squared Error: 2784.5658121175466\n",
      "Cross Validation Score: 0.6204564361740528\n"
     ]
    }
   ],
   "source": [
    "print('Training Root Mean Squared Error:',(np.sqrt(mean_squared_error(y_train, y_train_preds))))\n",
    "print('Testing Root Mean Squared Error:',(np.sqrt(mean_squared_error(y_test, y_test_preds))))\n",
    "print(f'Cross Validation Score:',cross_val_score(model, X_train, y_train, cv=5).mean())"
   ]
  },
  {
   "cell_type": "markdown",
   "metadata": {},
   "source": [
    "The Multiple Linear Regression Model perfoms better than the baseline model which had an RMSE score of 4501.07. However, the scores of this model are poor. The RMSE score is 2638.03 on the training data. With the average price of a car being 4,878.12 this is a considerable amount to be off by. The model seems to suffer from high bias, it is failing to capture the underlying trend in the data. A positive aspect of these scores is is shows that this model is not overfit. An overfit model performs well on the data it is trained on but generalize poorly to any new data. The testing and training scores are very close which means that we have a low amount of variance in our model.  This is the first model we will be using and hopefully the scores will improve from here. "
   ]
  },
  {
   "cell_type": "markdown",
   "metadata": {},
   "source": [
    "## Ridge"
   ]
  },
  {
   "cell_type": "code",
   "execution_count": 423,
   "metadata": {},
   "outputs": [],
   "source": [
    "#create variable for Sklearn StandardScaler to be used in Ridge and Lasso Models \n",
    "ss = StandardScaler()\n",
    "\n",
    "ss.fit(X_train)\n",
    "\n",
    "X_train_sc = ss.transform(X_train)\n",
    "\n",
    "X_test_sc = ss.transform(X_test)"
   ]
  },
  {
   "cell_type": "code",
   "execution_count": 424,
   "metadata": {},
   "outputs": [],
   "source": [
    "r_alphas = np.logspace(0, 5, 100)"
   ]
  },
  {
   "cell_type": "code",
   "execution_count": 425,
   "metadata": {},
   "outputs": [],
   "source": [
    "ridge_cv = RidgeCV(alphas = r_alphas, cv =5)"
   ]
  },
  {
   "cell_type": "code",
   "execution_count": 426,
   "metadata": {},
   "outputs": [
    {
     "data": {
      "text/plain": [
       "RidgeCV(alphas=array([1.00000000e+00, 1.12332403e+00, 1.26185688e+00, 1.41747416e+00,\n",
       "       1.59228279e+00, 1.78864953e+00, 2.00923300e+00, 2.25701972e+00,\n",
       "       2.53536449e+00, 2.84803587e+00, 3.19926714e+00, 3.59381366e+00,\n",
       "       4.03701726e+00, 4.53487851e+00, 5.09413801e+00, 5.72236766e+00,\n",
       "       6.42807312e+00, 7.22080902e+00, 8.11130831e+00, 9.11162756e+00,\n",
       "       1.02353102e+01, 1.14975700e+0...\n",
       "       1.09749877e+04, 1.23284674e+04, 1.38488637e+04, 1.55567614e+04,\n",
       "       1.74752840e+04, 1.96304065e+04, 2.20513074e+04, 2.47707636e+04,\n",
       "       2.78255940e+04, 3.12571585e+04, 3.51119173e+04, 3.94420606e+04,\n",
       "       4.43062146e+04, 4.97702356e+04, 5.59081018e+04, 6.28029144e+04,\n",
       "       7.05480231e+04, 7.92482898e+04, 8.90215085e+04, 1.00000000e+05]),\n",
       "        cv=5, fit_intercept=True, gcv_mode=None, normalize=False, scoring=None,\n",
       "        store_cv_values=False)"
      ]
     },
     "execution_count": 426,
     "metadata": {},
     "output_type": "execute_result"
    }
   ],
   "source": [
    "ridge_cv.fit(X_train_sc, y_train)"
   ]
  },
  {
   "cell_type": "code",
   "execution_count": 427,
   "metadata": {},
   "outputs": [
    {
     "data": {
      "text/plain": [
       "58.570208180566674"
      ]
     },
     "execution_count": 427,
     "metadata": {},
     "output_type": "execute_result"
    }
   ],
   "source": [
    "ridge_cv.alpha_"
   ]
  },
  {
   "cell_type": "code",
   "execution_count": 428,
   "metadata": {},
   "outputs": [],
   "source": [
    "y_train_pred = ridge_cv.predict(X_train_sc)\n",
    "y_test_pred = ridge_cv.predict(X_test_sc)"
   ]
  },
  {
   "cell_type": "code",
   "execution_count": 519,
   "metadata": {},
   "outputs": [
    {
     "name": "stdout",
     "output_type": "stream",
     "text": [
      "Training Root Mean Squared Error: 2762.9812154001747\n",
      "Testing Root Mean Squared Error: 2784.5498354538618\n"
     ]
    }
   ],
   "source": [
    "print('Training Root Mean Squared Error:',(np.sqrt(mean_squared_error(y_train, y_train_pred))))\n",
    "print('Testing Root Mean Squared Error:',(np.sqrt(mean_squared_error(y_test, y_test_pred))))"
   ]
  },
  {
   "cell_type": "code",
   "execution_count": 432,
   "metadata": {},
   "outputs": [
    {
     "data": {
      "text/plain": [
       "0.6204744496722724"
      ]
     },
     "execution_count": 432,
     "metadata": {},
     "output_type": "execute_result"
    }
   ],
   "source": [
    "cross_val_score(ridge, X_train_sc, y_train, cv=5).mean()"
   ]
  },
  {
   "cell_type": "markdown",
   "metadata": {},
   "source": [
    "Ridge Regression is A variation of linear regression with L2 regularization. Regularization adds penalty for higher terms in the model and thus controls the model complexity. If a regularization term is added, the model tries to minimize both loss and complexity of model. Limiting the complexity prevents the model from overfitting. Ridge model shrinks our regression coefficients clsoer to zero to make our model simpler. We are accepting more bias in exchange for a decrease in variance. We observe a slightly lower training score in comparison to our Linear Regression model but a higher testing score. This is surprising as we would expect to see an improvement in the fitness of our model. We can infer from the scores so far that the model is having a difficulty making accurate predictions on the target variable price. There may be too many features that are not linearly realted which are adding noise to the model making it difficult to learn. "
   ]
  },
  {
   "cell_type": "markdown",
   "metadata": {},
   "source": [
    "## Lasso"
   ]
  },
  {
   "cell_type": "code",
   "execution_count": 433,
   "metadata": {},
   "outputs": [],
   "source": [
    "l_alphas = np.logspace(-3, 0, 100)"
   ]
  },
  {
   "cell_type": "code",
   "execution_count": 434,
   "metadata": {},
   "outputs": [],
   "source": [
    "lasso_cv = LassoCV(alphas=l_alphas, cv=5, max_iter=5000)"
   ]
  },
  {
   "cell_type": "code",
   "execution_count": 435,
   "metadata": {},
   "outputs": [],
   "source": [
    "lasso_cv.fit(X_train_sc, y_train);"
   ]
  },
  {
   "cell_type": "code",
   "execution_count": 436,
   "metadata": {},
   "outputs": [],
   "source": [
    "y_train_pred_lasso = lasso_cv.predict(X_train_sc)\n",
    "y_test_pred_lasso = lasso_cv.predict(X_test_sc)"
   ]
  },
  {
   "cell_type": "code",
   "execution_count": 534,
   "metadata": {},
   "outputs": [
    {
     "name": "stdout",
     "output_type": "stream",
     "text": [
      "Training Root Mean Squared Error: 2762.9674175406235\n",
      "Testing Root Mean Squared Error: 2784.551617375429\n"
     ]
    }
   ],
   "source": [
    "print('Training Root Mean Squared Error:',(np.sqrt(mean_squared_error(y_train, y_train_pred_lasso))))\n",
    "print('Testing Root Mean Squared Error:',(np.sqrt(mean_squared_error(y_test, y_test_pred_lasso))))"
   ]
  },
  {
   "cell_type": "code",
   "execution_count": 440,
   "metadata": {},
   "outputs": [
    {
     "data": {
      "text/plain": [
       "0.6202554041471185"
      ]
     },
     "execution_count": 440,
     "metadata": {},
     "output_type": "execute_result"
    }
   ],
   "source": [
    "cross_val_score(lasso, X_train_sc, y_train, cv=5).mean()"
   ]
  },
  {
   "cell_type": "markdown",
   "metadata": {},
   "source": [
    "Lasso is a regression analysis method that performs both variable selection and regularization in order to enhance the prediction accuracy and interpretability of the model. It uses shrinkage wherw data values are shrunk towards a central point, like the mean. We observe almost identical scores as the ridge regression model. The lasso model does not perform well with so many features in our model. If we were to reduce these features after assessing the strongest coefficeints the model may perform better. "
   ]
  },
  {
   "cell_type": "markdown",
   "metadata": {},
   "source": [
    "## Decision Tree"
   ]
  },
  {
   "cell_type": "code",
   "execution_count": 295,
   "metadata": {},
   "outputs": [],
   "source": [
    "d_tree = DecisionTreeRegressor(min_samples_split=3, \n",
    "                                    min_samples_leaf=5,\n",
    "                                    max_depth=10,\n",
    "                                    random_state=42)"
   ]
  },
  {
   "cell_type": "code",
   "execution_count": 296,
   "metadata": {},
   "outputs": [
    {
     "data": {
      "text/plain": [
       "DecisionTreeRegressor(ccp_alpha=0.0, criterion='mse', max_depth=10,\n",
       "                      max_features=None, max_leaf_nodes=None,\n",
       "                      min_impurity_decrease=0.0, min_impurity_split=None,\n",
       "                      min_samples_leaf=5, min_samples_split=3,\n",
       "                      min_weight_fraction_leaf=0.0, presort='deprecated',\n",
       "                      random_state=42, splitter='best')"
      ]
     },
     "execution_count": 296,
     "metadata": {},
     "output_type": "execute_result"
    }
   ],
   "source": [
    "d_tree.fit(X_train,y_train)"
   ]
  },
  {
   "cell_type": "code",
   "execution_count": 297,
   "metadata": {},
   "outputs": [],
   "source": [
    "y_pred_dtree=d_tree.predict(X_test)\n",
    "y_train_pred_dtree = d_tree.predict(X_train)"
   ]
  },
  {
   "cell_type": "code",
   "execution_count": 536,
   "metadata": {},
   "outputs": [
    {
     "name": "stdout",
     "output_type": "stream",
     "text": [
      "Training Root Mean Squared Error: 1909.7438314677613\n",
      "Testing Root Mean Squared Error: 2035.8740106480905\n"
     ]
    }
   ],
   "source": [
    "print('Training Root Mean Squared Error:',(np.sqrt(mean_squared_error(y_train, y_train_pred_dtree))))\n",
    "print('Testing Root Mean Squared Error:',(np.sqrt(mean_squared_error(y_test, y_pred_dtree))))"
   ]
  },
  {
   "cell_type": "code",
   "execution_count": 299,
   "metadata": {},
   "outputs": [
    {
     "name": "stdout",
     "output_type": "stream",
     "text": [
      "Mean Absolute Error: 1352.4310613593614\n",
      "Mean Squared Error: 4144782.9872323414\n",
      "Root Mean Squared Error: 2035.8740106480905\n"
     ]
    }
   ],
   "source": [
    "print('Mean Absolute Error:',(mean_absolute_error(y_test, y_pred_dtree)))\n",
    "print('Mean Squared Error:', (mean_squared_error(y_test, y_pred_dtree)))\n",
    "print('Testing Root Mean Squared Error:',(np.sqrt(mean_squared_error(y_test, y_pred_dtree))))"
   ]
  },
  {
   "cell_type": "code",
   "execution_count": 336,
   "metadata": {},
   "outputs": [
    {
     "name": "stdout",
     "output_type": "stream",
     "text": [
      "0.8199812425058975\n",
      "0.7952362213540953\n"
     ]
    }
   ],
   "source": []
  },
  {
   "cell_type": "code",
   "execution_count": 300,
   "metadata": {},
   "outputs": [
    {
     "data": {
      "text/plain": [
       "0.7900692324608982"
      ]
     },
     "execution_count": 300,
     "metadata": {},
     "output_type": "execute_result"
    }
   ],
   "source": [
    "cross_val_score(d_tree, X_train, y_train, cv=5).mean()"
   ]
  },
  {
   "cell_type": "markdown",
   "metadata": {},
   "source": [
    "The first of the tree based models will will use is the decision tree model. The decision tree builds regression models in the form of a tree structure. It breaks down the dataset into smaller and smaller subsets while at the same time an assocaited decision tree is incrementally developed. The final result is a tree with decision nodes and leaf nodes. The decision tree model perfomed better than all of the linear regression models, achieving a training score below RMSE 2,000 at 1909.74. The testing score was RMSE 2035.87 which tell us this model is somewhat overfit. We anticipate using a Random Forest model will reduce the variance and improve the RMSE scores."
   ]
  },
  {
   "cell_type": "markdown",
   "metadata": {},
   "source": [
    "## Random Forest"
   ]
  },
  {
   "cell_type": "code",
   "execution_count": 301,
   "metadata": {},
   "outputs": [],
   "source": [
    "rfr = RandomForestRegressor(max_depth = 15, n_estimators=50, random_state=42)"
   ]
  },
  {
   "cell_type": "code",
   "execution_count": 302,
   "metadata": {},
   "outputs": [
    {
     "data": {
      "text/plain": [
       "RandomForestRegressor(bootstrap=True, ccp_alpha=0.0, criterion='mse',\n",
       "                      max_depth=15, max_features='auto', max_leaf_nodes=None,\n",
       "                      max_samples=None, min_impurity_decrease=0.0,\n",
       "                      min_impurity_split=None, min_samples_leaf=1,\n",
       "                      min_samples_split=2, min_weight_fraction_leaf=0.0,\n",
       "                      n_estimators=50, n_jobs=None, oob_score=False,\n",
       "                      random_state=42, verbose=0, warm_start=False)"
      ]
     },
     "execution_count": 302,
     "metadata": {},
     "output_type": "execute_result"
    }
   ],
   "source": [
    "rfr.fit(X_train, y_train)"
   ]
  },
  {
   "cell_type": "code",
   "execution_count": 303,
   "metadata": {},
   "outputs": [],
   "source": [
    "y_pred_rfr = rfr.predict(X_test)\n",
    "y_train_pred_rfr = rfr.predict(X_train)"
   ]
  },
  {
   "cell_type": "code",
   "execution_count": 539,
   "metadata": {},
   "outputs": [
    {
     "name": "stdout",
     "output_type": "stream",
     "text": [
      "Training Root Mean Squared Error: 1274.4691008458135\n",
      "Testing Root Mean Squared Error: 1710.2113328919386\n"
     ]
    }
   ],
   "source": [
    "print('Training Root Mean Squared Error:',(np.sqrt(mean_squared_error(y_train, y_train_pred_rfr))))\n",
    "print('Testing Root Mean Squared Error:',(np.sqrt(mean_squared_error(y_test, y_pred_rfr))))"
   ]
  },
  {
   "cell_type": "code",
   "execution_count": 307,
   "metadata": {},
   "outputs": [
    {
     "data": {
      "text/plain": [
       "0.8495789348687668"
      ]
     },
     "execution_count": 307,
     "metadata": {},
     "output_type": "execute_result"
    }
   ],
   "source": [
    "cross_val_score(rfr, X_train, y_train, cv=5).mean()"
   ]
  },
  {
   "cell_type": "markdown",
   "metadata": {},
   "source": [
    "### Random Forest w/ Grid Search"
   ]
  },
  {
   "cell_type": "code",
   "execution_count": 464,
   "metadata": {},
   "outputs": [
    {
     "name": "stdout",
     "output_type": "stream",
     "text": [
      "Fitting 5 folds for each of 24 candidates, totalling 120 fits\n"
     ]
    },
    {
     "name": "stderr",
     "output_type": "stream",
     "text": [
      "[Parallel(n_jobs=-1)]: Using backend LokyBackend with 4 concurrent workers.\n",
      "[Parallel(n_jobs=-1)]: Done  33 tasks      | elapsed:  4.0min\n",
      "[Parallel(n_jobs=-1)]: Done 120 out of 120 | elapsed: 25.6min finished\n"
     ]
    },
    {
     "data": {
      "text/plain": [
       "GridSearchCV(cv=5, error_score=nan,\n",
       "             estimator=RandomForestRegressor(bootstrap=True, ccp_alpha=0.0,\n",
       "                                             criterion='mse', max_depth=15,\n",
       "                                             max_features='auto',\n",
       "                                             max_leaf_nodes=None,\n",
       "                                             max_samples=None,\n",
       "                                             min_impurity_decrease=0.0,\n",
       "                                             min_impurity_split=None,\n",
       "                                             min_samples_leaf=1,\n",
       "                                             min_samples_split=2,\n",
       "                                             min_weight_fraction_leaf=0.0,\n",
       "                                             n_estimators=50, n_jobs=None,\n",
       "                                             oob_score=False, random_state=42,\n",
       "                                             verbose=0, warm_start=False),\n",
       "             iid='deprecated', n_jobs=-1,\n",
       "             param_grid={'bootstrap': [True], 'max_depth': [15, 20, None],\n",
       "                         'max_features': [10, 15], 'min_samples_leaf': [5, 6],\n",
       "                         'min_samples_split': [10], 'n_estimators': [50, 100]},\n",
       "             pre_dispatch='2*n_jobs', refit=True, return_train_score=False,\n",
       "             scoring=None, verbose=2)"
      ]
     },
     "execution_count": 464,
     "metadata": {},
     "output_type": "execute_result"
    }
   ],
   "source": [
    "param_grid = {\n",
    "    'bootstrap': [True],\n",
    "    'max_depth': [15, 20, None],\n",
    "    'max_features': [10, 15],\n",
    "    'min_samples_leaf': [5, 6],\n",
    "    'min_samples_split': [10],\n",
    "    'n_estimators': [50, 100,]\n",
    "}\n",
    "    \n",
    "grid_search = GridSearchCV(rfr, param_grid = param_grid, \n",
    "                          cv = 5, n_jobs = -1, verbose = 2)\n",
    "\n",
    "grid_search.fit(X_train, y_train)"
   ]
  },
  {
   "cell_type": "code",
   "execution_count": 465,
   "metadata": {},
   "outputs": [
    {
     "data": {
      "text/plain": [
       "{'bootstrap': True,\n",
       " 'max_depth': None,\n",
       " 'max_features': 15,\n",
       " 'min_samples_leaf': 5,\n",
       " 'min_samples_split': 10,\n",
       " 'n_estimators': 50}"
      ]
     },
     "execution_count": 465,
     "metadata": {},
     "output_type": "execute_result"
    }
   ],
   "source": [
    "grid_search.best_params_\n",
    "# used a reduce X sample size to identify the best hyperparameters for gridsearch"
   ]
  },
  {
   "cell_type": "code",
   "execution_count": 466,
   "metadata": {},
   "outputs": [],
   "source": [
    "y_pred_gs = grid_search.predict(X_test)\n",
    "y_train_pred_gs = grid_search.predict(X_train)"
   ]
  },
  {
   "cell_type": "code",
   "execution_count": 543,
   "metadata": {},
   "outputs": [
    {
     "name": "stdout",
     "output_type": "stream",
     "text": [
      "Training Root Mean Squared Error: 2040.8327900926452\n",
      "Testing Root Mean Squared Error: 2123.744571446518\n"
     ]
    }
   ],
   "source": [
    "print('Training Root Mean Squared Error:',(np.sqrt(mean_squared_error(y_train, y_train_pred_gs))))\n",
    "print('Testing Root Mean Squared Error:',(np.sqrt(mean_squared_error(y_test, y_pred_gs))))"
   ]
  },
  {
   "cell_type": "code",
   "execution_count": 313,
   "metadata": {},
   "outputs": [
    {
     "name": "stdout",
     "output_type": "stream",
     "text": [
      "Fitting 5 folds for each of 24 candidates, totalling 120 fits\n"
     ]
    },
    {
     "name": "stderr",
     "output_type": "stream",
     "text": [
      "[Parallel(n_jobs=-1)]: Using backend LokyBackend with 4 concurrent workers.\n",
      "[Parallel(n_jobs=-1)]: Done  33 tasks      | elapsed:  3.2min\n",
      "[Parallel(n_jobs=-1)]: Done 120 out of 120 | elapsed: 19.2min finished\n"
     ]
    },
    {
     "name": "stdout",
     "output_type": "stream",
     "text": [
      "Fitting 5 folds for each of 24 candidates, totalling 120 fits\n"
     ]
    },
    {
     "name": "stderr",
     "output_type": "stream",
     "text": [
      "[Parallel(n_jobs=-1)]: Using backend LokyBackend with 4 concurrent workers.\n",
      "[Parallel(n_jobs=-1)]: Done  33 tasks      | elapsed:  2.9min\n",
      "[Parallel(n_jobs=-1)]: Done 120 out of 120 | elapsed: 17.3min finished\n"
     ]
    },
    {
     "name": "stdout",
     "output_type": "stream",
     "text": [
      "Fitting 5 folds for each of 24 candidates, totalling 120 fits\n"
     ]
    },
    {
     "name": "stderr",
     "output_type": "stream",
     "text": [
      "[Parallel(n_jobs=-1)]: Using backend LokyBackend with 4 concurrent workers.\n",
      "[Parallel(n_jobs=-1)]: Done  33 tasks      | elapsed:  2.8min\n",
      "[Parallel(n_jobs=-1)]: Done 120 out of 120 | elapsed: 17.4min finished\n"
     ]
    },
    {
     "name": "stdout",
     "output_type": "stream",
     "text": [
      "Fitting 5 folds for each of 24 candidates, totalling 120 fits\n"
     ]
    },
    {
     "name": "stderr",
     "output_type": "stream",
     "text": [
      "[Parallel(n_jobs=-1)]: Using backend LokyBackend with 4 concurrent workers.\n",
      "[Parallel(n_jobs=-1)]: Done  33 tasks      | elapsed:  2.5min\n",
      "[Parallel(n_jobs=-1)]: Done 120 out of 120 | elapsed: 19.5min finished\n"
     ]
    },
    {
     "name": "stdout",
     "output_type": "stream",
     "text": [
      "Fitting 5 folds for each of 24 candidates, totalling 120 fits\n"
     ]
    },
    {
     "name": "stderr",
     "output_type": "stream",
     "text": [
      "[Parallel(n_jobs=-1)]: Using backend LokyBackend with 4 concurrent workers.\n",
      "[Parallel(n_jobs=-1)]: Done  33 tasks      | elapsed:  2.6min\n",
      "[Parallel(n_jobs=-1)]: Done 120 out of 120 | elapsed: 18.4min finished\n"
     ]
    },
    {
     "data": {
      "text/plain": [
       "0.771908053926772"
      ]
     },
     "execution_count": 313,
     "metadata": {},
     "output_type": "execute_result"
    }
   ],
   "source": [
    "cross_val_score(grid_search, X_train, y_train, cv=5).mean()"
   ]
  },
  {
   "cell_type": "markdown",
   "metadata": {},
   "source": [
    "Random forest is an ensemble of randomized regression trees. Random Forests correct for decision trees' habit of overfitting to their training data. We took two approaches with the Random Forest model, first we ran the model without a grid search and then added a gridsearch in an attempt to identify the best hyperparameters. The Random Forest Regressor performed better without a gridsearch which is odd because the gridsearch should identify the best hyperparameters to include in a random forest regressor. The RMSE training score from the random forest regressor w/out a gridsearch was RMSE 1274.46 the testing score was RMSE 1710.21. This model has scored the best so far however it is clear by the difference in training and testing scores that the model suffers from high variance. It is overfit and which is indicative of poor model. The next step is to use an Extra Trees model to help reduce the high variance and hopefull improve the score. "
   ]
  },
  {
   "cell_type": "markdown",
   "metadata": {},
   "source": [
    "## Extra Trees"
   ]
  },
  {
   "cell_type": "code",
   "execution_count": 314,
   "metadata": {},
   "outputs": [],
   "source": [
    "etr = ExtraTreesRegressor(n_estimators = 100, random_state = 42 )"
   ]
  },
  {
   "cell_type": "code",
   "execution_count": 315,
   "metadata": {},
   "outputs": [
    {
     "data": {
      "text/plain": [
       "ExtraTreesRegressor(bootstrap=False, ccp_alpha=0.0, criterion='mse',\n",
       "                    max_depth=None, max_features='auto', max_leaf_nodes=None,\n",
       "                    max_samples=None, min_impurity_decrease=0.0,\n",
       "                    min_impurity_split=None, min_samples_leaf=1,\n",
       "                    min_samples_split=2, min_weight_fraction_leaf=0.0,\n",
       "                    n_estimators=100, n_jobs=None, oob_score=False,\n",
       "                    random_state=42, verbose=0, warm_start=False)"
      ]
     },
     "execution_count": 315,
     "metadata": {},
     "output_type": "execute_result"
    }
   ],
   "source": [
    "etr.fit(X_train, y_train)"
   ]
  },
  {
   "cell_type": "code",
   "execution_count": 316,
   "metadata": {},
   "outputs": [],
   "source": [
    "y_train_pred_etr = etr.predict(X_train)\n",
    "y_pred_etr = etr.predict(X_test)"
   ]
  },
  {
   "cell_type": "code",
   "execution_count": 546,
   "metadata": {},
   "outputs": [
    {
     "name": "stdout",
     "output_type": "stream",
     "text": [
      "Training Root Mean Squared Error: 26.939766747651895\n",
      "Testing Root Mean Squared Error: 1615.3596093308909\n"
     ]
    }
   ],
   "source": [
    "print('Training Root Mean Squared Error:',(np.sqrt(mean_squared_error(y_train, y_train_pred_etr))))\n",
    "print('Testing Root Mean Squared Error:',(np.sqrt(mean_squared_error(y_test, y_pred_etr))))"
   ]
  },
  {
   "cell_type": "code",
   "execution_count": 325,
   "metadata": {},
   "outputs": [
    {
     "data": {
      "text/plain": [
       "0.8652767950384721"
      ]
     },
     "execution_count": 325,
     "metadata": {},
     "output_type": "execute_result"
    }
   ],
   "source": [
    "cross_val_score(etr, X_train, y_train, cv=5).mean()"
   ]
  },
  {
   "cell_type": "markdown",
   "metadata": {},
   "source": [
    "When using an Extra Trees model we observe an extremely low training score. This may be due to the models sensitivity to the train test split. This is unfortunate because we observe one of our best testing scores with this model. Unfortunately, this model will be excluded from the model selection process because it's providing a score that is not reliable. It is difficult to believe that we would observe such an improvement in our training score with this model. It would also be considered extremely overfit. Additonal research will be required to understand the low training score. "
   ]
  },
  {
   "cell_type": "markdown",
   "metadata": {},
   "source": [
    "## Gradient Boost"
   ]
  },
  {
   "cell_type": "code",
   "execution_count": 320,
   "metadata": {},
   "outputs": [
    {
     "data": {
      "text/plain": [
       "GradientBoostingRegressor(alpha=0.9, ccp_alpha=0.0, criterion='friedman_mse',\n",
       "                          init=None, learning_rate=0.02, loss='ls', max_depth=5,\n",
       "                          max_features=None, max_leaf_nodes=None,\n",
       "                          min_impurity_decrease=0.0, min_impurity_split=None,\n",
       "                          min_samples_leaf=1, min_samples_split=2,\n",
       "                          min_weight_fraction_leaf=0.0, n_estimators=200,\n",
       "                          n_iter_no_change=None, presort='deprecated',\n",
       "                          random_state=None, subsample=1.0, tol=0.0001,\n",
       "                          validation_fraction=0.1, verbose=0, warm_start=False)"
      ]
     },
     "execution_count": 320,
     "metadata": {},
     "output_type": "execute_result"
    }
   ],
   "source": [
    "params = {'n_estimators': 200, 'max_depth': 5,\n",
    "          'learning_rate': 0.02, 'loss': 'ls'}\n",
    "\n",
    "#gbr = GradientBoostingRegressor(random_state = 42)\n",
    "gbr = GradientBoostingRegressor(**params)\n",
    "\n",
    "#Train the model\n",
    "gbr.fit(X_train, y_train)"
   ]
  },
  {
   "cell_type": "raw",
   "metadata": {},
   "source": [
    "y_preds_gbr = gbr.predict(X_test)\n",
    "y_preds_train_gbr = gbr.predict(X_train)"
   ]
  },
  {
   "cell_type": "code",
   "execution_count": 548,
   "metadata": {},
   "outputs": [
    {
     "name": "stdout",
     "output_type": "stream",
     "text": [
      "Training Root Mean Squared Error: 1871.8699933930377\n",
      "Testing Root Mean Squared Error: 1882.5082445235591\n"
     ]
    }
   ],
   "source": [
    "print('Training Root Mean Squared Error:',(np.sqrt(mean_squared_error(y_train, y_preds_train_gbr))))\n",
    "print('Testing Root Mean Squared Error:',(np.sqrt(mean_squared_error(y_test, y_preds_gbr))))"
   ]
  },
  {
   "cell_type": "code",
   "execution_count": 326,
   "metadata": {},
   "outputs": [
    {
     "data": {
      "text/plain": [
       "0.82189570864305"
      ]
     },
     "execution_count": 326,
     "metadata": {},
     "output_type": "execute_result"
    }
   ],
   "source": [
    "cross_val_score(gbr, X_train, y_train, cv=5).mean()"
   ]
  },
  {
   "cell_type": "markdown",
   "metadata": {},
   "source": [
    "Gradient Boosting Regressor: An ensemble method that combines many decision trees using boosting. Gradient boost achieved the second best RMSE scores (training: 1871.87, testing: 1882.51). It also is our best fit model with very little difference between training and testing scores. This model did not perform as well as the random forest model but is in consideration for the model we will select. "
   ]
  },
  {
   "cell_type": "markdown",
   "metadata": {},
   "source": [
    "## Model Selection"
   ]
  },
  {
   "cell_type": "markdown",
   "metadata": {},
   "source": [
    "Two models were in consdieration for model selection. The Random Forest model and the Gradient Boost model. The Random Forest model had a RMSE training score of 1274.47 and a testing score of 1710.21. The Gradient Boost model had a training score of 1223.34 and a testing score of 1343.34. The Random Forest had better scores overall but the difference between the training and the testing score shows that the model was overfit. This high amount of variance is problematic as this model may not peform well on other data sets. The Gradient Boost was the second best perfomer score wise but it was much better fit. We have more confidence in this model if it was used with new data. "
   ]
  },
  {
   "cell_type": "markdown",
   "metadata": {},
   "source": [
    "## Model Evaluation"
   ]
  },
  {
   "cell_type": "markdown",
   "metadata": {},
   "source": [
    "#### Addtional Metrics"
   ]
  },
  {
   "cell_type": "markdown",
   "metadata": {},
   "source": [
    "##### Training Scores"
   ]
  },
  {
   "cell_type": "markdown",
   "metadata": {},
   "source": [
    "|Model|MAE Score|MSE Score|RMSE Score|R^2 Score|\n",
    "|:---|---|:---|:---|:---|\n",
    "|Linar Regression|1988.967|7633552.080|2762.888|0.621|\n",
    "|Ridge|1988.987|7634065.197|2762.98|0.623 |\n",
    "|Lasso|1988.86|7634196.473|2763.00|0.623 | \n",
    "|Decision Tree|1288.828|3647121.502|1909.744|0.820|\n",
    "|Random Forest|891.785|1624271.489|1274.469|0.920|\n",
    "|Extra Trees*|1.51|725.75|1615.35|0.999|\n",
    "|Gradient Boost|1262.11|3503897.27|1871.87|0.825| "
   ]
  },
  {
   "cell_type": "markdown",
   "metadata": {},
   "source": [
    "*scores for extra trees were extremely low in relation to training score and all other models. This model will not be in consideration during model selection. "
   ]
  },
  {
   "cell_type": "markdown",
   "metadata": {},
   "source": [
    "##### Testing Scores"
   ]
  },
  {
   "cell_type": "markdown",
   "metadata": {},
   "source": [
    "|Model|Training RMSE Score|Testing RMSE Score|\n",
    "|:---|:---|:---|\n",
    "|Linar Regression|1983.582|7753806.762|\n",
    "|Ridge|1983.578|7753717.786|\n",
    "|Lasso|1983.579|7753727.709|\n",
    "|Decision Tree|1352.431|4144782.987|\n",
    "|Random Forest|1108.258|2924822.803|\n",
    "|Extra Trees*|984.296|2609386.667|\n",
    "|Gradient Boost|1264.153|3543837.29|"
   ]
  },
  {
   "cell_type": "markdown",
   "metadata": {},
   "source": [
    "### Linear Regression"
   ]
  },
  {
   "cell_type": "code",
   "execution_count": 524,
   "metadata": {},
   "outputs": [
    {
     "name": "stdout",
     "output_type": "stream",
     "text": [
      "Training Mean Absolute Error: 1988.9674850856813\n",
      "Training Mean Squared Error: 7633552.080091519\n",
      "Training R^2: 0.6232144829736564\n"
     ]
    }
   ],
   "source": [
    "print('Training Mean Absolute Error:',(mean_absolute_error(y_train, y_train_preds)))\n",
    "print('Training Mean Squared Error:', (mean_squared_error(y_train, y_train_preds)))\n",
    "print('Training R^2:', (model.score(X_train, y_train)))"
   ]
  },
  {
   "cell_type": "code",
   "execution_count": 525,
   "metadata": {},
   "outputs": [
    {
     "name": "stdout",
     "output_type": "stream",
     "text": [
      "Testing Mean Absolute Error: 1983.5823570888845\n",
      "Testing Mean Squared Error: 7753806.762013853\n",
      "Testing R^2: 0.6232144829736564\n"
     ]
    }
   ],
   "source": [
    "print('Testing Mean Absolute Error:',(mean_absolute_error(y_test, y_test_preds)))\n",
    "print('Testing Mean Squared Error:', (mean_squared_error(y_test, y_test_preds)))\n",
    "print('Testing R^2:', (model.score(X_train, y_train)))"
   ]
  },
  {
   "cell_type": "markdown",
   "metadata": {},
   "source": [
    "### Ridge "
   ]
  },
  {
   "cell_type": "code",
   "execution_count": 526,
   "metadata": {},
   "outputs": [
    {
     "name": "stdout",
     "output_type": "stream",
     "text": [
      "Training Mean Absolute Error: 1988.9874304678965\n",
      "Training Mean Squared Error: 7634065.196654228\n",
      "Training R^2: 0.6231891559846812\n"
     ]
    }
   ],
   "source": [
    "print('Training Mean Absolute Error:',(mean_absolute_error(y_train, y_train_pred)))\n",
    "print('Training Mean Squared Error:', (mean_squared_error(y_train, y_train_pred)))\n",
    "print('Training R^2:', (ridge_cv.score(X_train_sc, y_train)))"
   ]
  },
  {
   "cell_type": "code",
   "execution_count": 527,
   "metadata": {},
   "outputs": [
    {
     "name": "stdout",
     "output_type": "stream",
     "text": [
      "Testing Mean Absolute Error: 1983.5779917433333\n",
      "Testing Mean Squared Error: 7753717.7861261275\n",
      "Testing R^2: 0.616944829842271\n"
     ]
    }
   ],
   "source": [
    "print('Testing Mean Absolute Error:',(mean_absolute_error(y_test, y_test_pred)))\n",
    "print('Testing Mean Squared Error:', (mean_squared_error(y_test, y_test_pred)))\n",
    "print('Testing R^2:', (ridge_cv.score(X_test_sc, y_test)))"
   ]
  },
  {
   "cell_type": "markdown",
   "metadata": {},
   "source": [
    "### Lasso"
   ]
  },
  {
   "cell_type": "code",
   "execution_count": 531,
   "metadata": {},
   "outputs": [
    {
     "name": "stdout",
     "output_type": "stream",
     "text": [
      "Training Mean Absolute Error: 1989.0449355544727\n",
      "Training Mean Squared Error: 7633988.950391102\n",
      "Training R^2: 0.6231929194341699\n"
     ]
    }
   ],
   "source": [
    "print('Training Mean Absolute Error:',(mean_absolute_error(y_train, y_train_pred_lasso)))\n",
    "print('Training Mean Squared Error:', (mean_squared_error(y_train, y_train_pred_lasso)))\n",
    "print('Training R^2:',(lasso_cv.score(X_train_sc, y_train)))"
   ]
  },
  {
   "cell_type": "code",
   "execution_count": 533,
   "metadata": {},
   "outputs": [
    {
     "name": "stdout",
     "output_type": "stream",
     "text": [
      "Testing Mean Absolute Error: 1983.5785033808163\n",
      "Testing Mean Squared Error: 7753727.709828119\n",
      "Testing R^2: 0.6169443395838607\n"
     ]
    }
   ],
   "source": [
    "print('Testing Mean Absolute Error:',(mean_absolute_error(y_test, y_test_pred_lasso)))\n",
    "print('Testing Mean Squared Error:', (mean_squared_error(y_test, y_test_pred_lasso)))\n",
    "print('Testing R^2:',(lasso_cv.score(X_test_sc, y_test)))"
   ]
  },
  {
   "cell_type": "markdown",
   "metadata": {},
   "source": [
    "### Decision Tree"
   ]
  },
  {
   "cell_type": "code",
   "execution_count": 535,
   "metadata": {},
   "outputs": [
    {
     "name": "stdout",
     "output_type": "stream",
     "text": [
      "Training Mean Absolute Error: 1288.827828095027\n",
      "Training Mean Squared Error: 3647121.501829165\n",
      "Training R^2: 0.8199812425058975\n"
     ]
    }
   ],
   "source": [
    "print('Training Mean Absolute Error:',(mean_absolute_error(y_train, y_train_pred_dtree)))\n",
    "print('Training Mean Squared Error:', (mean_squared_error(y_train, y_train_pred_dtree)))\n",
    "print('Training R^2:',(d_tree.score(X_train, y_train)))"
   ]
  },
  {
   "cell_type": "code",
   "execution_count": 537,
   "metadata": {},
   "outputs": [
    {
     "name": "stdout",
     "output_type": "stream",
     "text": [
      "Testing Mean Absolute Error: 1352.4310613593614\n",
      "Testing Mean Squared Error: 4144782.9872323414\n",
      "Testing R^2: 0.7952362213540953\n"
     ]
    }
   ],
   "source": [
    "print('Testing Mean Absolute Error:',(mean_absolute_error(y_test, y_pred_dtree)))\n",
    "print('Testing Mean Squared Error:', (mean_squared_error(y_test, y_pred_dtree)))\n",
    "print('Testing R^2:', (d_tree.score(X_test, y_test)))"
   ]
  },
  {
   "cell_type": "markdown",
   "metadata": {},
   "source": [
    "### Random Forest"
   ]
  },
  {
   "cell_type": "code",
   "execution_count": 538,
   "metadata": {},
   "outputs": [
    {
     "name": "stdout",
     "output_type": "stream",
     "text": [
      "Training Mean Absolute Error: 891.7850883556738\n",
      "Training Mean Squared Error: 1624271.4890107363\n",
      "Training R^2: 0.9198273665579391\n"
     ]
    }
   ],
   "source": [
    "print('Training Mean Absolute Error:',(mean_absolute_error(y_train, y_train_pred_rfr)))\n",
    "print('Training Mean Squared Error:', (mean_squared_error(y_train, y_train_pred_rfr)))\n",
    "print('Training R^2:', rfr.score(X_train, y_train))"
   ]
  },
  {
   "cell_type": "code",
   "execution_count": 540,
   "metadata": {},
   "outputs": [
    {
     "name": "stdout",
     "output_type": "stream",
     "text": [
      "Testing Mean Absolute Error: 1108.2586062719702\n",
      "Testing Mean Squared Error: 2924822.803152021\n",
      "Testing R^2: 0.8555056390435953\n"
     ]
    }
   ],
   "source": [
    "print('Testing Mean Absolute Error:',(mean_absolute_error(y_test, y_pred_rfr)))\n",
    "print('Testing Mean Squared Error:', (mean_squared_error(y_test, y_pred_rfr)))\n",
    "print('Testing R^2:', rfr.score(X_test, y_test))"
   ]
  },
  {
   "cell_type": "markdown",
   "metadata": {},
   "source": [
    "### Random Forest w/ Gridsearch"
   ]
  },
  {
   "cell_type": "code",
   "execution_count": 541,
   "metadata": {},
   "outputs": [
    {
     "name": "stdout",
     "output_type": "stream",
     "text": [
      "TrainingMean Absolute Error: 1400.787031768783\n",
      "TrainingMean Squared Error: 4164998.4771173303\n",
      "Training R^2: 0.7944192836900417\n"
     ]
    }
   ],
   "source": [
    "print('TrainingMean Absolute Error:',(mean_absolute_error(y_train, y_train_pred_gs)))\n",
    "print('TrainingMean Squared Error:', (mean_squared_error(y_train, y_train_pred_gs)))\n",
    "print('Training R^2:', grid_search.score(X_train, y_train))"
   ]
  },
  {
   "cell_type": "code",
   "execution_count": 542,
   "metadata": {},
   "outputs": [
    {
     "name": "stdout",
     "output_type": "stream",
     "text": [
      "Testing Mean Absolute Error: 1453.7233496905837\n",
      "Testing Mean Squared Error: 4510291.004748554\n",
      "Testing R^2: 0.7771791112418069\n"
     ]
    }
   ],
   "source": [
    "print('Testing Mean Absolute Error:',(mean_absolute_error(y_test, y_pred_gs)))\n",
    "print('Testing Mean Squared Error:', (mean_squared_error(y_test, y_pred_gs)))\n",
    "print('Testing R^2:', grid_search.score(X_test, y_test))"
   ]
  },
  {
   "cell_type": "markdown",
   "metadata": {},
   "source": [
    "### Extra Tress"
   ]
  },
  {
   "cell_type": "code",
   "execution_count": 544,
   "metadata": {},
   "outputs": [
    {
     "name": "stdout",
     "output_type": "stream",
     "text": [
      "Training Mean Absolute Error: 1.5178258995710048\n",
      "Training Mean Squared Error: 725.7510324178907\n",
      "Training R^2: 0.9999641775578245\n"
     ]
    }
   ],
   "source": [
    "print('Training Mean Absolute Error:',(mean_absolute_error(y_train, y_train_pred_etr)))\n",
    "print('Training Mean Squared Error:', (mean_squared_error(y_train, y_train_pred_etr)))\n",
    "print('Training R^2:', etr.score(X_train, y_train))"
   ]
  },
  {
   "cell_type": "code",
   "execution_count": 545,
   "metadata": {},
   "outputs": [
    {
     "name": "stdout",
     "output_type": "stream",
     "text": [
      "Testing Mean Absolute Error: 984.2957957014505\n",
      "Testing Mean Squared Error: 2609386.6674576486\n",
      "Testing R^2: 0.9999641775578245\n"
     ]
    }
   ],
   "source": [
    "print('Testing Mean Absolute Error:',(mean_absolute_error(y_test, y_pred_etr)))\n",
    "print('Testing Mean Squared Error:', (mean_squared_error(y_test, y_pred_etr)))\n",
    "print('Testing R^2:', etr.score(X_train, y_train))"
   ]
  },
  {
   "cell_type": "markdown",
   "metadata": {},
   "source": [
    "### Gradient Boost"
   ]
  },
  {
   "cell_type": "code",
   "execution_count": 556,
   "metadata": {},
   "outputs": [
    {
     "name": "stdout",
     "output_type": "stream",
     "text": [
      "Mean Absolute Error: 1262.1091780485233\n",
      "Mean Squared Error: 3503897.272165251\n",
      "Training R^2: 0.8270506663938093\n"
     ]
    }
   ],
   "source": [
    "print('Training Mean Absolute Error:',(mean_absolute_error(y_train, y_preds_train_gbr)))\n",
    "print('Training Mean Squared Error:', (mean_squared_error(y_train, y_preds_train_gbr)))\n",
    "print('Training R^2:', (gbr.score(X_train, y_train)))"
   ]
  },
  {
   "cell_type": "code",
   "execution_count": 558,
   "metadata": {},
   "outputs": [
    {
     "name": "stdout",
     "output_type": "stream",
     "text": [
      "Testing Mean Absolute Error: 1264.1534378210729\n",
      "Testing Mean Squared Error: 3543837.2906991728\n",
      "Testing R^2: 0.8249246059962292\n"
     ]
    }
   ],
   "source": [
    "print('Testing Mean Absolute Error:',(mean_absolute_error(y_test, y_preds_gbr)))\n",
    "print('Testing Mean Squared Error:', (mean_squared_error(y_test, y_preds_gbr)))\n",
    "print('Testing R^2:', (gbr.score(X_test, y_test)))\n",
    "print('Testing R^2:', (gbr.score(X_test, y_test)))"
   ]
  },
  {
   "cell_type": "markdown",
   "metadata": {},
   "source": [
    "Additional metrics that are used to evaluate the performance of models were generated in the model evaluation section to help evaluate the performance of the models. These metrics include Mean Absolute Error, Mean Squared Error and R^2"
   ]
  },
  {
   "cell_type": "markdown",
   "metadata": {},
   "source": [
    "## Model Evaluation"
   ]
  },
  {
   "cell_type": "markdown",
   "metadata": {},
   "source": [
    "The best performing model was Gradient Boost with a an RMSE training score of 1871.87 and a testing score of 1882.508. This model performed better than our baseline score of 4501.07 but overall performed poorly. The mean price of a car in our data set was 4,812 and we have an RMSE score of (1824.57). The RMSE score represents the value in Euros our average prediction is off by. It is a considerable amount off from the true price of the car and cannot be considered as a model that would be used for realworld application. The scores were not close to our target of a RMSE score within 10% of the mean value (4,812) of cars in the dataset. All models seemed to suffer from high bias and all of the Linear Regression models had poor cross validation scores averaging in the low 60% range.  \n",
    "\n",
    "The tree based models all performed better than Linear Regression Models. The received better scores across the board on all metrics (see table above) and their cross validation scores were considerably better than the Linear Regression models. This is most likely due to the fact that Tree based models are able to discover more complex dependencies at the cost of more time for fitting. The Linear Regression models struggled becuase only a few features had a strong linear realtionship with the target variable price. The tree based models tend to handle large numbers of features better which is what our model dealt with once we one hot encoded model, brand, and vehicle types. This increased our feature size to over 300. Linear Regression needs regularization to avoid overfitting but even with this we did not observe an increase in performance. Linear Regression models may have perfomed better with a reduction in features only focusing on a small number of variables with strong linear realtionships to price. \n",
    "\n",
    "\n",
    "There were limited features that actual had any sizeable feature importance to our target variable. The additional features outside of age, kilometers, KwPower and a handful of car brands introduced a large amount of noise into the model and it made it difficult for the model to train. Also the range in prices of the same make and model cars made it more challenging for the model to learn. Car prices for each model seemed to range from slightly less than their retail price all the way down to a few thousand Euro or less. With such great variance in price for a smiliar brand and model our model has a difficult time making accurate price predictions. "
   ]
  },
  {
   "cell_type": "markdown",
   "metadata": {},
   "source": []
  },
  {
   "cell_type": "markdown",
   "metadata": {},
   "source": [
    "Using the best model Gradient Boost we created a scatter plot of the predicted prices vs. the actual prices. "
   ]
  },
  {
   "cell_type": "code",
   "execution_count": 444,
   "metadata": {},
   "outputs": [
    {
     "data": {
      "image/png": "[encoded data removed]",
      "text/plain": [
       "<Figure size 864x468 with 1 Axes>"
      ]
     },
     "metadata": {
      "needs_background": "light"
     },
     "output_type": "display_data"
    }
   ],
   "source": [
    "plt.figure(figsize=(12,6.5))\n",
    "sns.scatterplot(y_test, y_preds_gbr)\n",
    "plt.title('Predicted Price vs. Actual Price', size = 20)\n",
    "plt.xlabel('Actual Price')\n",
    "plt.ylabel('Predictions')\n",
    "plt.savefig('a.png')\n",
    "plt.plot([0, np.max(y_preds_gbr)],\n",
    "         [0, np.max(y_preds_gbr)],\n",
    "         color = 'black');"
   ]
  },
  {
   "cell_type": "markdown",
   "metadata": {},
   "source": [
    "It is hard to tell because there a high volumne of plots in above scatterplot but we can say with confidence that we observe heteroscedasticity. These plots do not have a similar scatter and from lowest to highest price we observe predictions that are extremely far off from the actual price. We also observe a fan out effect of our plots especially as the true values increase in price. As price increases we observe many predictions that are making predictions that are much lower than the actual price of the car. We can see from this plot that the model struggled to make accurate predictions as the actual price of the car increased, prediciting much lower prices than the true price of the cars. \n"
   ]
  },
  {
   "cell_type": "code",
   "execution_count": 337,
   "metadata": {},
   "outputs": [],
   "source": [
    "df = pd.DataFrame({'Actual Price': y_test, 'Predicted Price': y_preds_gbr})\n",
    "data = df.head(20)"
   ]
  },
  {
   "cell_type": "code",
   "execution_count": 482,
   "metadata": {},
   "outputs": [
    {
     "data": {
      "image/png": "[encoded data removed]",
      "text/plain": [
       "<Figure size 792x504 with 1 Axes>"
      ]
     },
     "metadata": {
      "needs_background": "light"
     },
     "output_type": "display_data"
    }
   ],
   "source": [
    "data.plot(kind='bar',figsize=(11,7))\n",
    "plt.xlabel('Vehicle ID')\n",
    "plt.ylabel('Price')\n",
    "plt.title('Actual vs. Predicted Prices', size = 20)\n",
    "plt.show();"
   ]
  },
  {
   "cell_type": "markdown",
   "metadata": {},
   "source": [
    "We took a sample of twenty predictions to continue the analysis of our models predictions. What we can tell from the above chart is when the true price of the car was low, somewhere in the 1,000 - 2,500 range the model made more accurate predictions. As the true prices of the cars increased the difference in (ytrue - yhat) began to increase. "
   ]
  },
  {
   "cell_type": "markdown",
   "metadata": {},
   "source": [
    "### Feature Importance"
   ]
  },
  {
   "cell_type": "markdown",
   "metadata": {},
   "source": [
    "After being fit, the model provides a feature_importances_ property that can be accessed to retrieve the relative importance scores for each input feature. Feature selection methods can give you useful information on the relative importance or relevance of features for a given problem. You can use this information to create filtered versions of your dataset and increase the accuracy of your models."
   ]
  },
  {
   "cell_type": "code",
   "execution_count": 452,
   "metadata": {},
   "outputs": [],
   "source": [
    "f_importance = gbr.feature_importances_\n",
    "\n",
    "f_list=X_train.columns\n",
    "\n",
    "df_feature_importance=pd.DataFrame(f_importance,columns=['importance'],index=f_list).sort_values(['importance'],ascending=False)"
   ]
  },
  {
   "cell_type": "code",
   "execution_count": null,
   "metadata": {},
   "outputs": [],
   "source": [
    "f_list=X.columns\n",
    "df_gbr = pd.DataFrame(f_importance,index=f_list,columns=['importance']).sort_values(['importance'],ascending=False)\n",
    "df_gbr.head(10)"
   ]
  },
  {
   "cell_type": "code",
   "execution_count": 469,
   "metadata": {},
   "outputs": [
    {
     "data": {
      "image/png": "[encoded data removed]",
      "text/plain": [
       "<Figure size 720x360 with 1 Axes>"
      ]
     },
     "metadata": {
      "needs_background": "light"
     },
     "output_type": "display_data"
    }
   ],
   "source": [
    "#plot the feature importance\n",
    "fig, ax = plt.subplots(figsize=(10, 5))\n",
    "sns.barplot(top10_features.index,top10_features['importance'],data=top10_features)\n",
    "plt.xlabel('Feature')\n",
    "plt.title('Top 10 Features', size = 20)\n",
    "plt.xticks(rotation=45);"
   ]
  },
  {
   "cell_type": "markdown",
   "metadata": {},
   "source": [
    "Analyzing the features with the highest coefficients to price we observe the two features we hypothesized while doing our EDA in the top three. This comes as no surprise as intuition tells us that age and kilometers driven are the most important features when evaluating the re-sale value of a used car. Age seemed to be the most important factor. This is likely due to the fact that even if the odometer is realatively low on ab old car it just has had more time to wear. More things like rust, worn interior, outdated parts that may be hard to find are all contributing factors to price. Kilometers driven goes hand in hand with this, as mentioned in EDA there is a linear relation between these two variables. The older the car the higher the number on the odometer. \n",
    "\n",
    "The fact that Kilowatts is the second most important feature was somewhat surprising. At first it didn't make sense but after further research we learned that higher Kilowatts usually correlates to larger engine size. Engines being arguably the most important component of an automobile it is logical to assume that the larger the engine the higher the price of a car would be. Large powerful engines are also usually associated with luxury automobiles. "
   ]
  },
  {
   "cell_type": "markdown",
   "metadata": {},
   "source": [
    "## Interpretable Model/Model Coefficients"
   ]
  },
  {
   "cell_type": "markdown",
   "metadata": {},
   "source": [
    "Additionally we wanted to analyze an interpretable model to gain a better understaning of the most important features when predicting price. Here we are able to intepret the models coefficients. Our best performing Linear Regression model was the Ridge model."
   ]
  },
  {
   "cell_type": "code",
   "execution_count": 455,
   "metadata": {},
   "outputs": [
    {
     "data": {
      "text/html": [
       "<div>\n",
       "<style scoped>\n",
       "    .dataframe tbody tr th:only-of-type {\n",
       "        vertical-align: middle;\n",
       "    }\n",
       "\n",
       "    .dataframe tbody tr th {\n",
       "        vertical-align: top;\n",
       "    }\n",
       "\n",
       "    .dataframe thead th {\n",
       "        text-align: right;\n",
       "    }\n",
       "</style>\n",
       "<table border=\"1\" class=\"dataframe\">\n",
       "  <thead>\n",
       "    <tr style=\"text-align: right;\">\n",
       "      <th></th>\n",
       "      <th>name</th>\n",
       "      <th>coeff</th>\n",
       "    </tr>\n",
       "  </thead>\n",
       "  <tbody>\n",
       "    <tr>\n",
       "      <th>19</th>\n",
       "      <td>brand_audi</td>\n",
       "      <td>816.061108</td>\n",
       "    </tr>\n",
       "    <tr>\n",
       "      <th>20</th>\n",
       "      <td>brand_bmw</td>\n",
       "      <td>801.832930</td>\n",
       "    </tr>\n",
       "    <tr>\n",
       "      <th>38</th>\n",
       "      <td>brand_mercedes_benz</td>\n",
       "      <td>605.892132</td>\n",
       "    </tr>\n",
       "    <tr>\n",
       "      <th>6</th>\n",
       "      <td>vehicleType_cabrio</td>\n",
       "      <td>593.438520</td>\n",
       "    </tr>\n",
       "    <tr>\n",
       "      <th>99</th>\n",
       "      <td>model_andere</td>\n",
       "      <td>558.917061</td>\n",
       "    </tr>\n",
       "    <tr>\n",
       "      <th>...</th>\n",
       "      <td>...</td>\n",
       "      <td>...</td>\n",
       "    </tr>\n",
       "    <tr>\n",
       "      <th>43</th>\n",
       "      <td>brand_peugeot</td>\n",
       "      <td>-372.453491</td>\n",
       "    </tr>\n",
       "    <tr>\n",
       "      <th>12</th>\n",
       "      <td>gearbox_manuell</td>\n",
       "      <td>-485.014825</td>\n",
       "    </tr>\n",
       "    <tr>\n",
       "      <th>50</th>\n",
       "      <td>brand_smart</td>\n",
       "      <td>-501.214751</td>\n",
       "    </tr>\n",
       "    <tr>\n",
       "      <th>4</th>\n",
       "      <td>age</td>\n",
       "      <td>-1404.348441</td>\n",
       "    </tr>\n",
       "    <tr>\n",
       "      <th>0</th>\n",
       "      <td>kilometer</td>\n",
       "      <td>-1701.642666</td>\n",
       "    </tr>\n",
       "  </tbody>\n",
       "</table>\n",
       "<p>309 rows × 2 columns</p>\n",
       "</div>"
      ],
      "text/plain": [
       "                   name        coeff\n",
       "19           brand_audi   816.061108\n",
       "20            brand_bmw   801.832930\n",
       "38  brand_mercedes_benz   605.892132\n",
       "6    vehicleType_cabrio   593.438520\n",
       "99         model_andere   558.917061\n",
       "..                  ...          ...\n",
       "43        brand_peugeot  -372.453491\n",
       "12      gearbox_manuell  -485.014825\n",
       "50          brand_smart  -501.214751\n",
       "4                   age -1404.348441\n",
       "0             kilometer -1701.642666\n",
       "\n",
       "[309 rows x 2 columns]"
      ]
     },
     "execution_count": 455,
     "metadata": {},
     "output_type": "execute_result"
    }
   ],
   "source": [
    "coef_df = pd.DataFrame({'name':X.columns, 'coeff':ridge.coef_})\n",
    "coef_df.sort_values(by='coeff', ascending = False)"
   ]
  },
  {
   "cell_type": "markdown",
   "metadata": {},
   "source": [
    "In regression with multiple independent variables, the coefficient tells you how much the dependent variable is expected to increase when that independent variable increases by one, holding all the other independent variables constant.\n",
    "\n",
    "A negative coefficient suggests that as the independent variable increases, the dependent variable tends to decrease. The coefficient value signifies how much the mean of the dependent variable changes given a one-unit shift in the independent variable while holding other variables in the model constant.\n",
    "\n",
    "When analyzing the coefficients of a higest correlated features we see age has a coefficent of -1,404.34. This can be interpreted by saying, as the age of a car increases by one unit (one year), then we expect the price of the car to decrease by €1,402.35 all else being equal. Now logically this does not make sense as if a car had a true value of € 5,000 in four years the car would be worth a negative amount. This is the weight our model is putting on this feature. We see here that this feature has a strong correlation to price and greatly affects the models prediction of a cars price. \n",
    "\n",
    "For the positve coefficeints we observe the top five are categorical variables. This could be interpreted as \"if the car is a Audi it will have an €816.06 increase in our y variable (price). "
   ]
  },
  {
   "cell_type": "code",
   "execution_count": 367,
   "metadata": {},
   "outputs": [],
   "source": [
    "def plot_coef(model, top_n = 10):\n",
    "    cols = X_train.columns\n",
    "    coef = ridge.coef_\n",
    "    zipped = list(zip(cols, coef))\n",
    "    zipped.sort(key=lambda x: x[1], reverse = True)\n",
    "    top_10 = pd.DataFrame(zipped).head(top_n)\n",
    "    bottom_10 = pd.DataFrame(zipped).tail(top_n)\n",
    "    return pd.concat([top_10, bottom_10], axis=0).plot.barh(x = 0, y = 1)"
   ]
  },
  {
   "cell_type": "code",
   "execution_count": 491,
   "metadata": {},
   "outputs": [
    {
     "data": {
      "image/png": "[encoded data removed]",
      "text/plain": [
       "<Figure size 432x288 with 1 Axes>"
      ]
     },
     "metadata": {
      "needs_background": "light"
     },
     "output_type": "display_data"
    }
   ],
   "source": [
    "\n",
    "plot_coef(ridge)\n",
    "plt.title('Model Coefficients', size = 20)\n",
    "plt.xlabel('Coefficient')\n",
    "plt.ylabel('Features');"
   ]
  },
  {
   "cell_type": "markdown",
   "metadata": {},
   "source": [
    "The most valuable features are brands of vehicles. If a car in the dataset is an Audi, BMW, or Merceds-Benz it has the greatest impact increasing the prediction. This is to be expected as all three of these brands are considered luxury automobiles and we would intuitively think these brand of cars would be more expensive. \n",
    "\n",
    "Kilometer and age of a car have the greatest negative affect on the price of car. This is to be expected and something we predicted during the EDA stage of this project. However, the weight of the coefficients greatly affects the predictions of our model. Older cars with more miles will have very low price predictions even if there true value isn't as low. "
   ]
  },
  {
   "cell_type": "markdown",
   "metadata": {},
   "source": [
    "When using a multiple linear regression model there are inherent assumptions that are associated with it. The features of the data and the target variable being linearly realted being one assumption. Even though our model perfomed poorly we can say that this linear relationship has not been violated. We observe features that are correlated to the price and we are able to measure that with our coefficients. This supports the idea that a cars features are directly related to the price of a car.\n",
    "\n",
    "The idea that feature variables are independent of one another is another assumption of regression models. When looking at the coeffcients and correlations them we cannot say with confidence that the variables are independent of one another. Looking at age and kilometers we see a strong correlation between the two. This is to be expected as a car is unlikely to have low mileage if it is old. This was analyzed during the EDA process and we observed a linear relationship between the two variables."
   ]
  },
  {
   "cell_type": "markdown",
   "metadata": {},
   "source": [
    "### Modeling Assumptions"
   ]
  },
  {
   "cell_type": "markdown",
   "metadata": {},
   "source": [
    "Multiple linear regression models have a handful of associated assumptions. Linear relationships between the features and the target variable are one of these assumptions. We can say with some confidence that this assumption was not violated as we observe linear relationships with most of our variables. The one issue being the model feature that was one hot encoded and certain models did not show a linear relationship. However we did see a linear relationship with other models and brands so this was probably due to models occuring infrequently in the dataset. \n",
    "\n",
    "Additionally independence of variables in another assumption associated with MLR models. This means that feature variables are not associated with one another. We cannot say that this assumption wasn't violated as we observed a strong correlation between age and kilometers driven as was to expected. "
   ]
  },
  {
   "cell_type": "markdown",
   "metadata": {},
   "source": [
    "#### Residuals Distribution "
   ]
  },
  {
   "cell_type": "code",
   "execution_count": 484,
   "metadata": {},
   "outputs": [],
   "source": [
    "residuals = y_test - y_test_pred"
   ]
  },
  {
   "cell_type": "code",
   "execution_count": 485,
   "metadata": {},
   "outputs": [
    {
     "data": {
      "image/png": "[encoded data removed]",
      "text/plain": [
       "<Figure size 432x288 with 1 Axes>"
      ]
     },
     "metadata": {
      "needs_background": "light"
     },
     "output_type": "display_data"
    }
   ],
   "source": [
    "# x & y labels\n",
    "plt.title(\"Distribution of Residuals\", fontsize = 20)\n",
    "residuals.hist(bins = 25);"
   ]
  },
  {
   "cell_type": "markdown",
   "metadata": {},
   "source": [
    "The histogram above shows the distribution of residuals being right skewed. However, it does seem so show approximate normality otherwise. \n",
    "\n",
    "The assumption here is that residuals are normally distrubted around 0, have constant variance and are indpendent. We can say with some confidence that this assumption has not been violated. "
   ]
  },
  {
   "cell_type": "markdown",
   "metadata": {},
   "source": [
    "## Conclusion"
   ]
  },
  {
   "cell_type": "markdown",
   "metadata": {},
   "source": [
    "Ones intuition regarding the sale price of a used car was reinforced through our predictions. We were able to identify age of a vehicle and the distance that it has been driven as being the most important factors related to the resale value of a car. Kilowatts the european equivalent of horsepower was also one of the highest coefficients related to our target variable. We can infer from this that it is probably due to the size of the engine which is one of the most important components of an automobile. However, this may come as no surprise as the average person would probably assume engine size/power is an important factor in the price of a car. The reality of our predictive model demonstrates that cars have many nuanced features that affect the resale value of a car. The information that was provided in our dataset was not enough to make accurate predicitons even with what we would consider the most important features of a car. Also, a lot of noise was introduced with the model and brands of the cars for sale. A BMW 5 series had a mean price of 7,000 Euros but the prices ranged from just below 60,000 Euro down to 1,000 Euro. Based off of this information the model of the car introduces a lot of additional noise that may make it more challenging for the model to learn from. We observed this with the majority of makes and models with prices ranging from just below retail value to junk status. \n",
    "\n",
    "Based on our models performance it would not be effective in assisting buyers and sellers who are looking for additional appraisals on pre-owned vehicles. The predictions were too far off the acutal price for this to be an effective model. The best RMSE score was 1,274 (random forest model), which is approximately 20% of the mean value of the prices of cars in our dataset. If this model was put into use buyers and sellers would run the risk of overpaying or selling below the fair market value by a considerable amount. Straight line depreciation is most likely the industry standard becuase it provides a catch all solution to pricing pre-owned vehicles. No advanced analysis is required and prices can be set with consistency. The fact that a car is a depreciating asset is a challenging asset in predicting its price. Besides miles driven and age cars experience a lot of wear and tear and some owners maintain their cars well and others don't, but this is an extremely nuanced variable that is difficult to quantify. Used cars prices are also subject to market fluctuations and negotiations. If someone really needs cash they may be willing to part with their car for a thousand or more less. The combination of these variables show how difficult it is to predict the re-sale price of a car. \n",
    "\n",
    "The majority of features in the dataset did not have a strong linear relationship with our target variable of sales price. This most likey introduced a considerable amount of noise into our model and is a key contributing factor into our models poor performance. Additional outside research shows that many used car buyers want to know \"how the car runs\". How the car runs is a variable that is made up with a number of factors and is extremely difficult to quantify and introduce as a feature into our model. Cars are complex pieces of machinary that have so many components, it is very difficult to take a handful of features and make an accurate prediction of that cars value. \n"
   ]
  },
  {
   "cell_type": "markdown",
   "metadata": {},
   "source": [
    "## Recommendations"
   ]
  },
  {
   "cell_type": "markdown",
   "metadata": {},
   "source": [
    "The model feature should have been divided up in to subgroups. BMW could have had different three different tiers of cars based off of mean price. One hot encoding the feature model created a considerable amount of noise in the model. When analyzing the feature importance of the model we selected (Gradient Boost) many scores were 0.0, which means it had no importance relative to our target variable. Intuitively we think certain models are associated with certain prices so initially it made sense to include this in our features. However, if there was a small number of certain models it provided no benefit. \n",
    "\n",
    "We believe if we had focused on a specific type of vehicle brand our predictions could have been more accurate. The most popular make in our dataset was Volkswagen. If we only tried to predict Volkswagen prices there would have been less noise from other makes and models of cars. This then could have been used on other brands and could be used by buyers and sellers of those specific types of vehicles. This could then be more focused on specific vehicle types to get more accurate predictions. We would only take Volkswagen sedans into our model and exclude the other vehicle types like SUVs or vans. This would take a more targeted approach for the buyer or the seller, narrowing down the data to their specifications of used car they are looking to buy or sell.  \n",
    "\n",
    "The minimum price of vehicles introduced in our dataset could be increased. The floor was set too low which allowed for the inclusion of many cars that could be considered \"junk status\" and are purchased for parts or scrap. These cars did not represent vehicles someone would be looking to purchase as their primary use of transportation. These low prices represent cars at the end of their lifecycle or could have been in a major accident, requiring a lot of repairs. These types of vehicles should be excluded and more additional research should be completed to set the minimum sale price for cars that should be included in our data. \n",
    "\n",
    "Industry standards for appraising the value of vehicles rely on comparable sales prices of similar makes and models. If we could introduce comprable sale prices in some way this could improve the accuracy of our predictions. This would be challenging to do but this is an important variable in used car prices. Date ranges would have to be included to assess the current market demand for certain makes and models \n",
    "\n",
    "\n",
    "\n"
   ]
  },
  {
   "cell_type": "markdown",
   "metadata": {},
   "source": [
    "### Sources"
   ]
  },
  {
   "cell_type": "markdown",
   "metadata": {},
   "source": [
    "Consumer Reports, May,2014, www.consumerreports.org/cro/2012/12/how-much-is-the-used-car-really-worth/\n",
    "\n",
    "Nerd Wallet, Jeanne Lee Oct,2015, www.nerdwallet.com/blog/loans/dealers-set-car-prices/\n",
    "\n",
    "InCharge Debt Solutions, Sept,2017, www.incharge.org/understanding-debt/auto/the-truth-about-used-car-prices/"
   ]
  }
 ],
 "metadata": {
  "kernelspec": {
   "display_name": "Python 3",
   "language": "python",
   "name": "python3"
  },
  "language_info": {
   "codemirror_mode": {
    "name": "ipython",
    "version": 3
   },
   "file_extension": ".py",
   "mimetype": "text/x-python",
   "name": "python",
   "nbconvert_exporter": "python",
   "pygments_lexer": "ipython3",
   "version": "3.7.4"
  }
 },
 "nbformat": 4,
 "nbformat_minor": 2
}
