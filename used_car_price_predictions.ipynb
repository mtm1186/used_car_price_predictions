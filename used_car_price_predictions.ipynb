{
 "cells": [
  {
   "cell_type": "markdown",
   "metadata": {},
   "source": [
    "# Predicting The Re-Sale Value of Used Cars"
   ]
  },
  {
   "cell_type": "markdown",
   "metadata": {},
   "source": [
    "## Problem Statement"
   ]
  },
  {
   "cell_type": "markdown",
   "metadata": {},
   "source": [
    "In the United States used cars represent almost half of the U.S. auto retail market and is the largest retail segment of the economy. There has been a shift by consumers to purchase more affordable previously owned vechinces as automobile debt has surpassed 1 trillion dollars and now makes up 9.5% of American consumer debt. The market for used vehicles is challenging to navigate for many consumers as prices can vary widely as many formulas fail to take into the many nuances of a car.\n",
    "\n",
    "Consumers can use online valuation calculators to get an estimate on a car but these sites tend to only factor in a few features like make, model and miles driven. They also value the car on a straight line depreciation formula which can be overly simplistic, especially for cars that were well maintained by the previous owner. Buyers may look to third party appraisals to price a second hand car, but often these appraisals are costly and time consuming. \n",
    "\n",
    "In the current used car market landscape there is a need by both buyers and sellers for a price prediciton method to better determine the fair market value of a car. Individual sellers can use this price prediciton model to better price their cars before putting them on the market. Buyers can use additional predictions to reference them against popular online valuators to get a better idea of the fair market value of a car. In the often times overwhelming used car market a price predicition model that accounts for the nuances of an automobiles many features will benefit both buyers and sellers to help determine the actual worth of a used car. \n",
    "\n",
    "A series of regression models will be utilized to predict the price of the cars in our dataset. These include; Linear Regression, Ridge, Lasso, Decision Trees, Random Forest, Extra Trees and Gradient Boost. The model will be evaluated using the metric Root Mean Squared Error (RMSE). This metric was chosen because it provides us with a number that is more easily interpreted for our parameter of interst, whic is price. In this case the metric will show the difference in monetary units (Euros) the predicted price was from the actual price. A benchmark RMSE score within 10% of the mean value of the cars in our dataset is how we will determine if we have a successful model. This would mean if the cars in the data set had a mean value of 5,000 a succesful RMSE score would be <= 500. A score like this would be helpful as a secondary appraisal to help consumers confirm they are paying a fair value for a used car. "
   ]
  },
  {
   "cell_type": "code",
   "execution_count": 1400,
   "metadata": {},
   "outputs": [],
   "source": [
    "import pandas as pd\n",
    "import numpy as np\n",
    "from sklearn.linear_model import LinearRegression, Ridge, Lasso, RidgeCV, LassoCV\n",
    "from sklearn.preprocessing import StandardScaler\n",
    "from sklearn.model_selection import train_test_split, cross_val_score, cross_val_predict\n",
    "from sklearn.metrics import mean_squared_error\n",
    "from sklearn.metrics import mean_absolute_error\n",
    "from sklearn.ensemble import BaggingRegressor\n",
    "from sklearn.ensemble import RandomForestRegressor\n",
    "from sklearn.ensemble import GradientBoostingRegressor\n",
    "from sklearn.linear_model import Ridge\n",
    "from sklearn.linear_model import Lasso\n",
    "from sklearn.model_selection import GridSearchCV\n",
    "from sklearn.tree import DecisionTreeRegressor\n",
    "from sklearn.ensemble import ExtraTreesRegressor\n",
    "from sklearn.metrics import r2_score\n",
    "from sklearn.metrics import make_scorer\n",
    "from sklearn.dummy import DummyRegressor\n",
    "\n",
    "from math import sqrt\n",
    "import matplotlib.pyplot as plt\n",
    "import seaborn as sns"
   ]
  },
  {
   "cell_type": "markdown",
   "metadata": {},
   "source": [
    "## Executive Summary"
   ]
  },
  {
   "cell_type": "markdown",
   "metadata": {},
   "source": [
    "Predicting the price of used cars is an important problem that has great value in real world applications. As more consumers shift away from leasing or financing cars, more people are looking toward the used car market. Navigating the used car market can be challenging and it is unclear to many buyers and sellers as what the fair market value of a car is.  Intuition tells us that the older the car and the more miles it has on the odometer the cheaper it will be. However, in the data that was collected for this project we observed prices varying greatly in both the age and miles driven categories. This led us to believe that there are many additional features that are affecting the price of a used car. \n",
    "\n",
    "Given the extreme range in our target variable price we knew we would have to remove outliers on both ends of the price range. There were cars listed at over 150,000 euros and cars listed under 500 euros. For a used car prediction model we didn’t want to have cars priced extremely high as these vehicles are likely exotics or collectors items and did not represent what we believed to be the average used car. Addtionally we wanted to remove cars below 500 euros as these could be considered “junkers” and may be bought just for parts or scrap metal. During the modelling phase we kept scaling back on the max price as the scores of the model were very poor. The high price cars were making it very difficult for the model to learn. When going back to look at the distribution of prices the majority of the cars were in the 500 – 20,000 euro range. We ended up settling on this price range for our target variable. We believed this was a true representation on what a normal person would spend on a used car. Prices above this threshold were equivalent of the price of some new cars and we wanted to focus on a realistic price range for the average consumer. \n",
    "\n",
    "We wanted to use a number of different models in attempt to get the best score. We started with a simplified approach dropping the null values from our data set and running a linear regression model. We then went back and imputed the mode values for our categorical variables and re-ran the linear regression model where we observed an improvement in our score. Building off of that adjustment we introduced new models, Ridge and Lasso were used to regularize the (insert regularize info). Decision Tree, Random Forests and Extra Trees were used and the scores continued to improve. Finally, Gradient Boost was used where we observed our best score. \n",
    "\n",
    "Overall, the scores our models produced were poor. There were only a few features that had any impactful correlation on our models. Besides age and kilometers driven there was very weak correlation among the other features included in the model. The additional features created too much noise and it made it challenging for the models to learn.  When we scaled back to just a few features the noise was reduced and the models were less overfit but they still performed poorly. Due to the wide range in price amongst every feature, especially model and brand of car it made it extremely difficult for the models to make accurate price predictions. These results reinforce the idea that setting the actual price of a used automobile is extremely challenging and is most likely why straight line depreciation is used for this problem. \n"
   ]
  },
  {
   "cell_type": "markdown",
   "metadata": {},
   "source": [
    "### Contents:\n",
    "- [Import Data](#Import-Data)\n",
    "- [Data Dictionary](#Data-Dictionary)\n",
    "- [Exploratory Data Analysis](#Exploratory-Data-Analysis)\n",
    "- [Convert Date Columns to Datetime](#Convert-Date-Columns-to-Datetime)\n",
    "- [Identify Missing Values](#Identify-Missing-Values)\n",
    "- [Address Outliers In Data Set](#Address-Outliers-In-Data-Set)\n",
    "- [Price](#Price)\n",
    "- [Kilometers Driven](#Kilometers-Driven)\n",
    "- [Power PS](#Power-PS)\n",
    "- [Vehichle Type](#Vehichle-Type)\n",
    "- [Car Brands](#Car-Brands)\n",
    "- [Fuel Types](#Fuel-Types)\n",
    "- [Kilometers vs. Price](#Kilometers-vs.-Price)\n",
    "- [Transmission Type](#Transmission-Type)\n",
    "- [Damage To Vehicle](#Damage-To-Vehicle)\n",
    "- [Revisting Max Price](#Revisting-Max-Price)\n",
    "- [Preprocessing](#Preprocessing)\n",
    "- [Train Test Split](#Train-Test-Split)\n",
    "- [Baseline Model](#Baseline-Model)\n",
    "- [Linear Regression](#Linear-Regression)\n",
    "- [Ridge](#Ridge)\n",
    "- [Lasso](#Lasso)\n",
    "- [Decision Tree](#Decision-Tree)\n",
    "- [Random Forest](#Random-Forest)\n",
    "- [Extra Trees](#Extra-Trees)\n",
    "- [Gradient Boost](#Gradient-Boost)\n",
    "- [Model Selection](#Model-Selection)\n",
    "- [Model Evaluation](#Model-Evaluation)\n",
    "- [Interpretable Model/Model Coefficients](#Interpretable-Model/Model-Coefficients)\n",
    "- [Modeling Assumptions](#Modeling-Assumptions)\n",
    "- [Conclusion](#Conclusion)\n",
    "- [Recommendations](#Recommendations)\n",
    "- [Sources](#Sources)\n",
    "\n"
   ]
  },
  {
   "cell_type": "markdown",
   "metadata": {},
   "source": [
    "## Import Data"
   ]
  },
  {
   "cell_type": "code",
   "execution_count": 1134,
   "metadata": {},
   "outputs": [],
   "source": [
    "df = pd.read_csv('./data/autos.csv', encoding = 'latin-1')"
   ]
  },
  {
   "cell_type": "code",
   "execution_count": 1135,
   "metadata": {},
   "outputs": [
    {
     "data": {
      "text/html": [
       "<div>\n",
       "<style scoped>\n",
       "    .dataframe tbody tr th:only-of-type {\n",
       "        vertical-align: middle;\n",
       "    }\n",
       "\n",
       "    .dataframe tbody tr th {\n",
       "        vertical-align: top;\n",
       "    }\n",
       "\n",
       "    .dataframe thead th {\n",
       "        text-align: right;\n",
       "    }\n",
       "</style>\n",
       "<table border=\"1\" class=\"dataframe\">\n",
       "  <thead>\n",
       "    <tr style=\"text-align: right;\">\n",
       "      <th></th>\n",
       "      <th>dateCrawled</th>\n",
       "      <th>name</th>\n",
       "      <th>seller</th>\n",
       "      <th>offerType</th>\n",
       "      <th>price</th>\n",
       "      <th>abtest</th>\n",
       "      <th>vehicleType</th>\n",
       "      <th>yearOfRegistration</th>\n",
       "      <th>gearbox</th>\n",
       "      <th>powerPS</th>\n",
       "      <th>model</th>\n",
       "      <th>kilometer</th>\n",
       "      <th>monthOfRegistration</th>\n",
       "      <th>fuelType</th>\n",
       "      <th>brand</th>\n",
       "      <th>notRepairedDamage</th>\n",
       "      <th>dateCreated</th>\n",
       "      <th>nrOfPictures</th>\n",
       "      <th>postalCode</th>\n",
       "      <th>lastSeen</th>\n",
       "    </tr>\n",
       "  </thead>\n",
       "  <tbody>\n",
       "    <tr>\n",
       "      <th>0</th>\n",
       "      <td>2016-03-24 11:52:17</td>\n",
       "      <td>Golf_3_1.6</td>\n",
       "      <td>privat</td>\n",
       "      <td>Angebot</td>\n",
       "      <td>480</td>\n",
       "      <td>test</td>\n",
       "      <td>NaN</td>\n",
       "      <td>1993</td>\n",
       "      <td>manuell</td>\n",
       "      <td>0</td>\n",
       "      <td>golf</td>\n",
       "      <td>150000</td>\n",
       "      <td>0</td>\n",
       "      <td>benzin</td>\n",
       "      <td>volkswagen</td>\n",
       "      <td>NaN</td>\n",
       "      <td>2016-03-24 00:00:00</td>\n",
       "      <td>0</td>\n",
       "      <td>70435</td>\n",
       "      <td>2016-04-07 03:16:57</td>\n",
       "    </tr>\n",
       "    <tr>\n",
       "      <th>1</th>\n",
       "      <td>2016-03-24 10:58:45</td>\n",
       "      <td>A5_Sportback_2.7_Tdi</td>\n",
       "      <td>privat</td>\n",
       "      <td>Angebot</td>\n",
       "      <td>18300</td>\n",
       "      <td>test</td>\n",
       "      <td>coupe</td>\n",
       "      <td>2011</td>\n",
       "      <td>manuell</td>\n",
       "      <td>190</td>\n",
       "      <td>NaN</td>\n",
       "      <td>125000</td>\n",
       "      <td>5</td>\n",
       "      <td>diesel</td>\n",
       "      <td>audi</td>\n",
       "      <td>ja</td>\n",
       "      <td>2016-03-24 00:00:00</td>\n",
       "      <td>0</td>\n",
       "      <td>66954</td>\n",
       "      <td>2016-04-07 01:46:50</td>\n",
       "    </tr>\n",
       "    <tr>\n",
       "      <th>2</th>\n",
       "      <td>2016-03-14 12:52:21</td>\n",
       "      <td>Jeep_Grand_Cherokee_\"Overland\"</td>\n",
       "      <td>privat</td>\n",
       "      <td>Angebot</td>\n",
       "      <td>9800</td>\n",
       "      <td>test</td>\n",
       "      <td>suv</td>\n",
       "      <td>2004</td>\n",
       "      <td>automatik</td>\n",
       "      <td>163</td>\n",
       "      <td>grand</td>\n",
       "      <td>125000</td>\n",
       "      <td>8</td>\n",
       "      <td>diesel</td>\n",
       "      <td>jeep</td>\n",
       "      <td>NaN</td>\n",
       "      <td>2016-03-14 00:00:00</td>\n",
       "      <td>0</td>\n",
       "      <td>90480</td>\n",
       "      <td>2016-04-05 12:47:46</td>\n",
       "    </tr>\n",
       "    <tr>\n",
       "      <th>3</th>\n",
       "      <td>2016-03-17 16:54:04</td>\n",
       "      <td>GOLF_4_1_4__3TÜRER</td>\n",
       "      <td>privat</td>\n",
       "      <td>Angebot</td>\n",
       "      <td>1500</td>\n",
       "      <td>test</td>\n",
       "      <td>kleinwagen</td>\n",
       "      <td>2001</td>\n",
       "      <td>manuell</td>\n",
       "      <td>75</td>\n",
       "      <td>golf</td>\n",
       "      <td>150000</td>\n",
       "      <td>6</td>\n",
       "      <td>benzin</td>\n",
       "      <td>volkswagen</td>\n",
       "      <td>nein</td>\n",
       "      <td>2016-03-17 00:00:00</td>\n",
       "      <td>0</td>\n",
       "      <td>91074</td>\n",
       "      <td>2016-03-17 17:40:17</td>\n",
       "    </tr>\n",
       "    <tr>\n",
       "      <th>4</th>\n",
       "      <td>2016-03-31 17:25:20</td>\n",
       "      <td>Skoda_Fabia_1.4_TDI_PD_Classic</td>\n",
       "      <td>privat</td>\n",
       "      <td>Angebot</td>\n",
       "      <td>3600</td>\n",
       "      <td>test</td>\n",
       "      <td>kleinwagen</td>\n",
       "      <td>2008</td>\n",
       "      <td>manuell</td>\n",
       "      <td>69</td>\n",
       "      <td>fabia</td>\n",
       "      <td>90000</td>\n",
       "      <td>7</td>\n",
       "      <td>diesel</td>\n",
       "      <td>skoda</td>\n",
       "      <td>nein</td>\n",
       "      <td>2016-03-31 00:00:00</td>\n",
       "      <td>0</td>\n",
       "      <td>60437</td>\n",
       "      <td>2016-04-06 10:17:21</td>\n",
       "    </tr>\n",
       "  </tbody>\n",
       "</table>\n",
       "</div>"
      ],
      "text/plain": [
       "           dateCrawled                            name  seller offerType  \\\n",
       "0  2016-03-24 11:52:17                      Golf_3_1.6  privat   Angebot   \n",
       "1  2016-03-24 10:58:45            A5_Sportback_2.7_Tdi  privat   Angebot   \n",
       "2  2016-03-14 12:52:21  Jeep_Grand_Cherokee_\"Overland\"  privat   Angebot   \n",
       "3  2016-03-17 16:54:04              GOLF_4_1_4__3TÜRER  privat   Angebot   \n",
       "4  2016-03-31 17:25:20  Skoda_Fabia_1.4_TDI_PD_Classic  privat   Angebot   \n",
       "\n",
       "   price abtest vehicleType  yearOfRegistration    gearbox  powerPS  model  \\\n",
       "0    480   test         NaN                1993    manuell        0   golf   \n",
       "1  18300   test       coupe                2011    manuell      190    NaN   \n",
       "2   9800   test         suv                2004  automatik      163  grand   \n",
       "3   1500   test  kleinwagen                2001    manuell       75   golf   \n",
       "4   3600   test  kleinwagen                2008    manuell       69  fabia   \n",
       "\n",
       "   kilometer  monthOfRegistration fuelType       brand notRepairedDamage  \\\n",
       "0     150000                    0   benzin  volkswagen               NaN   \n",
       "1     125000                    5   diesel        audi                ja   \n",
       "2     125000                    8   diesel        jeep               NaN   \n",
       "3     150000                    6   benzin  volkswagen              nein   \n",
       "4      90000                    7   diesel       skoda              nein   \n",
       "\n",
       "           dateCreated  nrOfPictures  postalCode             lastSeen  \n",
       "0  2016-03-24 00:00:00             0       70435  2016-04-07 03:16:57  \n",
       "1  2016-03-24 00:00:00             0       66954  2016-04-07 01:46:50  \n",
       "2  2016-03-14 00:00:00             0       90480  2016-04-05 12:47:46  \n",
       "3  2016-03-17 00:00:00             0       91074  2016-03-17 17:40:17  \n",
       "4  2016-03-31 00:00:00             0       60437  2016-04-06 10:17:21  "
      ]
     },
     "execution_count": 1135,
     "metadata": {},
     "output_type": "execute_result"
    }
   ],
   "source": [
    "df.head()"
   ]
  },
  {
   "cell_type": "markdown",
   "metadata": {},
   "source": [
    "## Data Dictionary"
   ]
  },
  {
   "cell_type": "markdown",
   "metadata": {},
   "source": [
    "The data for this project was taken from autos from Kaggle. The data was scraped from Ebay Kleinanzeigen, which is a Ebay subsidiary based in Germany. Translation of German words will be provided at points along this notebook. "
   ]
  },
  {
   "cell_type": "markdown",
   "metadata": {},
   "source": [
    "|Column|Type|Description|\n",
    "|:---|---|:---|\n",
    "|Date Crawled|string|When this ad was first scraped from the website \n",
    "|Name|string|Name of the Car (Ex. VW Golf 1.87)\n",
    "|Seller|string|Seller Type, Private or Dealer \n",
    "|Offer Type|string|The average sat Math score\n",
    "|Price|int|Listed price of car\n",
    "|AB Test|string|Offer is a test or control \n",
    "|Vehicle Type|string|Type of vehcile (SUV, Coupe, Van, etc.)\n",
    "|Year of Registration|int|When the vehicle was first registered\n",
    "|Gearbox|string|Transmission type (Manual or Automatic)\n",
    "|Power Ps|int|Power of the car is PS\n",
    "|Model|string|Model of the vehicle (VW Golf, Audi A4, BMW M3)\n",
    "|Kilometer|int|Number of ilometers driven\n",
    "|Month of Registraion|string|Which month the car was first registered\n",
    "|Fuel Type|string|What type of fuel the car uses (Diesel, Gasoline, Electric)\n",
    "|Brand|string|The Vehicle Manufactuer (Toyota, Volkwagen, Honda)\n",
    "|Not Repaired Damage|string|If the car has damage that is unrepaired\n",
    "|Date Created|string|The date for which the ad at ebay was created\n",
    "|Postal Code|int|Postal Code of Seller/Cars location\n",
    "|Last Seen|string|When the web scraper last saw the ad online"
   ]
  },
  {
   "cell_type": "code",
   "execution_count": 1136,
   "metadata": {},
   "outputs": [],
   "source": [
    "new_columns_dict = {\n",
    "    'dateCrawled': 'date crawled',\n",
    "    'offerType': 'offer type',\n",
    "    'abtest': 'AB test',\n",
    "    'vehicleType': 'vehicle type',\n",
    "    'yearOfRegistration': 'year of registration',\n",
    "    'gearbox': 'gear box',\n",
    "    'powerPS': 'power ps',\n",
    "    'monthOfRegistration': 'month of registration',\n",
    "    'fuelType': 'fuel type',\n",
    "    'notRepairedDamage': 'unrepaired damage',\n",
    "    'dateCreated': 'date created',\n",
    "    'nrOfPictures': 'pictures of car',\n",
    "    'postalCode':'postal code',\n",
    "    'lastSeen': 'last seen',\n",
    "\n",
    "}\n",
    "\n",
    "df.rename(columns=new_columns_dict, inplace=True)"
   ]
  },
  {
   "cell_type": "markdown",
   "metadata": {},
   "source": [
    "Column headers were renamed to be more descriptive and human readable "
   ]
  },
  {
   "cell_type": "markdown",
   "metadata": {},
   "source": [
    "# Exploratory Data Analysis"
   ]
  },
  {
   "cell_type": "code",
   "execution_count": 1137,
   "metadata": {},
   "outputs": [
    {
     "data": {
      "text/plain": [
       "(371528, 20)"
      ]
     },
     "execution_count": 1137,
     "metadata": {},
     "output_type": "execute_result"
    }
   ],
   "source": [
    "df.shape"
   ]
  },
  {
   "cell_type": "markdown",
   "metadata": {},
   "source": [
    "Our data is comprised of 371,528 rows, which are the individual used car listings that were scraped from ebay-klienzwagan (E-Bay subsidiary based in Germany). There are 20 columsn which represent various features of the used car being sold. "
   ]
  },
  {
   "cell_type": "code",
   "execution_count": 1138,
   "metadata": {},
   "outputs": [
    {
     "data": {
      "text/html": [
       "<div>\n",
       "<style scoped>\n",
       "    .dataframe tbody tr th:only-of-type {\n",
       "        vertical-align: middle;\n",
       "    }\n",
       "\n",
       "    .dataframe tbody tr th {\n",
       "        vertical-align: top;\n",
       "    }\n",
       "\n",
       "    .dataframe thead th {\n",
       "        text-align: right;\n",
       "    }\n",
       "</style>\n",
       "<table border=\"1\" class=\"dataframe\">\n",
       "  <thead>\n",
       "    <tr style=\"text-align: right;\">\n",
       "      <th></th>\n",
       "      <th>count</th>\n",
       "      <th>mean</th>\n",
       "      <th>std</th>\n",
       "      <th>min</th>\n",
       "      <th>25%</th>\n",
       "      <th>50%</th>\n",
       "      <th>75%</th>\n",
       "      <th>max</th>\n",
       "    </tr>\n",
       "  </thead>\n",
       "  <tbody>\n",
       "    <tr>\n",
       "      <th>price</th>\n",
       "      <td>371528.0</td>\n",
       "      <td>17295.141865</td>\n",
       "      <td>3.587954e+06</td>\n",
       "      <td>0.0</td>\n",
       "      <td>1150.0</td>\n",
       "      <td>2950.0</td>\n",
       "      <td>7200.0</td>\n",
       "      <td>2.147484e+09</td>\n",
       "    </tr>\n",
       "    <tr>\n",
       "      <th>year of registration</th>\n",
       "      <td>371528.0</td>\n",
       "      <td>2004.577997</td>\n",
       "      <td>9.286660e+01</td>\n",
       "      <td>1000.0</td>\n",
       "      <td>1999.0</td>\n",
       "      <td>2003.0</td>\n",
       "      <td>2008.0</td>\n",
       "      <td>9.999000e+03</td>\n",
       "    </tr>\n",
       "    <tr>\n",
       "      <th>power ps</th>\n",
       "      <td>371528.0</td>\n",
       "      <td>115.549477</td>\n",
       "      <td>1.921396e+02</td>\n",
       "      <td>0.0</td>\n",
       "      <td>70.0</td>\n",
       "      <td>105.0</td>\n",
       "      <td>150.0</td>\n",
       "      <td>2.000000e+04</td>\n",
       "    </tr>\n",
       "    <tr>\n",
       "      <th>kilometer</th>\n",
       "      <td>371528.0</td>\n",
       "      <td>125618.688228</td>\n",
       "      <td>4.011234e+04</td>\n",
       "      <td>5000.0</td>\n",
       "      <td>125000.0</td>\n",
       "      <td>150000.0</td>\n",
       "      <td>150000.0</td>\n",
       "      <td>1.500000e+05</td>\n",
       "    </tr>\n",
       "    <tr>\n",
       "      <th>month of registration</th>\n",
       "      <td>371528.0</td>\n",
       "      <td>5.734445</td>\n",
       "      <td>3.712412e+00</td>\n",
       "      <td>0.0</td>\n",
       "      <td>3.0</td>\n",
       "      <td>6.0</td>\n",
       "      <td>9.0</td>\n",
       "      <td>1.200000e+01</td>\n",
       "    </tr>\n",
       "    <tr>\n",
       "      <th>pictures of car</th>\n",
       "      <td>371528.0</td>\n",
       "      <td>0.000000</td>\n",
       "      <td>0.000000e+00</td>\n",
       "      <td>0.0</td>\n",
       "      <td>0.0</td>\n",
       "      <td>0.0</td>\n",
       "      <td>0.0</td>\n",
       "      <td>0.000000e+00</td>\n",
       "    </tr>\n",
       "    <tr>\n",
       "      <th>postal code</th>\n",
       "      <td>371528.0</td>\n",
       "      <td>50820.667640</td>\n",
       "      <td>2.579908e+04</td>\n",
       "      <td>1067.0</td>\n",
       "      <td>30459.0</td>\n",
       "      <td>49610.0</td>\n",
       "      <td>71546.0</td>\n",
       "      <td>9.999800e+04</td>\n",
       "    </tr>\n",
       "  </tbody>\n",
       "</table>\n",
       "</div>"
      ],
      "text/plain": [
       "                          count           mean           std     min  \\\n",
       "price                  371528.0   17295.141865  3.587954e+06     0.0   \n",
       "year of registration   371528.0    2004.577997  9.286660e+01  1000.0   \n",
       "power ps               371528.0     115.549477  1.921396e+02     0.0   \n",
       "kilometer              371528.0  125618.688228  4.011234e+04  5000.0   \n",
       "month of registration  371528.0       5.734445  3.712412e+00     0.0   \n",
       "pictures of car        371528.0       0.000000  0.000000e+00     0.0   \n",
       "postal code            371528.0   50820.667640  2.579908e+04  1067.0   \n",
       "\n",
       "                            25%       50%       75%           max  \n",
       "price                    1150.0    2950.0    7200.0  2.147484e+09  \n",
       "year of registration     1999.0    2003.0    2008.0  9.999000e+03  \n",
       "power ps                   70.0     105.0     150.0  2.000000e+04  \n",
       "kilometer              125000.0  150000.0  150000.0  1.500000e+05  \n",
       "month of registration       3.0       6.0       9.0  1.200000e+01  \n",
       "pictures of car             0.0       0.0       0.0  0.000000e+00  \n",
       "postal code             30459.0   49610.0   71546.0  9.999800e+04  "
      ]
     },
     "execution_count": 1138,
     "metadata": {},
     "output_type": "execute_result"
    }
   ],
   "source": [
    "df.describe().T"
   ]
  },
  {
   "cell_type": "markdown",
   "metadata": {},
   "source": [
    "The above chart gives us an intial look at some of the summmary statisitcs of our data. We can see that the mean price of a used car in the dataset is €17,295. This price seems high for a used car which makes one think there may be a large number of outliers in the dataset. We also observe a mean value of 125,618 for kilometer which represents the distance the car has been driven. We can infer from this number that many of the cars in the dataset have higher mileage. "
   ]
  },
  {
   "cell_type": "code",
   "execution_count": 1139,
   "metadata": {},
   "outputs": [
    {
     "data": {
      "text/plain": [
       "date crawled             object\n",
       "name                     object\n",
       "seller                   object\n",
       "offer type               object\n",
       "price                     int64\n",
       "AB test                  object\n",
       "vehicle type             object\n",
       "year of registration      int64\n",
       "gear box                 object\n",
       "power ps                  int64\n",
       "model                    object\n",
       "kilometer                 int64\n",
       "month of registration     int64\n",
       "fuel type                object\n",
       "brand                    object\n",
       "unrepaired damage        object\n",
       "date created             object\n",
       "pictures of car           int64\n",
       "postal code               int64\n",
       "last seen                object\n",
       "dtype: object"
      ]
     },
     "execution_count": 1139,
     "metadata": {},
     "output_type": "execute_result"
    }
   ],
   "source": [
    "df.dtypes"
   ]
  },
  {
   "cell_type": "markdown",
   "metadata": {},
   "source": [
    "The above shows what type of data types the features in the dataset are. We may need to convert data types in order to analyze and process the data appropriately. For example date crawled, date created and last seen are currently objects. We will need to convert this features to date times in order to calculate how long a listing has been posted on the website. We would be unable to do this if these features remained as objects. "
   ]
  },
  {
   "cell_type": "markdown",
   "metadata": {},
   "source": [
    "### Convert date columns to datetime"
   ]
  },
  {
   "cell_type": "code",
   "execution_count": 1140,
   "metadata": {},
   "outputs": [],
   "source": [
    "df['date crawled'] = pd.to_datetime(df['date crawled'])"
   ]
  },
  {
   "cell_type": "code",
   "execution_count": 1141,
   "metadata": {},
   "outputs": [],
   "source": [
    "df['date created'] = pd.to_datetime(df['date created'])"
   ]
  },
  {
   "cell_type": "code",
   "execution_count": 1142,
   "metadata": {},
   "outputs": [],
   "source": [
    "df['last seen'] = pd.to_datetime(df['last seen'])"
   ]
  },
  {
   "cell_type": "code",
   "execution_count": 1143,
   "metadata": {},
   "outputs": [],
   "source": [
    "df['ad duration'] = df['last seen'] - df['date created']"
   ]
  },
  {
   "cell_type": "code",
   "execution_count": 1144,
   "metadata": {},
   "outputs": [
    {
     "data": {
      "text/plain": [
       "dtype('<m8[ns]')"
      ]
     },
     "execution_count": 1144,
     "metadata": {},
     "output_type": "execute_result"
    }
   ],
   "source": [
    "df['ad duration'].dtypes"
   ]
  },
  {
   "cell_type": "code",
   "execution_count": 1145,
   "metadata": {},
   "outputs": [],
   "source": [
    "ad_test = df['ad duration'][0]"
   ]
  },
  {
   "cell_type": "code",
   "execution_count": 1146,
   "metadata": {},
   "outputs": [
    {
     "data": {
      "text/plain": [
       "14"
      ]
     },
     "execution_count": 1146,
     "metadata": {},
     "output_type": "execute_result"
    }
   ],
   "source": [
    "ad_test.days"
   ]
  },
  {
   "cell_type": "code",
   "execution_count": 1147,
   "metadata": {},
   "outputs": [],
   "source": [
    "df['ad duration'] = df['ad duration'].apply(lambda x: x.days)"
   ]
  },
  {
   "cell_type": "markdown",
   "metadata": {},
   "source": [
    "We believe the features last seen and date created could be used to estimate how long a car has been listed online. A listing that has been up on the website for a longer period of time may indicate that the car is undesirable and may be a feature that is related to the price. \n",
    "\n",
    "In order to create the feature \"ad duration\" we converted the features realted to date/time to datetime. We then subtracted \"date created\" from \"last seen\" to calculate the number of days the listing has been up. Ad duration is then converted to an integer which will be a continuous variable that is included in our model."
   ]
  },
  {
   "cell_type": "markdown",
   "metadata": {},
   "source": [
    "### Identify Missing Values"
   ]
  },
  {
   "cell_type": "markdown",
   "metadata": {},
   "source": [
    "We want to identify any missing values we have in our dataset so we can decide how to address the missing data prior to modeling. That data that has been collected is valuable and we do not want to drop a row from our dataset if it is missing a value from one feature. "
   ]
  },
  {
   "cell_type": "code",
   "execution_count": 1148,
   "metadata": {},
   "outputs": [
    {
     "data": {
      "text/plain": [
       "date crawled                 0\n",
       "name                         0\n",
       "seller                       0\n",
       "offer type                   0\n",
       "price                        0\n",
       "AB test                      0\n",
       "vehicle type             37869\n",
       "year of registration         0\n",
       "gear box                 20209\n",
       "power ps                     0\n",
       "model                    20484\n",
       "kilometer                    0\n",
       "month of registration        0\n",
       "fuel type                33386\n",
       "brand                        0\n",
       "unrepaired damage        72060\n",
       "date created                 0\n",
       "pictures of car              0\n",
       "postal code                  0\n",
       "last seen                    0\n",
       "ad duration                  0\n",
       "dtype: int64"
      ]
     },
     "execution_count": 1148,
     "metadata": {},
     "output_type": "execute_result"
    }
   ],
   "source": [
    "df.isnull().sum()"
   ]
  },
  {
   "cell_type": "code",
   "execution_count": 1149,
   "metadata": {},
   "outputs": [
    {
     "data": {
      "image/png": "[encoded data removed]",
      "text/plain": [
       "<Figure size 432x288 with 1 Axes>"
      ]
     },
     "metadata": {},
     "output_type": "display_data"
    }
   ],
   "source": [
    "#visualize null values\n",
    "plt.title(\"Missing Values\", size = 20)\n",
    "plt.xlabel(\"Frequency\")\n",
    "plt.ylabel(\"Features\")\n",
    "df.isnull().sum().plot(kind = 'barh');"
   ]
  },
  {
   "cell_type": "markdown",
   "metadata": {},
   "source": [
    "The above graph shows which features are missing from our dataset. Five features have missing values with \"unrepaired damage\" having the highest count of missing values. Since this category only applies to owners who have had damage to their car it is possible that owners who did not have damage to their car omitted a response to this question while listing their car for sale. \n",
    "\n",
    "The other missing categories vehicle type, model, gear box, and vehicle type are important features of a car that all cars have. It is unclear why these features are missing but we will have to address these missing values in some way. If we are missing the vehicle type but have the model of the car we will be able to determine the vehicle type with outside research. \n",
    "\n",
    "We also want to determine if any null values are less than 5% of the dataset. If so we may just drop the null values from the dataset, if not we will have to impute the missing data or take a pattern submodel approach if possible. "
   ]
  },
  {
   "cell_type": "code",
   "execution_count": 1150,
   "metadata": {},
   "outputs": [
    {
     "data": {
      "text/html": [
       "<div>\n",
       "<style scoped>\n",
       "    .dataframe tbody tr th:only-of-type {\n",
       "        vertical-align: middle;\n",
       "    }\n",
       "\n",
       "    .dataframe tbody tr th {\n",
       "        vertical-align: top;\n",
       "    }\n",
       "\n",
       "    .dataframe thead th {\n",
       "        text-align: right;\n",
       "    }\n",
       "</style>\n",
       "<table border=\"1\" class=\"dataframe\">\n",
       "  <thead>\n",
       "    <tr style=\"text-align: right;\">\n",
       "      <th></th>\n",
       "      <th>null</th>\n",
       "      <th>percent</th>\n",
       "    </tr>\n",
       "  </thead>\n",
       "  <tbody>\n",
       "    <tr>\n",
       "      <th>unrepaired damage</th>\n",
       "      <td>72060</td>\n",
       "      <td>0.193956</td>\n",
       "    </tr>\n",
       "    <tr>\n",
       "      <th>vehicle type</th>\n",
       "      <td>37869</td>\n",
       "      <td>0.101928</td>\n",
       "    </tr>\n",
       "    <tr>\n",
       "      <th>fuel type</th>\n",
       "      <td>33386</td>\n",
       "      <td>0.089861</td>\n",
       "    </tr>\n",
       "    <tr>\n",
       "      <th>model</th>\n",
       "      <td>20484</td>\n",
       "      <td>0.055134</td>\n",
       "    </tr>\n",
       "    <tr>\n",
       "      <th>gear box</th>\n",
       "      <td>20209</td>\n",
       "      <td>0.054394</td>\n",
       "    </tr>\n",
       "    <tr>\n",
       "      <th>month of registration</th>\n",
       "      <td>0</td>\n",
       "      <td>0.000000</td>\n",
       "    </tr>\n",
       "    <tr>\n",
       "      <th>last seen</th>\n",
       "      <td>0</td>\n",
       "      <td>0.000000</td>\n",
       "    </tr>\n",
       "    <tr>\n",
       "      <th>postal code</th>\n",
       "      <td>0</td>\n",
       "      <td>0.000000</td>\n",
       "    </tr>\n",
       "    <tr>\n",
       "      <th>pictures of car</th>\n",
       "      <td>0</td>\n",
       "      <td>0.000000</td>\n",
       "    </tr>\n",
       "    <tr>\n",
       "      <th>date created</th>\n",
       "      <td>0</td>\n",
       "      <td>0.000000</td>\n",
       "    </tr>\n",
       "    <tr>\n",
       "      <th>brand</th>\n",
       "      <td>0</td>\n",
       "      <td>0.000000</td>\n",
       "    </tr>\n",
       "    <tr>\n",
       "      <th>date crawled</th>\n",
       "      <td>0</td>\n",
       "      <td>0.000000</td>\n",
       "    </tr>\n",
       "    <tr>\n",
       "      <th>kilometer</th>\n",
       "      <td>0</td>\n",
       "      <td>0.000000</td>\n",
       "    </tr>\n",
       "    <tr>\n",
       "      <th>name</th>\n",
       "      <td>0</td>\n",
       "      <td>0.000000</td>\n",
       "    </tr>\n",
       "    <tr>\n",
       "      <th>power ps</th>\n",
       "      <td>0</td>\n",
       "      <td>0.000000</td>\n",
       "    </tr>\n",
       "    <tr>\n",
       "      <th>year of registration</th>\n",
       "      <td>0</td>\n",
       "      <td>0.000000</td>\n",
       "    </tr>\n",
       "    <tr>\n",
       "      <th>AB test</th>\n",
       "      <td>0</td>\n",
       "      <td>0.000000</td>\n",
       "    </tr>\n",
       "    <tr>\n",
       "      <th>price</th>\n",
       "      <td>0</td>\n",
       "      <td>0.000000</td>\n",
       "    </tr>\n",
       "    <tr>\n",
       "      <th>offer type</th>\n",
       "      <td>0</td>\n",
       "      <td>0.000000</td>\n",
       "    </tr>\n",
       "    <tr>\n",
       "      <th>seller</th>\n",
       "      <td>0</td>\n",
       "      <td>0.000000</td>\n",
       "    </tr>\n",
       "    <tr>\n",
       "      <th>ad duration</th>\n",
       "      <td>0</td>\n",
       "      <td>0.000000</td>\n",
       "    </tr>\n",
       "  </tbody>\n",
       "</table>\n",
       "</div>"
      ],
      "text/plain": [
       "                        null   percent\n",
       "unrepaired damage      72060  0.193956\n",
       "vehicle type           37869  0.101928\n",
       "fuel type              33386  0.089861\n",
       "model                  20484  0.055134\n",
       "gear box               20209  0.054394\n",
       "month of registration      0  0.000000\n",
       "last seen                  0  0.000000\n",
       "postal code                0  0.000000\n",
       "pictures of car            0  0.000000\n",
       "date created               0  0.000000\n",
       "brand                      0  0.000000\n",
       "date crawled               0  0.000000\n",
       "kilometer                  0  0.000000\n",
       "name                       0  0.000000\n",
       "power ps                   0  0.000000\n",
       "year of registration       0  0.000000\n",
       "AB test                    0  0.000000\n",
       "price                      0  0.000000\n",
       "offer type                 0  0.000000\n",
       "seller                     0  0.000000\n",
       "ad duration                0  0.000000"
      ]
     },
     "execution_count": 1150,
     "metadata": {},
     "output_type": "execute_result"
    }
   ],
   "source": [
    "nulls = df.isnull().sum()\n",
    "nulls = pd.DataFrame(nulls, columns = ['null'])\n",
    "total = len(df)\n",
    "nulls['percent']  = nulls['null']/total\n",
    "nulls.sort_values('percent', ascending = False)"
   ]
  },
  {
   "cell_type": "markdown",
   "metadata": {},
   "source": [
    "Above shows us the percentage of missing values in our dataset. If we are missing 5% or less from one feature it may be ok to drop these car listings as this amount is inconsequential. Model and gear box are both just above the 5% threshold and we will not drop these data points and will have to determine another way to address the missing values. "
   ]
  },
  {
   "cell_type": "markdown",
   "metadata": {},
   "source": [
    "#### Missing Data"
   ]
  },
  {
   "cell_type": "markdown",
   "metadata": {},
   "source": [
    "We want to know if the data is Missing Completely At Random (MCAR), Missing At Random (MAR) or Not Missing At Random (NMAR). We will look to see if any of the columns have a higher number of shared nulls to see if a pattern submodel approach can be taken to handle the missing data. Pattern submodels are a set of submodels for every missing data pattern that are fit using only data from that pattern. This will also allow us to not impute any missing values, which is essentially making up data and can be an ureliable technique when handling missing data. "
   ]
  },
  {
   "cell_type": "code",
   "execution_count": 1151,
   "metadata": {},
   "outputs": [
    {
     "data": {
      "text/html": [
       "<div>\n",
       "<style scoped>\n",
       "    .dataframe tbody tr th:only-of-type {\n",
       "        vertical-align: middle;\n",
       "    }\n",
       "\n",
       "    .dataframe tbody tr th {\n",
       "        vertical-align: top;\n",
       "    }\n",
       "\n",
       "    .dataframe thead th {\n",
       "        text-align: right;\n",
       "    }\n",
       "</style>\n",
       "<table border=\"1\" class=\"dataframe\">\n",
       "  <thead>\n",
       "    <tr style=\"text-align: right;\">\n",
       "      <th></th>\n",
       "      <th>date crawled</th>\n",
       "      <th>name</th>\n",
       "      <th>seller</th>\n",
       "      <th>offer type</th>\n",
       "      <th>price</th>\n",
       "      <th>AB test</th>\n",
       "      <th>vehicle type</th>\n",
       "      <th>year of registration</th>\n",
       "      <th>gear box</th>\n",
       "      <th>power ps</th>\n",
       "      <th>...</th>\n",
       "      <th>kilometer</th>\n",
       "      <th>month of registration</th>\n",
       "      <th>fuel type</th>\n",
       "      <th>brand</th>\n",
       "      <th>unrepaired damage</th>\n",
       "      <th>date created</th>\n",
       "      <th>pictures of car</th>\n",
       "      <th>postal code</th>\n",
       "      <th>last seen</th>\n",
       "      <th>ad duration</th>\n",
       "    </tr>\n",
       "  </thead>\n",
       "  <tbody>\n",
       "    <tr>\n",
       "      <th>0</th>\n",
       "      <td>2016-03-24 11:52:17</td>\n",
       "      <td>Golf_3_1.6</td>\n",
       "      <td>privat</td>\n",
       "      <td>Angebot</td>\n",
       "      <td>480</td>\n",
       "      <td>test</td>\n",
       "      <td>NaN</td>\n",
       "      <td>1993</td>\n",
       "      <td>manuell</td>\n",
       "      <td>0</td>\n",
       "      <td>...</td>\n",
       "      <td>150000</td>\n",
       "      <td>0</td>\n",
       "      <td>benzin</td>\n",
       "      <td>volkswagen</td>\n",
       "      <td>NaN</td>\n",
       "      <td>2016-03-24</td>\n",
       "      <td>0</td>\n",
       "      <td>70435</td>\n",
       "      <td>2016-04-07 03:16:57</td>\n",
       "      <td>14</td>\n",
       "    </tr>\n",
       "  </tbody>\n",
       "</table>\n",
       "<p>1 rows × 21 columns</p>\n",
       "</div>"
      ],
      "text/plain": [
       "         date crawled        name  seller offer type  price AB test  \\\n",
       "0 2016-03-24 11:52:17  Golf_3_1.6  privat    Angebot    480    test   \n",
       "\n",
       "  vehicle type  year of registration gear box  power ps  ... kilometer  \\\n",
       "0          NaN                  1993  manuell         0  ...    150000   \n",
       "\n",
       "   month of registration  fuel type       brand unrepaired damage  \\\n",
       "0                      0     benzin  volkswagen               NaN   \n",
       "\n",
       "  date created pictures of car  postal code           last seen ad duration  \n",
       "0   2016-03-24               0        70435 2016-04-07 03:16:57          14  \n",
       "\n",
       "[1 rows x 21 columns]"
      ]
     },
     "execution_count": 1151,
     "metadata": {},
     "output_type": "execute_result"
    }
   ],
   "source": [
    "df.head(1)"
   ]
  },
  {
   "cell_type": "code",
   "execution_count": 1152,
   "metadata": {},
   "outputs": [],
   "source": [
    "no_damage = df['unrepaired damage'].isnull()\n",
    "vtype = df[\"vehicle type\"].isnull()\n",
    "shared_null = no_damage & vtype"
   ]
  },
  {
   "cell_type": "code",
   "execution_count": 1153,
   "metadata": {},
   "outputs": [
    {
     "name": "stdout",
     "output_type": "stream",
     "text": [
      "No Damage Nulls: 72060\n",
      "Vehicle Type Nulls: 37869\n",
      "Shared Nulls: 20756\n"
     ]
    }
   ],
   "source": [
    "print(f\"No Damage Nulls: {sum(no_damage)}\")\n",
    "print(f\"Vehicle Type Nulls: {sum(vtype)}\")\n",
    "print(f\"Shared Nulls: {sum(shared_null)}\")"
   ]
  },
  {
   "cell_type": "code",
   "execution_count": 1154,
   "metadata": {},
   "outputs": [],
   "source": [
    "vehicle_nulls = df[\"vehicle type\"].isnull()\n",
    "fuel_nulls = df[\"fuel type\"].isnull()\n",
    "shared_nulls = vehicle_nulls & fuel_nulls"
   ]
  },
  {
   "cell_type": "code",
   "execution_count": 1155,
   "metadata": {},
   "outputs": [
    {
     "name": "stdout",
     "output_type": "stream",
     "text": [
      "Vehicle Type Nulls: 37869\n",
      "Fuel Type Nulls: 33386\n",
      "Shared Nulls: 17495\n"
     ]
    }
   ],
   "source": [
    "print(f\"Vehicle Type Nulls: {sum(vehicle_nulls)}\")\n",
    "print(f\"Fuel Type Nulls: {sum(fuel_nulls)}\")\n",
    "print(f\"Shared Nulls: {sum(shared_nulls)}\")"
   ]
  },
  {
   "cell_type": "code",
   "execution_count": 1156,
   "metadata": {},
   "outputs": [],
   "source": [
    "gearbox_nulls = df[\"gear box\"].isnull()\n",
    "model_nulls = df[\"model\"].isnull()\n",
    "shared_nulls_1 = gearbox_nulls & model_nulls"
   ]
  },
  {
   "cell_type": "code",
   "execution_count": 1157,
   "metadata": {},
   "outputs": [
    {
     "name": "stdout",
     "output_type": "stream",
     "text": [
      "Gearbox Nulls: 20209\n",
      "Model Nulls: 20484\n",
      "Shared Nulls: 4233\n"
     ]
    }
   ],
   "source": [
    "print(f\"Gearbox Nulls: {sum(gearbox_nulls)}\")\n",
    "print(f\"Model Nulls: {sum(model_nulls)}\")\n",
    "print(f\"Shared Nulls: {sum(shared_nulls_1)}\")"
   ]
  },
  {
   "cell_type": "code",
   "execution_count": 1158,
   "metadata": {},
   "outputs": [],
   "source": [
    "vehicle_type_nulls = df[\"vehicle type\"].isnull()\n",
    "model_nulls1 = df[\"model\"].isnull()\n",
    "shared_nulls_2 = vehicle_type_nulls & model_nulls"
   ]
  },
  {
   "cell_type": "code",
   "execution_count": 1159,
   "metadata": {},
   "outputs": [
    {
     "name": "stdout",
     "output_type": "stream",
     "text": [
      "Gearbox Nulls: 37869\n",
      "Model Nulls: 20484\n",
      "Shared Nulls: 6917\n"
     ]
    }
   ],
   "source": [
    "print(f\"Gearbox Nulls: {sum(vehicle_type_nulls)}\")\n",
    "print(f\"Model Nulls: {sum(model_nulls1)}\")\n",
    "print(f\"Shared Nulls: {sum(shared_nulls_2)}\")"
   ]
  },
  {
   "cell_type": "markdown",
   "metadata": {},
   "source": [
    "The missing data in this data set appears to be missing completely at random (MCAR). We anlayzed the shared null values of our features with missing values and observed a low percentage of shared nulls amongst them. Initially we wanted to use a pattern sub model approach to address the missing data but because the data is MCAR we will not be able to use the pattern submodel and we will have impute the missing data using different techniques. "
   ]
  },
  {
   "cell_type": "markdown",
   "metadata": {},
   "source": [
    "## Address Outliers In Data Set"
   ]
  },
  {
   "cell_type": "markdown",
   "metadata": {},
   "source": [
    "## Price"
   ]
  },
  {
   "cell_type": "markdown",
   "metadata": {},
   "source": [
    "Initially when we looked at summary statistics of our data we believed there were outliers in the dataset. We will now look into the prices in the dataset and establish a minimum and maximum price to include in our modeling. We won't want to include prices that are too high as they do not represent a realistic price of a used car. "
   ]
  },
  {
   "cell_type": "code",
   "execution_count": 1160,
   "metadata": {},
   "outputs": [
    {
     "name": "stdout",
     "output_type": "stream",
     "text": [
      "Mean Price of Cars: 17295.14186548524\n",
      "Median Price of Cars: 2950.0\n",
      "Max Car Price: 2147483647\n",
      "Min Car Price: 0\n"
     ]
    }
   ],
   "source": [
    "print(f'Mean Price of Cars: {df.price.mean()}')\n",
    "print(f'Median Price of Cars: {df.price.median()}')\n",
    "print(f'Max Car Price: {df.price.max()}') \n",
    "print(f'Min Car Price: {df.price.min()}')"
   ]
  },
  {
   "cell_type": "markdown",
   "metadata": {},
   "source": [
    "Above values show the mean, median, maximum and minimum prices for cars in our dataset. The max price is extremely high and it is very unlikely that any car would be worth that amount of money. This outlier will be removed from the data. We also observe a minimum price of 0, which is not accurate as no seller would be listing a car on a website for free. Even if the owner was trying to give away an old car we have to remove these values from our dataset because they will affect the performance of our model."
   ]
  },
  {
   "cell_type": "code",
   "execution_count": 1161,
   "metadata": {},
   "outputs": [
    {
     "data": {
      "text/plain": [
       "(10778, 21)"
      ]
     },
     "execution_count": 1161,
     "metadata": {},
     "output_type": "execute_result"
    }
   ],
   "source": [
    "df[df['price'] == 0].shape"
   ]
  },
  {
   "cell_type": "markdown",
   "metadata": {},
   "source": [
    "We observe just over 10,000 cars that are listed at €0. Removing 10,000 rows from our dataset is less than 2% of total data and is not consequential. "
   ]
  },
  {
   "cell_type": "code",
   "execution_count": 1162,
   "metadata": {},
   "outputs": [
    {
     "data": {
      "text/plain": [
       "(232, 21)"
      ]
     },
     "execution_count": 1162,
     "metadata": {},
     "output_type": "execute_result"
    }
   ],
   "source": [
    "df[df['price'] > 150_000].shape"
   ]
  },
  {
   "cell_type": "code",
   "execution_count": 1163,
   "metadata": {},
   "outputs": [
    {
     "data": {
      "text/plain": [
       "(36062, 21)"
      ]
     },
     "execution_count": 1163,
     "metadata": {},
     "output_type": "execute_result"
    }
   ],
   "source": [
    "df[df['price'] < 500].shape"
   ]
  },
  {
   "cell_type": "markdown",
   "metadata": {},
   "source": [
    "Outside research shows that any car priced below 500 is considered \"junk status\". We do not want to include cars in this price range as we are trying to make predictions of cars that would actually be used for transportation. We also need to set a minimum threshold and can set it here to include all cars that aren't in the \"junk status\" category. "
   ]
  },
  {
   "cell_type": "code",
   "execution_count": 1164,
   "metadata": {},
   "outputs": [
    {
     "data": {
      "text/plain": [
       "0.08620346245774207"
      ]
     },
     "execution_count": 1164,
     "metadata": {},
     "output_type": "execute_result"
    }
   ],
   "source": [
    "#get percentage of cars above 150,000 (df[df['price'] > 150_000].value_counts(nomralize = True))\n",
    "len(df[df.price > 15000]) / len(df)"
   ]
  },
  {
   "cell_type": "code",
   "execution_count": 1165,
   "metadata": {},
   "outputs": [],
   "source": [
    "df = df[df['price'] > 499]"
   ]
  },
  {
   "cell_type": "markdown",
   "metadata": {},
   "source": [
    "Setting the min at 500 as outside research shows you can expect about $250-$500 for your junk car, depending on the vehicle's weight. We want to eliminate cars in the junk status range as a consumer is unlikely to purchase an car in this condition to actual use for transportation purposes."
   ]
  },
  {
   "cell_type": "code",
   "execution_count": 1166,
   "metadata": {},
   "outputs": [],
   "source": [
    "df = df[df['price'] <= 150_000]"
   ]
  },
  {
   "cell_type": "code",
   "execution_count": 1167,
   "metadata": {},
   "outputs": [
    {
     "data": {
      "text/plain": [
       "(335234, 21)"
      ]
     },
     "execution_count": 1167,
     "metadata": {},
     "output_type": "execute_result"
    }
   ],
   "source": [
    "df.shape"
   ]
  },
  {
   "cell_type": "code",
   "execution_count": 1168,
   "metadata": {},
   "outputs": [
    {
     "name": "stdout",
     "output_type": "stream",
     "text": [
      "Mean Price of Cars: 6249.5506004760855\n",
      "Median Price of Cars: 3500.0\n",
      "Max Car Price: 150000\n",
      "Min Car Price: 500\n"
     ]
    }
   ],
   "source": [
    "print(f'Mean Price of Cars: {df.price.mean()}')\n",
    "print(f'Median Price of Cars: {df.price.median()}')\n",
    "print(f'Max Car Price: {df.price.max()}') \n",
    "print(f'Min Car Price: {df.price.min()}')"
   ]
  },
  {
   "cell_type": "code",
   "execution_count": 1169,
   "metadata": {},
   "outputs": [
    {
     "data": {
      "image/png": "[encoded data removed]",
      "text/plain": [
       "<Figure size 576x432 with 1 Axes>"
      ]
     },
     "metadata": {},
     "output_type": "display_data"
    }
   ],
   "source": [
    "size = 12\n",
    "plt.figure(figsize=(8,6))\n",
    "plt.title(\"Counts of Sale Price Ranges\", size = 16)\n",
    "plt.xlabel(\"Sale Price (€)\")\n",
    "plt.ylabel(\"Frequency\",)\n",
    "plt.xticks(size = size)\n",
    "plt.yticks(size = size)\n",
    "df[\"price\"].hist(bins = 15);"
   ]
  },
  {
   "cell_type": "markdown",
   "metadata": {},
   "source": [
    "There are cars that a worth more than 150,000 euro and after further inspection they do look legitimately priced as they are exotic or luxury cars. Since most of the data is clustered toward the low end of the price range (between 5,000 - 10,000 euros) we decided to only focused on vehicles between 500 euro and 20,000 euro. We have a considerable range in the quality of automobiles in our dataset. Only the lower range we have cars that could be consdiered \"junkers\" all the way up to luxury automobiles. However, the collectors items are the outliers in the dataset and we felt they could be included up until a certain point, there were only 232 cars priced over 150,000 so we decided to establish our max price there. Max price may be reduced if we observe poor RMSE scores. The metric RMSE is greatly affected by outliers and this is something to be aware of once we begin modeling. "
   ]
  },
  {
   "cell_type": "code",
   "execution_count": 1170,
   "metadata": {},
   "outputs": [
    {
     "data": {
      "image/png": "[encoded data removed]",
      "text/plain": [
       "<Figure size 576x360 with 1 Axes>"
      ]
     },
     "metadata": {},
     "output_type": "display_data"
    }
   ],
   "source": [
    "plt.figure(figsize=(8,5))\n",
    "sns.boxplot(y='price', data=df, width=0.5)\n",
    "plt.title(\"Car Prices\", size = 16);"
   ]
  },
  {
   "cell_type": "markdown",
   "metadata": {},
   "source": [
    "The above box plot is somewhat hard to interpret because we have so many outliers. The majority of cars in our data set are less than €10,000 with a mean value just under €5,000. The upper quartile range is around €7,500. We observe litte spread between the firt quartile and third quartlie range but due to the large number of outliers it gives our box plot the squashed appearence. We have a lot of data in our data set and a large number of outliers. "
   ]
  },
  {
   "cell_type": "code",
   "execution_count": 1171,
   "metadata": {},
   "outputs": [],
   "source": [
    "adjusted_price = np.log(df['price'])"
   ]
  },
  {
   "cell_type": "markdown",
   "metadata": {},
   "source": [
    "We created a variable to look at the logarithmic values of our target variable price. Because our linear scale is right skewed we hope to observe more of a normal distribution with our logarithmic scale prices.  "
   ]
  },
  {
   "cell_type": "code",
   "execution_count": 1172,
   "metadata": {},
   "outputs": [
    {
     "data": {
      "image/png": "[encoded data removed]",
      "text/plain": [
       "<Figure size 576x432 with 1 Axes>"
      ]
     },
     "metadata": {},
     "output_type": "display_data"
    }
   ],
   "source": [
    "size = 12\n",
    "plt.figure(figsize=(8,6))\n",
    "plt.title(\"Counts of Car log(Price) Ranges\", size = 16)\n",
    "plt.xlabel(\"Sale Price (€)\")\n",
    "plt.ylabel(\"Frequency\")\n",
    "plt.xticks(size = size * 4/5)\n",
    "plt.yticks(size = size)\n",
    "adjusted_price.hist(bins = 10);"
   ]
  },
  {
   "cell_type": "markdown",
   "metadata": {},
   "source": [
    "We wanted to assess the log prices of the used cars in the data set. Logarithmic price scales are better than linear price scales at showing less severe pirce increases or decreases. Doing a log transformation on the data may give us better results on linear models. It makes the data more \"normal\". This is especially true when the data has outliers. "
   ]
  },
  {
   "cell_type": "markdown",
   "metadata": {},
   "source": [
    "### Kilometers Driven"
   ]
  },
  {
   "cell_type": "code",
   "execution_count": 1173,
   "metadata": {},
   "outputs": [
    {
     "name": "stdout",
     "output_type": "stream",
     "text": [
      "Mean Kilometers Driven: 125204.81216105765\n",
      "Median Kilometers Driven: 150000.0\n",
      "Max Kilometers Driven: 150000\n",
      "Min Kilometers Driven: 5000\n"
     ]
    }
   ],
   "source": [
    "print(f'Mean Kilometers Driven: {df.kilometer.mean()}')\n",
    "print(f'Median Kilometers Driven: {df.kilometer.median()}')\n",
    "print(f'Max Kilometers Driven: {df.kilometer.max()}') \n",
    "print(f'Min Kilometers Driven: {df.kilometer.min()}')"
   ]
  },
  {
   "cell_type": "code",
   "execution_count": 1174,
   "metadata": {},
   "outputs": [
    {
     "data": {
      "text/plain": [
       "(0, 21)"
      ]
     },
     "execution_count": 1174,
     "metadata": {},
     "output_type": "execute_result"
    }
   ],
   "source": [
    "df[df['kilometer'] < 5_000].shape"
   ]
  },
  {
   "cell_type": "code",
   "execution_count": 1175,
   "metadata": {},
   "outputs": [
    {
     "data": {
      "text/plain": [
       "(0, 21)"
      ]
     },
     "execution_count": 1175,
     "metadata": {},
     "output_type": "execute_result"
    }
   ],
   "source": [
    "df[df['kilometer'] > 200_000].shape"
   ]
  },
  {
   "cell_type": "code",
   "execution_count": 1176,
   "metadata": {},
   "outputs": [],
   "source": [
    "df = df[df['kilometer'] > 5000]"
   ]
  },
  {
   "cell_type": "markdown",
   "metadata": {},
   "source": [
    "Above we wanted to identify any outliers in the kilometers column. Upon reviewing the values in the kilometers column it appears the number of kilometers driven is categorized by in increments of 10,000 up until 100,000 where it then increases by 25,000. This is not the traditional way to list the kilometers driven on a car. Usually the number is taken right from the odometer and it is an exact figure. Additonal research into the way the data was collected does not provide a further explanation of why the kilometers were recorded this way. We believe the kilometers on each car listing was rounded to the nearest 10,000 and nearest 25,000 for values above 100,000. An exact figure for distance driven would have been preferable but we will have to work with what we have, especially because this feature is likely to have a strong linear realtionship with price."
   ]
  },
  {
   "cell_type": "code",
   "execution_count": 1178,
   "metadata": {},
   "outputs": [],
   "source": [
    "pvt = df.pivot_table(index = 'kilometer',\n",
    "                          values = 'price', aggfunc = np.mean)"
   ]
  },
  {
   "cell_type": "code",
   "execution_count": 1179,
   "metadata": {},
   "outputs": [
    {
     "data": {
      "text/plain": [
       "<Figure size 1440x1296 with 0 Axes>"
      ]
     },
     "metadata": {},
     "output_type": "display_data"
    },
    {
     "data": {
      "image/png": "[encoded data removed]",
      "text/plain": [
       "<Figure size 432x288 with 1 Axes>"
      ]
     },
     "metadata": {},
     "output_type": "display_data"
    }
   ],
   "source": [
    "plt.figure(figsize =(20, 18))\n",
    "pvt.plot(kind = 'bar', color = 'blue')\n",
    "plt.xlabel('Kilometers Driven')\n",
    "plt.ylabel('Mean Price')\n",
    "plt.xticks(rotation = 90)\n",
    "plt.xticks(rotation=90)\n",
    "plt.title('Mean Price vs. Kilometers Driven', size = 20);"
   ]
  },
  {
   "cell_type": "markdown",
   "metadata": {},
   "source": [
    "Each car listing does not give the exact kilometers driven of a car, instead kilometers driven are grouped into sections rounded to the nearest \n",
    "\n",
    "Exact number of kilometers driven is not given, instead the number of of kilometers driven is segmented into categories; from 5,000 - 10,000 and then increasing by 10,000 until 100,000 where it increases by 25,000 k per grouping. "
   ]
  },
  {
   "cell_type": "code",
   "execution_count": 1180,
   "metadata": {},
   "outputs": [
    {
     "data": {
      "text/plain": [
       "Index(['date crawled', 'name', 'seller', 'offer type', 'price', 'AB test',\n",
       "       'vehicle type', 'year of registration', 'gear box', 'power ps', 'model',\n",
       "       'kilometer', 'month of registration', 'fuel type', 'brand',\n",
       "       'unrepaired damage', 'date created', 'pictures of car', 'postal code',\n",
       "       'last seen', 'ad duration'],\n",
       "      dtype='object')"
      ]
     },
     "execution_count": 1180,
     "metadata": {},
     "output_type": "execute_result"
    }
   ],
   "source": [
    "df.columns"
   ]
  },
  {
   "cell_type": "markdown",
   "metadata": {},
   "source": [
    "### Year of Registration"
   ]
  },
  {
   "cell_type": "markdown",
   "metadata": {},
   "source": [
    "Below we wanted to identify any outliers in the dataset and decided to drop any cars with a year of registration before 1970. There were only 1,197 cars that were registred before 1970 and did not feel dropping these rows would have a great impact on our results. Additonally cars after were dropped from the dataset because the data was obtained in 2017 making it unlikely that there would be cars unreleased to the public in the data. "
   ]
  },
  {
   "cell_type": "code",
   "execution_count": 1181,
   "metadata": {},
   "outputs": [
    {
     "data": {
      "text/plain": [
       "(1197, 21)"
      ]
     },
     "execution_count": 1181,
     "metadata": {},
     "output_type": "execute_result"
    }
   ],
   "source": [
    "df[df['year of registration'] < 1970].shape"
   ]
  },
  {
   "cell_type": "code",
   "execution_count": 1182,
   "metadata": {},
   "outputs": [
    {
     "data": {
      "text/plain": [
       "(3733, 21)"
      ]
     },
     "execution_count": 1182,
     "metadata": {},
     "output_type": "execute_result"
    }
   ],
   "source": [
    "df[df['year of registration'] > 2017].shape"
   ]
  },
  {
   "cell_type": "code",
   "execution_count": 1183,
   "metadata": {},
   "outputs": [],
   "source": [
    "df = df[(df['year of registration'] > 1970) | (df['year of registration'] < 2020)]"
   ]
  },
  {
   "cell_type": "code",
   "execution_count": 1184,
   "metadata": {},
   "outputs": [],
   "source": [
    "df = df[df['year of registration'] > 1970]"
   ]
  },
  {
   "cell_type": "code",
   "execution_count": 1185,
   "metadata": {},
   "outputs": [],
   "source": [
    "df = df[df['year of registration'] < 2018]"
   ]
  },
  {
   "cell_type": "markdown",
   "metadata": {},
   "source": [
    "The feature year of registration is when the vehicle was first purchased and registerd with the motor vehicle regulatory body. We will identify approximately how old the vehicles were when this data was obtained by subtracting the year of registration from the year of registration."
   ]
  },
  {
   "cell_type": "code",
   "execution_count": 1186,
   "metadata": {},
   "outputs": [],
   "source": [
    "df['age'] = 2017 - df['year of registration']"
   ]
  },
  {
   "cell_type": "code",
   "execution_count": 1187,
   "metadata": {},
   "outputs": [],
   "source": [
    "df.drop(columns = 'year of registration', inplace = True)"
   ]
  },
  {
   "cell_type": "code",
   "execution_count": 1188,
   "metadata": {
    "scrolled": true
   },
   "outputs": [
    {
     "data": {
      "image/png": "[encoded data removed]",
      "text/plain": [
       "<Figure size 720x432 with 1 Axes>"
      ]
     },
     "metadata": {},
     "output_type": "display_data"
    }
   ],
   "source": [
    "plt.figure(figsize=(10,6))\n",
    "\n",
    "sns.distplot(df['age']).set_title('Distribution of Age of Vehicles', size = 20)\n",
    "plt.ylabel('Frequency');"
   ]
  },
  {
   "cell_type": "markdown",
   "metadata": {},
   "source": [
    "Year Of Registration is the year the car was first registered. We can infer from this information that this is the approximate age of the car. The year of registration will be subtracted from the year the data was collect (2017) to create an age feature in our dataset. The dataset included some outliers that we knew not to be true, such as cars listed from the year 1400 or 8455. These extremes could be removed because cars were not around in the 15th century and it is unlikely we would have cars from the future available on this list of pre-owned vehichles. There were cars that dated back to the early 20th century. However we will exclude cars before 1970 as it was only a small percentage of our dataset and these cars may be antiques or classics that may throw off our predicitons. This dataset is primarily focused on your typical used automobile that the average person would drive. We want to reduce the number of exotic or antique cars to get a better predicitons. "
   ]
  },
  {
   "cell_type": "code",
   "execution_count": 1189,
   "metadata": {},
   "outputs": [
    {
     "data": {
      "image/png": "[encoded data removed]",
      "text/plain": [
       "<Figure size 576x432 with 1 Axes>"
      ]
     },
     "metadata": {},
     "output_type": "display_data"
    }
   ],
   "source": [
    "plt.figure(figsize=(8,6))\n",
    "plt.title(\"Age of Car vs Price\", fontsize = size * 2, pad = size)\n",
    "g = sns.scatterplot(df[\"age\"], df[\"price\"]);\n",
    "g.set_xlabel(\"Car Age (years)\", size = 12)\n",
    "g.set_ylabel(\"Price\", size= 12)\n",
    "#g.tick_params(labelsize=18)\n",
    "plt.tight_layout()"
   ]
  },
  {
   "cell_type": "markdown",
   "metadata": {},
   "source": [
    "The above scatterplot shows a downward trend in price of cars with an increase in age. We do observe some older cars (40+ years) that have higher prices but these are most likely rare cars or antiques that are sold as collectors items. We observe high priced cars at almost every age between 0-40 years but we observe these expensive cars with less frequency with an increase in the age of a car.  "
   ]
  },
  {
   "cell_type": "markdown",
   "metadata": {},
   "source": [
    "## Power PS"
   ]
  },
  {
   "cell_type": "markdown",
   "metadata": {},
   "source": [
    "Although it’s still commonly used by carmakers, PS or Pferdestärke (horse strength in German) was actually replaced by kW as the EU's ‘legal’ measurement of engine power in 1992.  One PS is about 98.6% of a brake horsepower – the two are virtually interchangeable, and PS is sometimes referred to as 'metric horsepower'. We will convert the power ps category to kilo watts. \n",
    "\n"
   ]
  },
  {
   "cell_type": "code",
   "execution_count": 1190,
   "metadata": {},
   "outputs": [
    {
     "data": {
      "text/plain": [
       "(26670, 21)"
      ]
     },
     "execution_count": 1190,
     "metadata": {},
     "output_type": "execute_result"
    }
   ],
   "source": [
    "df[df['power ps'] == 0].shape"
   ]
  },
  {
   "cell_type": "code",
   "execution_count": 1191,
   "metadata": {},
   "outputs": [
    {
     "data": {
      "text/plain": [
       "(233, 21)"
      ]
     },
     "execution_count": 1191,
     "metadata": {},
     "output_type": "execute_result"
    }
   ],
   "source": [
    "df[df['power ps'] > 1000].shape"
   ]
  },
  {
   "cell_type": "code",
   "execution_count": 1192,
   "metadata": {},
   "outputs": [],
   "source": [
    "df = df[(df['power ps'] < 1000) | (df['power ps'] > 0)]"
   ]
  },
  {
   "cell_type": "code",
   "execution_count": 1193,
   "metadata": {},
   "outputs": [],
   "source": [
    "df['kw power'] = df['power ps'] * 0.7355"
   ]
  },
  {
   "cell_type": "code",
   "execution_count": 1194,
   "metadata": {},
   "outputs": [],
   "source": [
    "df.drop(columns = 'power ps', inplace = True)"
   ]
  },
  {
   "cell_type": "markdown",
   "metadata": {},
   "source": [
    "## Address Null Values"
   ]
  },
  {
   "cell_type": "markdown",
   "metadata": {},
   "source": [
    "All of the categories that have null values are categorical features. The first feature we wanted to address was model. We reviewed the value counts of each model for each brand and used the mode to to replace the missing data. The feature model had null values that was just over 5%. This is usually the threshold to just drop the missing data, but we wanted to replace the null values with the mode to see it's performance on the model. We will then remove these imputed values and run the model again to see which performs better. "
   ]
  },
  {
   "cell_type": "markdown",
   "metadata": {},
   "source": [
    "#### Model Null Values"
   ]
  },
  {
   "cell_type": "markdown",
   "metadata": {},
   "source": [
    "We will impute missing model types from our dataset with the mode value of each brand. For Volkswagen missing model types will be imputed with the moddel golf. In this situation with the missing data we have this is the best method to fill null values as opposed to dropping the data completely. "
   ]
  },
  {
   "cell_type": "code",
   "execution_count": 1195,
   "metadata": {},
   "outputs": [],
   "source": [
    "vtype_mode = df.groupby('model')['vehicle type'].agg(pd.Series.mode)"
   ]
  },
  {
   "cell_type": "code",
   "execution_count": 1268,
   "metadata": {},
   "outputs": [
    {
     "data": {
      "text/plain": [
       "<bound method Series.unique of model\n",
       "100         limousine\n",
       "145        kleinwagen\n",
       "147         limousine\n",
       "156             kombi\n",
       "159             kombi\n",
       "              ...    \n",
       "yaris      kleinwagen\n",
       "yeti              suv\n",
       "ypsilon    kleinwagen\n",
       "z_reihe        cabrio\n",
       "zafira            bus\n",
       "Name: vehicle type, Length: 251, dtype: object>"
      ]
     },
     "execution_count": 1268,
     "metadata": {},
     "output_type": "execute_result"
    }
   ],
   "source": [
    "vtype_mode.unique"
   ]
  },
  {
   "cell_type": "code",
   "execution_count": 1270,
   "metadata": {},
   "outputs": [],
   "source": [
    "for i,vtype in vtype_mode.iteritems():\n",
    "    if len(vtype) == 2:\n",
    "        print(i,vtype)\n",
    "    \n",
    "\n",
    "#vtype_mode.replace(np.array(['kleinwagen', 'limousine']), 'limousine').value_counts()"
   ]
  },
  {
   "cell_type": "markdown",
   "metadata": {},
   "source": [
    "above we created a the variable vtype_mode which is the mode value of the vehicle types in the dataset. This value will be used to impute the missing data for vehicle types. We observed array's in the dataset, which will cause problems during the modeling phase. Models cannot accept array's which are a list of indiviudal strings. We had to create a for loop to look through our data and locate the arrays. Once they were located we replaced those arrays with individual strings, which you will see in the cell below. "
   ]
  },
  {
   "cell_type": "code",
   "execution_count": 1271,
   "metadata": {},
   "outputs": [],
   "source": [
    "vtype_mode['elefantino'] = 'limousine'\n",
    "vtype_mode['superb'] = 'limousine'\n",
    "vtype_mode['serie_2'] = 'suv'"
   ]
  },
  {
   "cell_type": "code",
   "execution_count": 1198,
   "metadata": {},
   "outputs": [],
   "source": [
    "df['vehicle type'].fillna(df['model'], inplace = True)"
   ]
  },
  {
   "cell_type": "code",
   "execution_count": 1199,
   "metadata": {},
   "outputs": [],
   "source": [
    "df['vehicle type'] = df['vehicle type'].map(vtype_mode.to_dict()).fillna(df['vehicle type'])"
   ]
  },
  {
   "cell_type": "code",
   "execution_count": 1200,
   "metadata": {},
   "outputs": [],
   "source": [
    "brand_mode = df.groupby('brand')['model'].agg(pd.Series.mode)"
   ]
  },
  {
   "cell_type": "code",
   "execution_count": 1201,
   "metadata": {},
   "outputs": [],
   "source": [
    "df['model'].fillna(df['brand'], inplace = True)"
   ]
  },
  {
   "cell_type": "code",
   "execution_count": 1202,
   "metadata": {},
   "outputs": [],
   "source": [
    "df['model'] = df['model'].map(brand_mode.to_dict()).fillna(df['model'])"
   ]
  },
  {
   "cell_type": "code",
   "execution_count": 1203,
   "metadata": {},
   "outputs": [
    {
     "name": "stderr",
     "output_type": "stream",
     "text": [
      "/opt/anaconda3/lib/python3.7/site-packages/ipykernel_launcher.py:1: SettingWithCopyWarning: \n",
      "A value is trying to be set on a copy of a slice from a DataFrame.\n",
      "Try using .loc[row_indexer,col_indexer] = value instead\n",
      "\n",
      "See the caveats in the documentation: https://pandas.pydata.org/pandas-docs/stable/user_guide/indexing.html#returning-a-view-versus-a-copy\n",
      "  \"\"\"Entry point for launching an IPython kernel.\n"
     ]
    }
   ],
   "source": [
    "df[df['brand'] == 'sonstige_autos']['model'] = 'andere'"
   ]
  },
  {
   "cell_type": "markdown",
   "metadata": {},
   "source": [
    "#### Pictures of Car"
   ]
  },
  {
   "cell_type": "code",
   "execution_count": 1204,
   "metadata": {},
   "outputs": [],
   "source": [
    "df.drop(columns = 'pictures of car', inplace = True)"
   ]
  },
  {
   "cell_type": "markdown",
   "metadata": {},
   "source": [
    "Pictures of car column did not have any data. It appears there was an error when scraping the information from the website. This column will be dropped from the data. "
   ]
  },
  {
   "cell_type": "markdown",
   "metadata": {},
   "source": [
    "#### Fuel Type & Gearbox"
   ]
  },
  {
   "cell_type": "markdown",
   "metadata": {},
   "source": [
    "Fuel type and gear box (aka transmission types) were two of the five categories with missing data. Below we identify the modes of both features and will impute the modes of both variable for the missing values. Again, we feel the data we have is valuable and do not want to drop it completetly from the dataset. "
   ]
  },
  {
   "cell_type": "code",
   "execution_count": 1205,
   "metadata": {},
   "outputs": [
    {
     "data": {
      "text/plain": [
       "benzin     0.640310\n",
       "diesel     0.340021\n",
       "lpg        0.016480\n",
       "cng        0.001730\n",
       "hybrid     0.000857\n",
       "andere     0.000328\n",
       "elektro    0.000273\n",
       "Name: fuel type, dtype: float64"
      ]
     },
     "execution_count": 1205,
     "metadata": {},
     "output_type": "execute_result"
    }
   ],
   "source": [
    "df['fuel type'].value_counts(normalize = True)"
   ]
  },
  {
   "cell_type": "code",
   "execution_count": 1206,
   "metadata": {},
   "outputs": [
    {
     "data": {
      "text/html": [
       "<div>\n",
       "<style scoped>\n",
       "    .dataframe tbody tr th:only-of-type {\n",
       "        vertical-align: middle;\n",
       "    }\n",
       "\n",
       "    .dataframe tbody tr th {\n",
       "        vertical-align: top;\n",
       "    }\n",
       "\n",
       "    .dataframe thead th {\n",
       "        text-align: right;\n",
       "    }\n",
       "</style>\n",
       "<table border=\"1\" class=\"dataframe\">\n",
       "  <thead>\n",
       "    <tr style=\"text-align: right;\">\n",
       "      <th></th>\n",
       "      <th>gear box</th>\n",
       "      <th>fuel type</th>\n",
       "    </tr>\n",
       "  </thead>\n",
       "  <tbody>\n",
       "    <tr>\n",
       "      <th>0</th>\n",
       "      <td>manuell</td>\n",
       "      <td>benzin</td>\n",
       "    </tr>\n",
       "  </tbody>\n",
       "</table>\n",
       "</div>"
      ],
      "text/plain": [
       "  gear box fuel type\n",
       "0  manuell    benzin"
      ]
     },
     "execution_count": 1206,
     "metadata": {},
     "output_type": "execute_result"
    }
   ],
   "source": [
    "df[['gear box', 'fuel type']].mode()"
   ]
  },
  {
   "cell_type": "code",
   "execution_count": 1207,
   "metadata": {},
   "outputs": [],
   "source": [
    "df['gear box'].fillna(df['gear box'].mode().values[0], inplace = True)"
   ]
  },
  {
   "cell_type": "code",
   "execution_count": 1208,
   "metadata": {},
   "outputs": [],
   "source": [
    "df['fuel type'].fillna(df['fuel type'].mode().values[0], inplace = True)"
   ]
  },
  {
   "cell_type": "markdown",
   "metadata": {},
   "source": [
    "Imputed mode values of gearbox also known as transmission types. Manual transmissions were by far the most common transmission type so this was our best method to address the null values. Also there are only two types of transmissions so imputing the wrong value is less likey. This is not ideal to address null values but we don't want to just drop data from our dataset. "
   ]
  },
  {
   "cell_type": "markdown",
   "metadata": {},
   "source": [
    "#### Unrepaired Damage"
   ]
  },
  {
   "cell_type": "markdown",
   "metadata": {},
   "source": [
    "If the car has  damage which has not repaired yet been repaired. This is a feature that could greatly impact the re-sale value of a car and is something that most likely cannot be hidden from a potential buyer. To address the null values in this category we will assume a null value means there is no un-repaired damage and the value will be filled with the answer 'nein' (no). If did not have any damange and thus did not need repair it is likely a seller ommitted an answer all together from this category. "
   ]
  },
  {
   "cell_type": "code",
   "execution_count": 1209,
   "metadata": {},
   "outputs": [
    {
     "data": {
      "text/html": [
       "<div>\n",
       "<style scoped>\n",
       "    .dataframe tbody tr th:only-of-type {\n",
       "        vertical-align: middle;\n",
       "    }\n",
       "\n",
       "    .dataframe tbody tr th {\n",
       "        vertical-align: top;\n",
       "    }\n",
       "\n",
       "    .dataframe thead th {\n",
       "        text-align: right;\n",
       "    }\n",
       "</style>\n",
       "<table border=\"1\" class=\"dataframe\">\n",
       "  <thead>\n",
       "    <tr style=\"text-align: right;\">\n",
       "      <th></th>\n",
       "      <th>date crawled</th>\n",
       "      <th>name</th>\n",
       "      <th>seller</th>\n",
       "      <th>offer type</th>\n",
       "      <th>price</th>\n",
       "      <th>AB test</th>\n",
       "      <th>vehicle type</th>\n",
       "      <th>gear box</th>\n",
       "      <th>model</th>\n",
       "      <th>kilometer</th>\n",
       "      <th>month of registration</th>\n",
       "      <th>fuel type</th>\n",
       "      <th>brand</th>\n",
       "      <th>unrepaired damage</th>\n",
       "      <th>date created</th>\n",
       "      <th>postal code</th>\n",
       "      <th>last seen</th>\n",
       "      <th>ad duration</th>\n",
       "      <th>age</th>\n",
       "      <th>kw power</th>\n",
       "    </tr>\n",
       "  </thead>\n",
       "  <tbody>\n",
       "    <tr>\n",
       "      <th>1</th>\n",
       "      <td>2016-03-24 10:58:45</td>\n",
       "      <td>A5_Sportback_2.7_Tdi</td>\n",
       "      <td>privat</td>\n",
       "      <td>Angebot</td>\n",
       "      <td>18300</td>\n",
       "      <td>test</td>\n",
       "      <td>coupe</td>\n",
       "      <td>manuell</td>\n",
       "      <td>a4</td>\n",
       "      <td>125000</td>\n",
       "      <td>5</td>\n",
       "      <td>diesel</td>\n",
       "      <td>audi</td>\n",
       "      <td>ja</td>\n",
       "      <td>2016-03-24</td>\n",
       "      <td>66954</td>\n",
       "      <td>2016-04-07 01:46:50</td>\n",
       "      <td>14</td>\n",
       "      <td>6</td>\n",
       "      <td>139.745</td>\n",
       "    </tr>\n",
       "  </tbody>\n",
       "</table>\n",
       "</div>"
      ],
      "text/plain": [
       "         date crawled                  name  seller offer type  price AB test  \\\n",
       "1 2016-03-24 10:58:45  A5_Sportback_2.7_Tdi  privat    Angebot  18300    test   \n",
       "\n",
       "  vehicle type gear box model  kilometer  month of registration fuel type  \\\n",
       "1        coupe  manuell    a4     125000                      5    diesel   \n",
       "\n",
       "  brand unrepaired damage date created  postal code           last seen  \\\n",
       "1  audi                ja   2016-03-24        66954 2016-04-07 01:46:50   \n",
       "\n",
       "   ad duration  age  kw power  \n",
       "1           14    6   139.745  "
      ]
     },
     "execution_count": 1209,
     "metadata": {},
     "output_type": "execute_result"
    }
   ],
   "source": [
    "df.head(1)"
   ]
  },
  {
   "cell_type": "code",
   "execution_count": 1210,
   "metadata": {},
   "outputs": [
    {
     "data": {
      "text/plain": [
       "array(['ja', nan, 'nein'], dtype=object)"
      ]
     },
     "execution_count": 1210,
     "metadata": {},
     "output_type": "execute_result"
    }
   ],
   "source": [
    "df['unrepaired damage'].unique()"
   ]
  },
  {
   "cell_type": "code",
   "execution_count": null,
   "metadata": {},
   "outputs": [],
   "source": [
    "df['unrepaired damage'].value_counts()"
   ]
  },
  {
   "cell_type": "code",
   "execution_count": 1211,
   "metadata": {},
   "outputs": [],
   "source": [
    "df['unrepaired damage'].fillna('nein', inplace = True)"
   ]
  },
  {
   "cell_type": "markdown",
   "metadata": {},
   "source": []
  },
  {
   "cell_type": "code",
   "execution_count": 1212,
   "metadata": {},
   "outputs": [
    {
     "data": {
      "text/plain": [
       "seller\n",
       "gewerblich         1\n",
       "privat        325667\n",
       "dtype: int64"
      ]
     },
     "execution_count": 1212,
     "metadata": {},
     "output_type": "execute_result"
    }
   ],
   "source": [
    "#gewerblich/commercial(english) all other sellers are private \n",
    "df.groupby('seller').size()"
   ]
  },
  {
   "cell_type": "markdown",
   "metadata": {},
   "source": [
    "Seller types features shows if the person selling the car is a private seller or a commercial seller (Gewerblich is the German word for commericial). All but one of the sellers in the dataset is a private seller. This column will be dropped as it will not be able to provide us information on the relationship between seller and price because all but one seller is a private seller. "
   ]
  },
  {
   "cell_type": "markdown",
   "metadata": {},
   "source": [
    "### Vehicle Type"
   ]
  },
  {
   "cell_type": "markdown",
   "metadata": {},
   "source": [
    "The column vehicle type classifies each listed vehicle by body style. Governments and private organizations have developed car classification schemes that are used for various purposes including regulation, description and categorization fo cars. This feature is likely to have some linear relationship to price as compact cars (klienwagen) are smaller cars with smaller engines which are likely to cost less than a sedan or SUV."
   ]
  },
  {
   "cell_type": "code",
   "execution_count": 1213,
   "metadata": {},
   "outputs": [
    {
     "data": {
      "image/png": "[encoded data removed]",
      "text/plain": [
       "<Figure size 432x288 with 1 Axes>"
      ]
     },
     "metadata": {},
     "output_type": "display_data"
    }
   ],
   "source": [
    "df['vehicle type'].value_counts().plot(kind = 'barh')\n",
    "plt.title('Vehicle Types', size = 14)\n",
    "plt.xlabel('Vehicle Type')\n",
    "plt.ylabel('Number of Cars');"
   ]
  },
  {
   "cell_type": "markdown",
   "metadata": {},
   "source": [
    "__English Translations__ \n",
    "\n",
    "Limousine - Sedan\n",
    "\n",
    "Kleinwagen - Compact Car\n",
    "\n",
    "Kombi - Minibus\n",
    "\n",
    "Cabrio - Convertible \n",
    "\n",
    "Andere - Other\n",
    "\n",
    "\n"
   ]
  },
  {
   "cell_type": "markdown",
   "metadata": {},
   "source": [
    "The most common vehicle types in the data set are Sedans and compact cars. Europeans tend to drive smaller more fuel efficient cars because of the price of fuel in Europe is more expensive than the United States. We observe a small number of SUV's and no pickup trucks. "
   ]
  },
  {
   "cell_type": "code",
   "execution_count": 1214,
   "metadata": {},
   "outputs": [
    {
     "data": {
      "image/png": "[encoded data removed]",
      "text/plain": [
       "<Figure size 576x432 with 1 Axes>"
      ]
     },
     "metadata": {},
     "output_type": "display_data"
    }
   ],
   "source": [
    "var = 'vehicle type'\n",
    "data = pd.concat([df['price'], df[var]], axis=1)\n",
    "f, ax = plt.subplots(figsize=(8, 6))\n",
    "fig = sns.boxplot(x=var, y=\"price\", data=data)\n",
    "plt.title(\"Vehicle Types vs. Price\", size = 16)\n",
    "fig.axis(ymin=0, ymax=80000);"
   ]
  },
  {
   "cell_type": "markdown",
   "metadata": {},
   "source": [
    "Again we see a vast range of prices from somewhere in the low hundreds all the way up to 100,000. The box plots help visualize that most of the vehicle types listed have prices that are clustered below the 20,000 euro ranges. We can infer from the box plot that SUV's have the highest re-sale prices while the small compact car (kleinwagen) have the lowest retail price."
   ]
  },
  {
   "cell_type": "markdown",
   "metadata": {},
   "source": [
    "## Car Brands"
   ]
  },
  {
   "cell_type": "markdown",
   "metadata": {},
   "source": [
    "Brand of car is likely to be an important feature in our model. There are certain brands in the dataset that can be considered luxury brands. Brands like Audi, BMW, and Mercedes-Benz are likely to cost more on average than many of the other brands in the data. There are likely to be brands that are less expensive and it is important to analyze what brands make up the data and how these brands are priced. "
   ]
  },
  {
   "cell_type": "code",
   "execution_count": 1215,
   "metadata": {},
   "outputs": [],
   "source": [
    "top_10_brands = df.brand.value_counts().head(10)"
   ]
  },
  {
   "cell_type": "code",
   "execution_count": 1216,
   "metadata": {},
   "outputs": [],
   "source": [
    "new_labels = [\"Volkswagen\",\"BMW\",\"Mercedes Benz\",\"Opel\",\"Audi\",\"Ford\",\"Renault\",\"Peugeot\",\"Fiat\",\"Seat\"]"
   ]
  },
  {
   "cell_type": "code",
   "execution_count": 1217,
   "metadata": {},
   "outputs": [],
   "source": [
    "top_10_brands.index = new_labels"
   ]
  },
  {
   "cell_type": "code",
   "execution_count": 1218,
   "metadata": {},
   "outputs": [
    {
     "data": {
      "image/png": "[encoded data removed]",
      "text/plain": [
       "<Figure size 576x576 with 1 Axes>"
      ]
     },
     "metadata": {},
     "output_type": "display_data"
    }
   ],
   "source": [
    "#Visualize the frequency of brands in the dataset (add labels)\n",
    "plt.figure(figsize = (8,8))\n",
    "top_10_brands.plot(kind = 'barh')\n",
    "plt.title('Top 10 Car Brands', size = 20)\n",
    "plt.xlabel('Frequency')\n",
    "plt.ylabel('Brand');"
   ]
  },
  {
   "cell_type": "markdown",
   "metadata": {},
   "source": [
    "It comes as no surprise that four of the five most common brands are German manufacturers as this data was scraped from a German website. Volkswagen is the most common car making up approximately 20% of our dataset. Volkswagen roughy translages to the peoples car and this makes sense now as we see how popular of a car it is with German consumers. Volkswagens are affordable and reliable cars that have good fuel economy, which is very important to European consumers because of the price of gas in Europe. We only observe one car brand that comes from outside of Europe in the top 10. Ford ranks sixth on this list and outside research shows Ford has a large presence in Germany with a factory in Cologne. Fords are one of the most popular foregin (outside of Europe) car makers in Germany. "
   ]
  },
  {
   "cell_type": "code",
   "execution_count": 1219,
   "metadata": {},
   "outputs": [],
   "source": [
    "mean_price_brand = df.pivot_table(index = 'brand',\n",
    "                          values = 'price', aggfunc = np.mean)"
   ]
  },
  {
   "cell_type": "code",
   "execution_count": 1220,
   "metadata": {},
   "outputs": [],
   "source": [
    "new_labels = [\"Volvo\",\"Volkswagen\",\"Trabant\",\"Toyota\",\"Suzuki\",\"Subaru\",\"Sonstige Autos\",\"Smarto\",\"Skoda\",\"Seat\",\n",
    "             'Saab', 'Rover', 'Renault', 'Porsche', 'Peugeot', 'Opel', 'Nissan', 'Mitsubishi', 'Mini', 'Mercedes Benz',\n",
    "             'Mazda', 'Land Rover', 'Lancia', 'Lada', 'Kia', 'Jeep', 'Jaguar', 'Hyundai', 'Honda', 'Ford', 'Fiat', \n",
    "              'Daihatsu', 'Daewoo', 'Dacia', 'Citroen', 'Chrysler', 'Chevrolet', 'BMW', 'Audi', 'Alfa Romeo']"
   ]
  },
  {
   "cell_type": "markdown",
   "metadata": {},
   "source": [
    "Above we calculate the mean price of all the car brands in our data set and create a spreadsheet-style pivot table which will be used in a visualization to show the mean prices of the car brands we will be introducing into our model. New labels were also applied above to this column of data to make our visualization easier to read. "
   ]
  },
  {
   "cell_type": "code",
   "execution_count": 1221,
   "metadata": {},
   "outputs": [],
   "source": [
    "mean_price_brand.index = new_labels"
   ]
  },
  {
   "cell_type": "code",
   "execution_count": 1222,
   "metadata": {},
   "outputs": [
    {
     "data": {
      "image/png": "[encoded data removed]",
      "text/plain": [
       "<Figure size 720x576 with 1 Axes>"
      ]
     },
     "metadata": {},
     "output_type": "display_data"
    }
   ],
   "source": [
    "mean_price_brand.plot(kind = 'barh', color = 'red', figsize = (10 ,8))\n",
    "plt.title('Mean Price of Car Brands', size = 20)\n",
    "plt.ylabel('Brands')\n",
    "plt.xlabel('Mean Price');"
   ]
  },
  {
   "cell_type": "markdown",
   "metadata": {},
   "source": [
    "Above we obeserve the mean prices of the brands of vehicles in our data set. Most of the brands mean prices are below €10,000. Only two brand Land Rover and Porsche have mean values of over €15,000. Even other luxury brands like BMW and Audi have low mean prices. This is not surprising as consumers of used cars are probably not interested in spending more than €10,000. At that point you start to enter the new car price range. "
   ]
  },
  {
   "cell_type": "code",
   "execution_count": 1223,
   "metadata": {},
   "outputs": [
    {
     "data": {
      "image/png": "[encoded data removed]",
      "text/plain": [
       "<Figure size 576x432 with 1 Axes>"
      ]
     },
     "metadata": {},
     "output_type": "display_data"
    }
   ],
   "source": [
    "size= 14\n",
    "plt.figure(figsize=(8,6))\n",
    "sns.set(style='darkgrid')\n",
    "sns.boxplot(x='model', y='price', data=df[df.brand == 'toyota']).\\\n",
    "set_title('Prices of Different Toyota Models', size = 20)\n",
    "fig.axis(ymin=0, ymax=80000);\n",
    "plt.xticks(rotation=0, size = size)\n",
    "plt.yticks(size = size);"
   ]
  },
  {
   "cell_type": "markdown",
   "metadata": {},
   "source": [
    "The above box plot shows the prices of the Toyota models in the dataset. This brand like most of the other brands in our data have a great range in price. This is most likely due to the age, number or kilometers and condition of the cars. This brand is considered luxury and some models can retail for over €60,000. However, most of the mean averages for this brand is below €10,000. This is what makes the resale value of cars interesting as they are a depreciating asset and it is difficult to maintain their value. We observe in the above visualization the values for cars from the start of their life cycle until the end. Each model shows outliers that represent prices that are very close to that models retail price and from there prices all the way down to around a €1,000. The majority of the car prices are within are in the low to mid thousands as shown in the box plots above. \n",
    "\n",
    "Automobiles are depreciating assets so as soon as they are purchased and driven off the lot their price begins to drop. Increasing the mileage as well as addtional wear and tear to a vehicle are contributing factors to price depreciation. This is why we observe this range of prices"
   ]
  },
  {
   "cell_type": "markdown",
   "metadata": {},
   "source": [
    "### Fuel Types"
   ]
  },
  {
   "cell_type": "markdown",
   "metadata": {},
   "source": [
    "Fuel type is a feature on a vehicle that is likely to have an impact on the price. A vehicle that requires diesel is usually a larger automobile that has more power. Vehicles that use diesel are usually trucks and buses. Diesel fuel is generally more expensive than gasoline and the engines can last much longer than a gasoline powered engine. This is an important feature to analyze in order to understand what types of fuel the cars in our dataset run on and the frequency of those fuel types. \n",
    "\n",
    "\n",
    "__English Translations__ \n",
    "\n",
    "benzin - gasoline\n",
    "\n",
    "elektro - electric"
   ]
  },
  {
   "cell_type": "code",
   "execution_count": 1224,
   "metadata": {},
   "outputs": [
    {
     "data": {
      "image/png": "[encoded data removed]",
      "text/plain": [
       "<Figure size 432x288 with 1 Axes>"
      ]
     },
     "metadata": {},
     "output_type": "display_data"
    }
   ],
   "source": [
    "df['fuel type'].value_counts(ascending = True).plot(kind = 'barh')\n",
    "plt.title('Fuel Types')\n",
    "plt.xlabel('Frequency')\n",
    "plt.ylabel('Fuel Types');"
   ]
  },
  {
   "cell_type": "markdown",
   "metadata": {},
   "source": [
    "Gasoline and diesel and the most common fuel types of the cars in the dataset. Research shows that diesel cars cost more in comparison to gas powered cars and have a higher resale value. \n",
    "\n",
    "Gasoline and diesel cars make up the majority of fuel types in the dataset, representing over 300,000 of the 370,000 rows. "
   ]
  },
  {
   "cell_type": "code",
   "execution_count": 1225,
   "metadata": {},
   "outputs": [
    {
     "data": {
      "image/png": "[encoded data removed]",
      "text/plain": [
       "<Figure size 576x432 with 1 Axes>"
      ]
     },
     "metadata": {},
     "output_type": "display_data"
    }
   ],
   "source": [
    "#Title!!!\n",
    "var = 'fuel type'\n",
    "data = pd.concat([df['price'], df[var]], axis=1)\n",
    "f, ax = plt.subplots(figsize=(8, 6))\n",
    "plt.title('Fuel Types vs. Price', size = 20)\n",
    "fig = sns.boxplot(x=var, y=\"price\", data=data)\n",
    "fig.axis(ymin=0, ymax=80000);"
   ]
  },
  {
   "cell_type": "markdown",
   "metadata": {},
   "source": [
    "__English Translations__ \n",
    "\n",
    "benzin - gasoline\n",
    "\n",
    "elektro - electric\n",
    "\n",
    "lpg - liquid natural gas\n",
    "\n",
    "cng - compressed natural gas"
   ]
  },
  {
   "cell_type": "markdown",
   "metadata": {},
   "source": [
    "Again we see a vast range of prices from somewhere in the low hundreds all the way up to 100,000. The box plots help visualize that most of the vehicle types listed have prices that are clustered below the 20,000 euro ranges. We can infer from the box plot that vehicles with hybrid fuel types have the highest re-sale prices. For gasoline (benzin) which is the most common fuel type in our data set we observe a mean value in the low thousands and the third quartile range in the mid thousands and a maximu of approximatley 14,000 euros. Outliers continue all the way up to the ymax setting of the box plot. The graph shows us again the large number of outliers in the dataset. The same observation for gasoline engines is observed for diesel, the second most common fuel type. The other fuel types make up only a small percentage of total fuel types but they follow similar patterns as gasoline and diesel engines.  "
   ]
  },
  {
   "cell_type": "markdown",
   "metadata": {},
   "source": [
    "### Kilometers"
   ]
  },
  {
   "cell_type": "markdown",
   "metadata": {},
   "source": [
    "The feature kilometers represents the number of kilometers that car being sold has driven. As mentioned above when we were trying to identify outliers the listings do not provide an exact number. The numbers are rounded to the nearest 10,000 between 0 - 100,000 kilometers and then increase by 25,000 and max out at 150,000. This is not ideal because we would prefer and exact distance driven to make more accurate predictions. The feature kilometers will likely be one of the features with a strong linear relationship to price. Intuitively a person thinks that kilometers represents how much longer the car may run before it is not a viable for transportation purposes. "
   ]
  },
  {
   "cell_type": "code",
   "execution_count": null,
   "metadata": {},
   "outputs": [],
   "source": [
    "pvt = df.pivot_table(index = 'kilometer',\n",
    "                          values = 'price', aggfunc = np.mean)"
   ]
  },
  {
   "cell_type": "code",
   "execution_count": null,
   "metadata": {},
   "outputs": [],
   "source": [
    "plt.figure(figsize =(20, 18))\n",
    "pvt.plot(kind = 'bar', color = 'blue')\n",
    "plt.xlabel('Kilometers Driven')\n",
    "plt.ylabel('Mean Price')\n",
    "plt.xticks(rotation = 90)\n",
    "plt.xticks(rotation=90)\n",
    "plt.title('Mean Price vs. Kilometers Driven', size = 20);"
   ]
  },
  {
   "cell_type": "code",
   "execution_count": 1226,
   "metadata": {},
   "outputs": [
    {
     "data": {
      "text/plain": [
       "Text(0.5, 1.0, 'Km vs Price')"
      ]
     },
     "execution_count": 1226,
     "metadata": {},
     "output_type": "execute_result"
    },
    {
     "data": {
      "image/png": "[encoded data removed]",
      "text/plain": [
       "<Figure size 720x432 with 1 Axes>"
      ]
     },
     "metadata": {},
     "output_type": "display_data"
    }
   ],
   "source": [
    "plt.figure(figsize=(10,6))\n",
    "sns.barplot(x='kilometer', y='price', data=df).set_title('Km vs Price', size = 20)"
   ]
  },
  {
   "cell_type": "markdown",
   "metadata": {},
   "source": [
    "The above scatterplot shows that an increase in kilometers driven reduces the sale price of the car. This is no surprise as usually the first question a buyer has about a pre-owned vehicle is how many miles/kilometers it has been driven. This represents the wear on the automobile and usually a buyer can deduce how much more time on the road the car can be driven. "
   ]
  },
  {
   "cell_type": "code",
   "execution_count": 1227,
   "metadata": {},
   "outputs": [],
   "source": [
    "# cars with less than 400,000 kms\n",
    "#plt.figure(figsize=(8,6))\n",
    "#sns.scatterplot(x='kilometer', y='age', data=df, x_estimator = np.mean).set_title('Mean KM vs Vehicle Age', size = 20);"
   ]
  },
  {
   "cell_type": "markdown",
   "metadata": {},
   "source": [
    "We observe a trend between age and kilometers. This is to be expected as the majority of the cars for sale are old cars that most likely have been driven a considerable amount. Initially we believed there would be a correlation between older cars and kilometers driven which the above graph shows. \n",
    "\n",
    "A main assumption of multiple linear regression is the variables are independent from one another. The above graph shows that this is not the case as we observe a linear relationship between kilometers driven and age. This is unavoidable as these two variables are intrinscly related, as the older the car is the more likely it is to be driven more, thus adding more kilometers on the odometer. "
   ]
  },
  {
   "cell_type": "markdown",
   "metadata": {},
   "source": [
    "### Transmission Type"
   ]
  },
  {
   "cell_type": "code",
   "execution_count": 1228,
   "metadata": {},
   "outputs": [
    {
     "data": {
      "image/png": "[encoded data removed]",
      "text/plain": [
       "<Figure size 432x288 with 1 Axes>"
      ]
     },
     "metadata": {},
     "output_type": "display_data"
    }
   ],
   "source": [
    "df['gear box'].value_counts().plot(kind = 'bar')\n",
    "plt.title('Manual & Automatic Transmissions', size = 16)\n",
    "plt.xlabel('Transmission Type')\n",
    "plt.xticks(rotation = 0)\n",
    "plt.ylabel('Frequency');"
   ]
  },
  {
   "cell_type": "markdown",
   "metadata": {},
   "source": [
    "Manual cars are about $1,000 cheaper than automatics on average, as of 2019. In addition, older manuals have a greater fuel economy than automatics of a similar age. That's not just because manual cars lack fuel-draining torque converters. It's also because manual cars have lighter transmissions. Manual transmissions are much popular in Europe which is were this data is derived from. "
   ]
  },
  {
   "cell_type": "code",
   "execution_count": 1229,
   "metadata": {},
   "outputs": [],
   "source": [
    "gb_pvt = df.pivot_table(index = 'gear box',\n",
    "                          values = 'price', aggfunc = np.mean)"
   ]
  },
  {
   "cell_type": "code",
   "execution_count": 1230,
   "metadata": {},
   "outputs": [],
   "source": [
    "new_labels_ = ['Automatic', 'Manual']"
   ]
  },
  {
   "cell_type": "markdown",
   "metadata": {},
   "source": [
    "Above we created new labels for the bargraph with the appropriate english translations"
   ]
  },
  {
   "cell_type": "code",
   "execution_count": 1231,
   "metadata": {},
   "outputs": [],
   "source": [
    "gb_pvt.index = new_labels_"
   ]
  },
  {
   "cell_type": "code",
   "execution_count": 1232,
   "metadata": {},
   "outputs": [
    {
     "data": {
      "text/plain": [
       "<Figure size 1152x648 with 0 Axes>"
      ]
     },
     "metadata": {},
     "output_type": "display_data"
    },
    {
     "data": {
      "image/png": "[encoded data removed]",
      "text/plain": [
       "<Figure size 432x288 with 1 Axes>"
      ]
     },
     "metadata": {},
     "output_type": "display_data"
    }
   ],
   "source": [
    "plt.figure(figsize =(16, 9))\n",
    "gb_pvt.plot(kind = 'bar', color = 'blue')\n",
    "plt.xlabel('Transmission Type')\n",
    "plt.ylabel('Mean Price')\n",
    "plt.xticks(rotation = 0)\n",
    "plt.title('Mean Price of Transmission Types', size = 20);"
   ]
  },
  {
   "cell_type": "markdown",
   "metadata": {},
   "source": [
    "Mean prices of automitic cars is about 5,000 euro more than manual cars. However, automatic cars are much rarer in our dataset. Outside research shows on average manual cars are approximately 1,000 euro less than manual cars. This does not apply in our data as there is a considerable difference in price for this feature. The automatic transmissions are much less common and more expensive in our data. This may be due to buyers who have more money to spend on a car and want certain specifications like an automatic transmission. "
   ]
  },
  {
   "cell_type": "markdown",
   "metadata": {},
   "source": [
    "### Damage To Vehicle"
   ]
  },
  {
   "cell_type": "markdown",
   "metadata": {},
   "source": [
    "unrepaired damage means there is damage to the vehicle that has not been repaired. This feature will likely negatively affect the price of a car. We want to assess how often damaged cars and whether they have been repaired or not occur in the dataset. \n",
    "\n",
    "This can be an important factor when considering its affect on price but we do not know the extent of repairs or damage when looking at this feature. Ideally we would be able to gather more information on the extent of damange an group damage into categories, like minor damage, medium damage, or severe damage. "
   ]
  },
  {
   "cell_type": "code",
   "execution_count": 1042,
   "metadata": {},
   "outputs": [
    {
     "data": {
      "image/png": "[encoded data removed]",
      "text/plain": [
       "<Figure size 432x288 with 1 Axes>"
      ]
     },
     "metadata": {},
     "output_type": "display_data"
    }
   ],
   "source": [
    "df['unrepaired damage'].value_counts().plot(kind = 'bar')\n",
    "plt.title('Unrepaired Damage to Vehicle', size = 20)\n",
    "plt.xlabel('Unrepaired Damage')\n",
    "plt.xticks(rotation = 0)\n",
    "plt.ylabel('Frequency');"
   ]
  },
  {
   "cell_type": "markdown",
   "metadata": {},
   "source": [
    "__English Translations__ \n",
    "\n",
    "nein - no\n",
    "\n",
    "ja - yes\n",
    "\n",
    "\n",
    " A small number of vehicles in our data set have unrepaired damange, which will likely have a negative impact on the price of a car. Damage could range from a minor dent to severe damage to the body of a car. Without having specifics it will be difficult to understand the true impact this feature will have on price.  "
   ]
  },
  {
   "cell_type": "markdown",
   "metadata": {},
   "source": [
    "### EDA summary "
   ]
  },
  {
   "cell_type": "markdown",
   "metadata": {},
   "source": [
    "After analyzing the features we believe will have the greatest correlation to price we can say with some confidence that we will be able to answer the problem in question, which is to accurately predict the resale prices of used cars. There is some concern about the number of outliers in our dataset but because so much of the data is clustered on the lower end of the price range we may be able to avoid any issues with outliers. Scaling back on max price may be done to eliminate outliers so we can focus on a smaller range in price. Outside research shows that the average consumer would not be looking for a used car priced above €20,000 because at this threshold most people would look toward a new car. "
   ]
  },
  {
   "cell_type": "code",
   "execution_count": null,
   "metadata": {},
   "outputs": [],
   "source": [
    "df.describe()"
   ]
  },
  {
   "cell_type": "code",
   "execution_count": null,
   "metadata": {},
   "outputs": [],
   "source": [
    "sns.heatmap(df.corr(), cmap = 'Blues', annot = True).set_title('Correlation Matrix');"
   ]
  },
  {
   "cell_type": "markdown",
   "metadata": {},
   "source": [
    "The heatmap above gives us an idea heading into the modeling phase of our project of what features have the strongest linear relationship with price as well as with other features. We don't observe many strong correlations above besides kilometer and price. This is a cause for concern because without strong correlated features the models may have a difficult time making accurate predictions. "
   ]
  },
  {
   "cell_type": "markdown",
   "metadata": {},
   "source": [
    "### Revisting Max Price"
   ]
  },
  {
   "cell_type": "markdown",
   "metadata": {},
   "source": [
    "After running models with a max price of 150,000 we observed RMSE scores above our baseline score. We believed the outliers in the data were having a sizeable affect on our models performance. We keep reducing the price until we were able to see RMSE scores drop below the baseline score.Price max reduced to 20,000 euro as model scores were performing poorly, returning results worse than our baseline model. 70%+ of our data was within this range so there is still a sufficient amount of data for prediction. "
   ]
  },
  {
   "cell_type": "code",
   "execution_count": 1233,
   "metadata": {},
   "outputs": [],
   "source": [
    "df = df[df['price'] <= 20_000]"
   ]
  },
  {
   "cell_type": "code",
   "execution_count": 1234,
   "metadata": {},
   "outputs": [
    {
     "name": "stdout",
     "output_type": "stream",
     "text": [
      "Mean Price of Cars: 4901.359352097579\n",
      "Median Price of Cars: 3200.0\n",
      "Max Car Price: 20000\n",
      "Min Car Price: 500\n"
     ]
    }
   ],
   "source": [
    "print(f'Mean Price of Cars: {df.price.mean()}')\n",
    "print(f'Median Price of Cars: {df.price.median()}')\n",
    "print(f'Max Car Price: {df.price.max()}') \n",
    "print(f'Min Car Price: {df.price.min()}')"
   ]
  },
  {
   "cell_type": "code",
   "execution_count": 1235,
   "metadata": {},
   "outputs": [
    {
     "data": {
      "text/plain": [
       "(309738, 20)"
      ]
     },
     "execution_count": 1235,
     "metadata": {},
     "output_type": "execute_result"
    }
   ],
   "source": [
    "df.shape"
   ]
  },
  {
   "cell_type": "markdown",
   "metadata": {},
   "source": [
    "## Preprocessing"
   ]
  },
  {
   "cell_type": "code",
   "execution_count": 646,
   "metadata": {},
   "outputs": [],
   "source": [
    "#df.to_csv('./data/car_data.csv', index = False)"
   ]
  },
  {
   "cell_type": "code",
   "execution_count": 1053,
   "metadata": {},
   "outputs": [
    {
     "data": {
      "text/html": [
       "<div>\n",
       "<style scoped>\n",
       "    .dataframe tbody tr th:only-of-type {\n",
       "        vertical-align: middle;\n",
       "    }\n",
       "\n",
       "    .dataframe tbody tr th {\n",
       "        vertical-align: top;\n",
       "    }\n",
       "\n",
       "    .dataframe thead th {\n",
       "        text-align: right;\n",
       "    }\n",
       "</style>\n",
       "<table border=\"1\" class=\"dataframe\">\n",
       "  <thead>\n",
       "    <tr style=\"text-align: right;\">\n",
       "      <th></th>\n",
       "      <th>date crawled</th>\n",
       "      <th>name</th>\n",
       "      <th>seller</th>\n",
       "      <th>offer type</th>\n",
       "      <th>price</th>\n",
       "      <th>AB test</th>\n",
       "      <th>vehicle type</th>\n",
       "      <th>gear box</th>\n",
       "      <th>model</th>\n",
       "      <th>kilometer</th>\n",
       "      <th>month of registration</th>\n",
       "      <th>fuel type</th>\n",
       "      <th>brand</th>\n",
       "      <th>unrepaired damage</th>\n",
       "      <th>date created</th>\n",
       "      <th>postal code</th>\n",
       "      <th>last seen</th>\n",
       "      <th>ad duration</th>\n",
       "      <th>age</th>\n",
       "      <th>kw power</th>\n",
       "    </tr>\n",
       "  </thead>\n",
       "  <tbody>\n",
       "    <tr>\n",
       "      <th>1</th>\n",
       "      <td>2016-03-24 10:58:45</td>\n",
       "      <td>A5_Sportback_2.7_Tdi</td>\n",
       "      <td>privat</td>\n",
       "      <td>Angebot</td>\n",
       "      <td>18300</td>\n",
       "      <td>test</td>\n",
       "      <td>coupe</td>\n",
       "      <td>manuell</td>\n",
       "      <td>a4</td>\n",
       "      <td>125000</td>\n",
       "      <td>5</td>\n",
       "      <td>diesel</td>\n",
       "      <td>audi</td>\n",
       "      <td>ja</td>\n",
       "      <td>2016-03-24</td>\n",
       "      <td>66954</td>\n",
       "      <td>2016-04-07 01:46:50</td>\n",
       "      <td>14</td>\n",
       "      <td>6</td>\n",
       "      <td>139.745</td>\n",
       "    </tr>\n",
       "  </tbody>\n",
       "</table>\n",
       "</div>"
      ],
      "text/plain": [
       "         date crawled                  name  seller offer type  price AB test  \\\n",
       "1 2016-03-24 10:58:45  A5_Sportback_2.7_Tdi  privat    Angebot  18300    test   \n",
       "\n",
       "  vehicle type gear box model  kilometer  month of registration fuel type  \\\n",
       "1        coupe  manuell    a4     125000                      5    diesel   \n",
       "\n",
       "  brand unrepaired damage date created  postal code           last seen  \\\n",
       "1  audi                ja   2016-03-24        66954 2016-04-07 01:46:50   \n",
       "\n",
       "   ad duration  age  kw power  \n",
       "1           14    6   139.745  "
      ]
     },
     "execution_count": 1053,
     "metadata": {},
     "output_type": "execute_result"
    }
   ],
   "source": [
    "df.head(1)"
   ]
  },
  {
   "cell_type": "code",
   "execution_count": 1237,
   "metadata": {},
   "outputs": [],
   "source": [
    "df = pd.get_dummies(data = df, columns=['vehicle type',\n",
    "                                       'gear box',\n",
    "                                       'fuel type',\n",
    "                                       'brand',\n",
    "                                       'unrepaired damage',\n",
    "                                        #'model'\n",
    "                                       ], drop_first = True )"
   ]
  },
  {
   "cell_type": "code",
   "execution_count": 1273,
   "metadata": {},
   "outputs": [
    {
     "data": {
      "text/plain": [
       "(309738, 68)"
      ]
     },
     "execution_count": 1273,
     "metadata": {},
     "output_type": "execute_result"
    }
   ],
   "source": [
    "df.shape"
   ]
  },
  {
   "cell_type": "code",
   "execution_count": 1249,
   "metadata": {},
   "outputs": [],
   "source": [
    "X = df.drop(columns = ['date crawled', 'name', 'seller','AB test', 'offer type', 'price','last seen',\n",
    "                       'date created', 'ad duration', 'postal code', 'model'], axis = 1)\n",
    "y = df['price']"
   ]
  },
  {
   "cell_type": "code",
   "execution_count": 1250,
   "metadata": {},
   "outputs": [
    {
     "data": {
      "text/html": [
       "<div>\n",
       "<style scoped>\n",
       "    .dataframe tbody tr th:only-of-type {\n",
       "        vertical-align: middle;\n",
       "    }\n",
       "\n",
       "    .dataframe tbody tr th {\n",
       "        vertical-align: top;\n",
       "    }\n",
       "\n",
       "    .dataframe thead th {\n",
       "        text-align: right;\n",
       "    }\n",
       "</style>\n",
       "<table border=\"1\" class=\"dataframe\">\n",
       "  <thead>\n",
       "    <tr style=\"text-align: right;\">\n",
       "      <th></th>\n",
       "      <th>date crawled</th>\n",
       "      <th>name</th>\n",
       "      <th>seller</th>\n",
       "      <th>offer type</th>\n",
       "      <th>price</th>\n",
       "      <th>AB test</th>\n",
       "      <th>model</th>\n",
       "      <th>kilometer</th>\n",
       "      <th>month of registration</th>\n",
       "      <th>date created</th>\n",
       "      <th>...</th>\n",
       "      <th>brand_skoda</th>\n",
       "      <th>brand_smart</th>\n",
       "      <th>brand_sonstige_autos</th>\n",
       "      <th>brand_subaru</th>\n",
       "      <th>brand_suzuki</th>\n",
       "      <th>brand_toyota</th>\n",
       "      <th>brand_trabant</th>\n",
       "      <th>brand_volkswagen</th>\n",
       "      <th>brand_volvo</th>\n",
       "      <th>unrepaired damage_nein</th>\n",
       "    </tr>\n",
       "  </thead>\n",
       "  <tbody>\n",
       "    <tr>\n",
       "      <th>1</th>\n",
       "      <td>2016-03-24 10:58:45</td>\n",
       "      <td>A5_Sportback_2.7_Tdi</td>\n",
       "      <td>privat</td>\n",
       "      <td>Angebot</td>\n",
       "      <td>18300</td>\n",
       "      <td>test</td>\n",
       "      <td>a4</td>\n",
       "      <td>125000</td>\n",
       "      <td>5</td>\n",
       "      <td>2016-03-24</td>\n",
       "      <td>...</td>\n",
       "      <td>0</td>\n",
       "      <td>0</td>\n",
       "      <td>0</td>\n",
       "      <td>0</td>\n",
       "      <td>0</td>\n",
       "      <td>0</td>\n",
       "      <td>0</td>\n",
       "      <td>0</td>\n",
       "      <td>0</td>\n",
       "      <td>0</td>\n",
       "    </tr>\n",
       "  </tbody>\n",
       "</table>\n",
       "<p>1 rows × 68 columns</p>\n",
       "</div>"
      ],
      "text/plain": [
       "         date crawled                  name  seller offer type  price AB test  \\\n",
       "1 2016-03-24 10:58:45  A5_Sportback_2.7_Tdi  privat    Angebot  18300    test   \n",
       "\n",
       "  model  kilometer  month of registration date created  ...  brand_skoda  \\\n",
       "1    a4     125000                      5   2016-03-24  ...            0   \n",
       "\n",
       "  brand_smart  brand_sonstige_autos  brand_subaru  brand_suzuki  brand_toyota  \\\n",
       "1           0                     0             0             0             0   \n",
       "\n",
       "   brand_trabant  brand_volkswagen  brand_volvo  unrepaired damage_nein  \n",
       "1              0                 0            0                       0  \n",
       "\n",
       "[1 rows x 68 columns]"
      ]
     },
     "execution_count": 1250,
     "metadata": {},
     "output_type": "execute_result"
    }
   ],
   "source": [
    "df.head(1)"
   ]
  },
  {
   "cell_type": "markdown",
   "metadata": {},
   "source": [
    "## Train Test Split"
   ]
  },
  {
   "cell_type": "code",
   "execution_count": 1251,
   "metadata": {},
   "outputs": [],
   "source": [
    "X_train, X_test, y_train, y_test = train_test_split(X,\n",
    "                                                  y, random_state = 42)"
   ]
  },
  {
   "cell_type": "markdown",
   "metadata": {},
   "source": [
    "We perfom a train/test split on the dataset. We split our data into two pieces:\n",
    "\n",
    "\"A Training Set\": The subset of the data on which we fit our model.\n",
    "\n",
    "\"A Testing Set\": The subset of the data on which we evaluate the quality of our predictions."
   ]
  },
  {
   "cell_type": "code",
   "execution_count": 1252,
   "metadata": {},
   "outputs": [],
   "source": [
    "# Code adapted from DSI-11 Local FAQ, https://git.generalassemb.ly/DSI-US-11/local_faq/blob/master/code/custom_cross_val_score.ipynb\n",
    "\n",
    "def rmse(y_true, y_pred): \n",
    "    '''Returns the root mean squared error'''\n",
    "    return np.sqrt(mean_squared_error(y_true, y_pred))"
   ]
  },
  {
   "cell_type": "markdown",
   "metadata": {},
   "source": [
    "## Baseline Model"
   ]
  },
  {
   "cell_type": "code",
   "execution_count": 1402,
   "metadata": {},
   "outputs": [],
   "source": [
    "baseline = DummyRegressor(strategy = 'mean')\n",
    "baseline.fit(X_train, y_train)\n",
    "baseline_preds_train = baseline.predict(X_train)\n",
    "baseline_preds_test = baseline.predict(X_test)"
   ]
  },
  {
   "cell_type": "code",
   "execution_count": 1403,
   "metadata": {},
   "outputs": [
    {
     "name": "stdout",
     "output_type": "stream",
     "text": [
      "Training RMSE: 4522.340583950257\n",
      "Testing RMSE: 4491.613148683399\n",
      "Cross Validation Score: 4514.667324642114\n"
     ]
    }
   ],
   "source": [
    "print('Training RMSE:',rmse(y_train, baseline_preds_train))\n",
    "print('Testing RMSE:',rmse(y_test, baseline_preds_test))\n",
    "print(f'Cross Validation Score:', cross_val_score(baseline, X, y, scoring=make_scorer(rmse), cv=5).mean())"
   ]
  },
  {
   "cell_type": "markdown",
   "metadata": {},
   "source": [
    "A baseline model has been created using the mean sale prices of our target variable price. This model provides a useful point of comparison for all future models used. Once we start getting results from other models our baseline can tell us if a change is adding value or if we need to include different features. If the model achieves a a score that is above the baseline prediction we will know something is wrong and that this model may not be appropriate for our problem. The baseline model is a critical component of our modeling process. We will be using the metric RMSE to score our models performance. The RMSE of our baseline model is €4,491.61(testin. This "
   ]
  },
  {
   "cell_type": "code",
   "execution_count": null,
   "metadata": {},
   "outputs": [],
   "source": [
    "print('Training Root Mean Squared Error:',(np.sqrt(mean_squared_error(y_train, y_train_preds))))\n",
    "print('Testing Root Mean Squared Error:',(np.sqrt(mean_squared_error(y_test, y_test_preds))))\n",
    "print(f'Cross Validation Score:',cross_val_score(model, X_train, y_train, cv=5).mean())"
   ]
  },
  {
   "cell_type": "markdown",
   "metadata": {},
   "source": [
    "## Linear Regression"
   ]
  },
  {
   "cell_type": "code",
   "execution_count": 1391,
   "metadata": {},
   "outputs": [],
   "source": [
    "model = LinearRegression()"
   ]
  },
  {
   "cell_type": "code",
   "execution_count": 1392,
   "metadata": {},
   "outputs": [
    {
     "data": {
      "text/plain": [
       "LinearRegression(copy_X=True, fit_intercept=True, n_jobs=None, normalize=False)"
      ]
     },
     "execution_count": 1392,
     "metadata": {},
     "output_type": "execute_result"
    }
   ],
   "source": [
    "model.fit(X_train, y_train)"
   ]
  },
  {
   "cell_type": "code",
   "execution_count": 1393,
   "metadata": {},
   "outputs": [],
   "source": [
    "y_train_preds = model.predict(X_train)\n",
    "y_test_preds = model.predict(X_test)"
   ]
  },
  {
   "cell_type": "code",
   "execution_count": 1395,
   "metadata": {},
   "outputs": [
    {
     "name": "stdout",
     "output_type": "stream",
     "text": [
      "Training RMSE: 2983.801463621965\n",
      "Testing RMSE: 2954.702751072221\n",
      "Cross Validation Score: 2977.574367447824\n"
     ]
    }
   ],
   "source": [
    "print(f'Training RMSE:', rmse(y_train, y_train_preds))\n",
    "print(f'Testing RMSE:', rmse(y_test, y_test_preds))\n",
    "print(f'Cross Validation Score:',cross_val_score(model, X, y, cv = 5, scoring = make_scorer(rmse)).mean())"
   ]
  },
  {
   "cell_type": "markdown",
   "metadata": {},
   "source": [
    "The Multiple Linear Regression Model perfoms better than the baseline model which had an RMSE score of 4501.07. However, the scores of this model are poor. The RMSE score is 2638.03 on the training data. With the average price of a car being 4,878.12 this is a considerable amount to be off by. The model seems to suffer from high bias, it is failing to capture the underlying trend in the data. A positive aspect of these scores is is shows that this model is not overfit. An overfit model performs well on the data it is trained on but generalize poorly to any new data. The testing and training scores are very close which means that we have a low amount of variance in our model.  This is the first model we will be using and hopefully the scores will improve from here. "
   ]
  },
  {
   "cell_type": "markdown",
   "metadata": {},
   "source": [
    "## Ridge"
   ]
  },
  {
   "cell_type": "code",
   "execution_count": 1278,
   "metadata": {},
   "outputs": [],
   "source": [
    "#create variable for Sklearn StandardScaler to be used in Ridge and Lasso Models \n",
    "ss = StandardScaler()\n",
    "\n",
    "ss.fit(X_train)\n",
    "\n",
    "X_train_sc = ss.transform(X_train)\n",
    "\n",
    "X_test_sc = ss.transform(X_test)"
   ]
  },
  {
   "cell_type": "code",
   "execution_count": 1380,
   "metadata": {},
   "outputs": [],
   "source": [
    "r_alphas = np.logspace(1,5,100)"
   ]
  },
  {
   "cell_type": "code",
   "execution_count": 1383,
   "metadata": {},
   "outputs": [],
   "source": [
    "ridge = RidgeCV(alphas = r_alphas, cv = 5)"
   ]
  },
  {
   "cell_type": "code",
   "execution_count": 1385,
   "metadata": {},
   "outputs": [
    {
     "data": {
      "text/plain": [
       "RidgeCV(alphas=array([1.00000000e+00, 1.12332403e+00, 1.26185688e+00, 1.41747416e+00,\n",
       "       1.59228279e+00, 1.78864953e+00, 2.00923300e+00, 2.25701972e+00,\n",
       "       2.53536449e+00, 2.84803587e+00, 3.19926714e+00, 3.59381366e+00,\n",
       "       4.03701726e+00, 4.53487851e+00, 5.09413801e+00, 5.72236766e+00,\n",
       "       6.42807312e+00, 7.22080902e+00, 8.11130831e+00, 9.11162756e+00,\n",
       "       1.02353102e+01, 1.14975700e+0...\n",
       "       1.09749877e+04, 1.23284674e+04, 1.38488637e+04, 1.55567614e+04,\n",
       "       1.74752840e+04, 1.96304065e+04, 2.20513074e+04, 2.47707636e+04,\n",
       "       2.78255940e+04, 3.12571585e+04, 3.51119173e+04, 3.94420606e+04,\n",
       "       4.43062146e+04, 4.97702356e+04, 5.59081018e+04, 6.28029144e+04,\n",
       "       7.05480231e+04, 7.92482898e+04, 8.90215085e+04, 1.00000000e+05]),\n",
       "        cv=5, fit_intercept=True, gcv_mode=None, normalize=False, scoring=None,\n",
       "        store_cv_values=False)"
      ]
     },
     "execution_count": 1385,
     "metadata": {},
     "output_type": "execute_result"
    }
   ],
   "source": [
    "ridge.fit(X_train_sc, y_train)"
   ]
  },
  {
   "cell_type": "code",
   "execution_count": 1387,
   "metadata": {},
   "outputs": [
    {
     "data": {
      "text/plain": [
       "148.4968262254465"
      ]
     },
     "execution_count": 1387,
     "metadata": {},
     "output_type": "execute_result"
    }
   ],
   "source": [
    "#Optomal value of alpha\n",
    "ridge.alpha_"
   ]
  },
  {
   "cell_type": "code",
   "execution_count": 1388,
   "metadata": {},
   "outputs": [],
   "source": [
    "y_train_ridge = ridge.predict(X_train_sc)\n",
    "y_test_ridge = ridge.predict(X_test_sc)"
   ]
  },
  {
   "cell_type": "code",
   "execution_count": 1389,
   "metadata": {},
   "outputs": [
    {
     "name": "stdout",
     "output_type": "stream",
     "text": [
      "Training RMSE: 2983.805367830393\n",
      "Testing RMSE: 2954.7040901159853\n",
      "Cross Validation Score: 2977.5724415780523\n"
     ]
    }
   ],
   "source": [
    "print(f'Training RMSE:', rmse(y_train, y_train_ridge))\n",
    "print(f'Testing RMSE:', rmse(y_test, y_test_ridge))\n",
    "print(f'Cross Validation Score:',cross_val_score(ridge_gs, X, y, cv = 5, scoring = make_scorer(rmse)).mean())"
   ]
  },
  {
   "cell_type": "markdown",
   "metadata": {},
   "source": [
    "Ridge Regression is A variation of linear regression with L2 regularization. Regularization adds penalty for higher terms in the model and thus controls the model complexity. If a regularization term is added, the model tries to minimize both loss and complexity of model. Limiting the complexity prevents the model from overfitting. Ridge model shrinks our regression coefficients clsoer to zero to make our model simpler. We are accepting more bias in exchange for a decrease in variance. We observe a slightly lower training score in comparison to our Linear Regression model but a higher testing score. This is surprising as we would expect to see an improvement in the fitness of our model. We can infer from the scores so far that the model is having a difficulty making accurate predictions on the target variable price. There may be too many features that are not linearly realted which are adding noise to the model making it difficult to learn. "
   ]
  },
  {
   "cell_type": "markdown",
   "metadata": {},
   "source": [
    "## Lasso"
   ]
  },
  {
   "cell_type": "code",
   "execution_count": 1362,
   "metadata": {},
   "outputs": [],
   "source": [
    "#create list of alphas \n",
    "l_alphas = np.logspace(1, 3, 50)"
   ]
  },
  {
   "cell_type": "code",
   "execution_count": 1368,
   "metadata": {},
   "outputs": [],
   "source": [
    "#Cross-validate over our list of lasso alpahs\n",
    "lasso = LassoCV(max_iter = 50_000, alphas = l_alphas, cv = 5, )"
   ]
  },
  {
   "cell_type": "code",
   "execution_count": 1369,
   "metadata": {},
   "outputs": [
    {
     "data": {
      "text/plain": [
       "LassoCV(alphas=array([  10.        ,   10.98541142,   12.06792641,   13.25711366,\n",
       "         14.56348478,   15.9985872 ,   17.57510625,   19.30697729,\n",
       "         21.20950888,   23.29951811,   25.59547923,   28.11768698,\n",
       "         30.88843596,   33.93221772,   37.2759372 ,   40.94915062,\n",
       "         44.98432669,   49.41713361,   54.28675439,   59.63623317,\n",
       "         65.51285569,   71.9685673 ,   79.06043211,   86.85113738,\n",
       "         95.40954763,  104.81131342,  115.13953993,  126.48552169,...\n",
       "        294.70517026,  323.74575428,  355.64803062,  390.69399371,\n",
       "        429.19342601,  471.48663635,  517.94746792,  568.9866029 ,\n",
       "        625.05519253,  686.648845  ,  754.31200634,  828.64277285,\n",
       "        910.29817799, 1000.        ]),\n",
       "        copy_X=True, cv=5, eps=0.001, fit_intercept=True, max_iter=50000,\n",
       "        n_alphas=100, n_jobs=None, normalize=False, positive=False,\n",
       "        precompute='auto', random_state=None, selection='cyclic', tol=0.0001,\n",
       "        verbose=False)"
      ]
     },
     "execution_count": 1369,
     "metadata": {},
     "output_type": "execute_result"
    }
   ],
   "source": [
    "# Fit lasso model with best ridge alpha\n",
    "lasso.fit(X_train_sc, y_train)"
   ]
  },
  {
   "cell_type": "code",
   "execution_count": 1390,
   "metadata": {},
   "outputs": [
    {
     "data": {
      "text/plain": [
       "10.0"
      ]
     },
     "execution_count": 1390,
     "metadata": {},
     "output_type": "execute_result"
    }
   ],
   "source": [
    "# Optimal value of alpha\n",
    "lasso.alpha_"
   ]
  },
  {
   "cell_type": "code",
   "execution_count": 1372,
   "metadata": {},
   "outputs": [],
   "source": [
    "y_train_lasso = lasso.predict(X_train_sc)\n",
    "y_test_lasso = lasso.predict(X_test_sc)"
   ]
  },
  {
   "cell_type": "code",
   "execution_count": 1373,
   "metadata": {},
   "outputs": [
    {
     "name": "stdout",
     "output_type": "stream",
     "text": [
      "Training RMSE: 2984.78204745922\n",
      "Testing RMSE: 2955.526653126418\n",
      "Cross Validation Score: 3012.5778657112824\n"
     ]
    }
   ],
   "source": [
    "print(f'Training RMSE:', rmse(y_train, y_train_lasso))\n",
    "print(f'Testing RMSE:', rmse(y_test, y_test_lasso))\n",
    "print(f'Cross Validation Score:',cross_val_score(lasso, X, y, cv = 5, scoring = make_scorer(rmse)).mean())"
   ]
  },
  {
   "cell_type": "markdown",
   "metadata": {},
   "source": [
    "Lasso is a regression analysis method that performs both variable selection and regularization in order to enhance the prediction accuracy and interpretability of the model. It uses shrinkage wherw data values are shrunk towards a central point, like the mean. We observe almost identical scores as the ridge regression model. The lasso model does not perform well with so many features in our model. If we were to reduce these features after assessing the strongest coefficeints the model may perform better. "
   ]
  },
  {
   "cell_type": "markdown",
   "metadata": {},
   "source": [
    "## Decision Tree"
   ]
  },
  {
   "cell_type": "code",
   "execution_count": 1312,
   "metadata": {},
   "outputs": [],
   "source": [
    "dtr = DecisionTreeRegressor()\n",
    "\n",
    "# create paramters\n",
    "dtr_params = {\n",
    "    'max_depth': [15, 20],\n",
    "    'max_features': [10, 15],\n",
    "    'min_samples_leaf': [5, 6],\n",
    "    'min_samples_split': [10],\n",
    "}\n",
    "\n",
    "\n",
    " # Grid Search over parameters \n",
    "gs = GridSearchCV(dtr, param_grid=dtr_params, cv = 5, scoring = make_scorer(rmse))\n"
   ]
  },
  {
   "cell_type": "code",
   "execution_count": 1313,
   "metadata": {},
   "outputs": [],
   "source": [
    "d_tree = gs.fit(X_train, y_train)"
   ]
  },
  {
   "cell_type": "code",
   "execution_count": 1314,
   "metadata": {},
   "outputs": [
    {
     "data": {
      "text/plain": [
       "{'max_depth': 15,\n",
       " 'max_features': 10,\n",
       " 'min_samples_leaf': 6,\n",
       " 'min_samples_split': 10}"
      ]
     },
     "execution_count": 1314,
     "metadata": {},
     "output_type": "execute_result"
    }
   ],
   "source": [
    "d_tree.best_params_"
   ]
  },
  {
   "cell_type": "code",
   "execution_count": null,
   "metadata": {},
   "outputs": [],
   "source": [
    "dtr.best_params_"
   ]
  },
  {
   "cell_type": "code",
   "execution_count": 1316,
   "metadata": {},
   "outputs": [],
   "source": [
    "dtree_train_preds = d_tree.predict(X_train)\n",
    "dtree_test_preds = d_tree.predict(X_test)"
   ]
  },
  {
   "cell_type": "code",
   "execution_count": 1317,
   "metadata": {},
   "outputs": [
    {
     "name": "stdout",
     "output_type": "stream",
     "text": [
      "Training RMSE: 2574.526316007193\n",
      "Testing RMSE: 2600.3928222625846\n",
      "Cross Validation Score: 2226.647716087623\n"
     ]
    }
   ],
   "source": [
    "print(f'Training RMSE:', rmse(y_train, dtree_train_preds))\n",
    "print(f'Testing RMSE:', rmse(y_test, dtree_test_preds))\n",
    "print(f'Cross Validation Score:',cross_val_score(gs.best_estimator_, X, y, cv = 5, scoring = make_scorer(rmse)).mean())"
   ]
  },
  {
   "cell_type": "markdown",
   "metadata": {},
   "source": [
    "The first of the tree based models will will use is the decision tree model. The decision tree builds regression models in the form of a tree structure. It breaks down the dataset into smaller and smaller subsets while at the same time an assocaited decision tree is incrementally developed. The final result is a tree with decision nodes and leaf nodes. The decision tree model perfomed better than all of the linear regression models, achieving a training score below RMSE 2,000 at 1909.74. The testing score was RMSE 2035.87 which tell us this model is somewhat overfit. We anticipate using a Random Forest model will reduce the variance and improve the RMSE scores."
   ]
  },
  {
   "cell_type": "markdown",
   "metadata": {},
   "source": [
    "## Bagging Regressor"
   ]
  },
  {
   "cell_type": "code",
   "execution_count": 1332,
   "metadata": {},
   "outputs": [],
   "source": [
    "br = BaggingRegressor\n",
    "\n",
    "# construct paramters\n",
    "br_params = {\n",
    "    'max_samples': [15, 20],\n",
    "    'max_features': [10, 15],\n",
    "    'n_estimators': [50,100]\n",
    "}\n",
    "\n",
    "\n",
    " # Perform Grid Search\n",
    "gs_br = GridSearchCV(br, param_grid=br_params, cv = 5, scoring = make_scorer(rmse))"
   ]
  },
  {
   "cell_type": "code",
   "execution_count": 1333,
   "metadata": {},
   "outputs": [
    {
     "ename": "TypeError",
     "evalue": "Cannot clone object '<class 'sklearn.ensemble._bagging.BaggingRegressor'>' (type <class 'abc.ABCMeta'>): it does not seem to be a scikit-learn estimator as it does not implement a 'get_params' methods.",
     "output_type": "error",
     "traceback": [
      "\u001b[0;31m---------------------------------------------------------------------------\u001b[0m",
      "\u001b[0;31mTypeError\u001b[0m                                 Traceback (most recent call last)",
      "\u001b[0;32m<ipython-input-1333-ef455ba76cad>\u001b[0m in \u001b[0;36m<module>\u001b[0;34m\u001b[0m\n\u001b[0;32m----> 1\u001b[0;31m \u001b[0mbag_reg\u001b[0m \u001b[0;34m=\u001b[0m \u001b[0mgs_br\u001b[0m\u001b[0;34m.\u001b[0m\u001b[0mfit\u001b[0m\u001b[0;34m(\u001b[0m\u001b[0mX_train\u001b[0m\u001b[0;34m,\u001b[0m \u001b[0my_train\u001b[0m\u001b[0;34m)\u001b[0m\u001b[0;34m\u001b[0m\u001b[0;34m\u001b[0m\u001b[0m\n\u001b[0m",
      "\u001b[0;32m/opt/anaconda3/lib/python3.7/site-packages/sklearn/model_selection/_search.py\u001b[0m in \u001b[0;36mfit\u001b[0;34m(self, X, y, groups, **fit_params)\u001b[0m\n\u001b[1;32m    653\u001b[0m         \u001b[0mn_splits\u001b[0m \u001b[0;34m=\u001b[0m \u001b[0mcv\u001b[0m\u001b[0;34m.\u001b[0m\u001b[0mget_n_splits\u001b[0m\u001b[0;34m(\u001b[0m\u001b[0mX\u001b[0m\u001b[0;34m,\u001b[0m \u001b[0my\u001b[0m\u001b[0;34m,\u001b[0m \u001b[0mgroups\u001b[0m\u001b[0;34m)\u001b[0m\u001b[0;34m\u001b[0m\u001b[0;34m\u001b[0m\u001b[0m\n\u001b[1;32m    654\u001b[0m \u001b[0;34m\u001b[0m\u001b[0m\n\u001b[0;32m--> 655\u001b[0;31m         \u001b[0mbase_estimator\u001b[0m \u001b[0;34m=\u001b[0m \u001b[0mclone\u001b[0m\u001b[0;34m(\u001b[0m\u001b[0mself\u001b[0m\u001b[0;34m.\u001b[0m\u001b[0mestimator\u001b[0m\u001b[0;34m)\u001b[0m\u001b[0;34m\u001b[0m\u001b[0;34m\u001b[0m\u001b[0m\n\u001b[0m\u001b[1;32m    656\u001b[0m \u001b[0;34m\u001b[0m\u001b[0m\n\u001b[1;32m    657\u001b[0m         parallel = Parallel(n_jobs=self.n_jobs, verbose=self.verbose,\n",
      "\u001b[0;32m/opt/anaconda3/lib/python3.7/site-packages/sklearn/base.py\u001b[0m in \u001b[0;36mclone\u001b[0;34m(estimator, safe)\u001b[0m\n\u001b[1;32m     65\u001b[0m                             \u001b[0;34m\"it does not seem to be a scikit-learn estimator \"\u001b[0m\u001b[0;34m\u001b[0m\u001b[0;34m\u001b[0m\u001b[0m\n\u001b[1;32m     66\u001b[0m                             \u001b[0;34m\"as it does not implement a 'get_params' methods.\"\u001b[0m\u001b[0;34m\u001b[0m\u001b[0;34m\u001b[0m\u001b[0m\n\u001b[0;32m---> 67\u001b[0;31m                             % (repr(estimator), type(estimator)))\n\u001b[0m\u001b[1;32m     68\u001b[0m     \u001b[0mklass\u001b[0m \u001b[0;34m=\u001b[0m \u001b[0mestimator\u001b[0m\u001b[0;34m.\u001b[0m\u001b[0m__class__\u001b[0m\u001b[0;34m\u001b[0m\u001b[0;34m\u001b[0m\u001b[0m\n\u001b[1;32m     69\u001b[0m     \u001b[0mnew_object_params\u001b[0m \u001b[0;34m=\u001b[0m \u001b[0mestimator\u001b[0m\u001b[0;34m.\u001b[0m\u001b[0mget_params\u001b[0m\u001b[0;34m(\u001b[0m\u001b[0mdeep\u001b[0m\u001b[0;34m=\u001b[0m\u001b[0;32mFalse\u001b[0m\u001b[0;34m)\u001b[0m\u001b[0;34m\u001b[0m\u001b[0;34m\u001b[0m\u001b[0m\n",
      "\u001b[0;31mTypeError\u001b[0m: Cannot clone object '<class 'sklearn.ensemble._bagging.BaggingRegressor'>' (type <class 'abc.ABCMeta'>): it does not seem to be a scikit-learn estimator as it does not implement a 'get_params' methods."
     ]
    }
   ],
   "source": [
    "bag_reg = gs_br.fit(X_train, y_train)"
   ]
  },
  {
   "cell_type": "markdown",
   "metadata": {},
   "source": []
  },
  {
   "cell_type": "markdown",
   "metadata": {},
   "source": [
    "A Bagging regressor is an ensemble meta-estimator that fits base regressors each on random subsets of the original dataset and then aggregate their individual predictions (either by voting or by averaging) to form a final prediction. Such a meta-estimator can typically be used as a way to reduce the variance of a black-box estimator (e.g., a decision tree), by introducing randomization into its construction procedure and then making an ensemble out of it."
   ]
  },
  {
   "cell_type": "markdown",
   "metadata": {},
   "source": [
    "## Random Forest"
   ]
  },
  {
   "cell_type": "code",
   "execution_count": 1323,
   "metadata": {},
   "outputs": [],
   "source": [
    "rfr = RandomForestRegressor()\n",
    "\n",
    "# construct paramters\n",
    "rfr_params = {\n",
    "    'max_depth': [15, 20],\n",
    "    'max_features': [10, 15],\n",
    "    'min_samples_leaf': [5, 6],\n",
    "    'min_samples_split': [10],\n",
    "    'n_estimators': [50, 100,]\n",
    "}\n",
    "\n",
    " # Perform Grid Search\n",
    "gs_rfr = GridSearchCV(rfr, param_grid=rfr_params, cv = 5, scoring = make_scorer(rmse))\n"
   ]
  },
  {
   "cell_type": "code",
   "execution_count": 1324,
   "metadata": {},
   "outputs": [],
   "source": [
    "rfr_ = gs_rfr.fit(X_train, y_train)"
   ]
  },
  {
   "cell_type": "code",
   "execution_count": 1326,
   "metadata": {},
   "outputs": [],
   "source": [
    "rfr_train_preds = rfr_.predict(X_train)\n",
    "rfr_test_preds = rfr_.predict(X_test)"
   ]
  },
  {
   "cell_type": "code",
   "execution_count": 1327,
   "metadata": {},
   "outputs": [
    {
     "name": "stdout",
     "output_type": "stream",
     "text": [
      "Training RMSE: 1811.3014971782886\n",
      "Testing RMSE: 1838.6925654580568\n",
      "Cross Validation Score: 1858.752504617337\n"
     ]
    }
   ],
   "source": [
    "print(f'Training RMSE:', rmse(y_train, rfr_train_preds))\n",
    "print(f'Testing RMSE:', rmse(y_test, rfr_test_preds))\n",
    "print(f'Cross Validation Score:',cross_val_score(rfr_, X, y, cv = 5, scoring = make_scorer(rmse)).mean())"
   ]
  },
  {
   "cell_type": "markdown",
   "metadata": {},
   "source": [
    "Random forest is an ensemble of randomized regression trees. Random Forests correct for decision trees' habit of overfitting to their training data. We took two approaches with the Random Forest model, first we ran the model without a grid search and then added a gridsearch in an attempt to identify the best hyperparameters. The Random Forest Regressor performed better without a gridsearch which is odd because the gridsearch should identify the best hyperparameters to include in a random forest regressor. The RMSE training score from the random forest regressor w/out a gridsearch was RMSE 1274.46 the testing score was RMSE 1710.21. This model has scored the best so far however it is clear by the difference in training and testing scores that the model suffers from high variance. It is overfit and which is indicative of poor model. The next step is to use an Extra Trees model to help reduce the high variance and hopefull improve the score. "
   ]
  },
  {
   "cell_type": "markdown",
   "metadata": {},
   "source": [
    "### Extra Trees"
   ]
  },
  {
   "cell_type": "markdown",
   "metadata": {},
   "source": [
    "*Gridsearch only contains pre-determined best parameters to efficiently run notebook in its entirety"
   ]
  },
  {
   "cell_type": "code",
   "execution_count": 1374,
   "metadata": {},
   "outputs": [],
   "source": [
    "etr = ExtraTreesRegressor()\n",
    "\n",
    "# construct paramters\n",
    "etr_params = {\n",
    "    'max_depth': [15],\n",
    "    'max_features': [10],\n",
    "    'min_samples_leaf': [5],\n",
    "    'min_samples_split': [10],\n",
    "    'n_estimators': [50]\n",
    "}\n",
    "\n",
    " # Perform Grid Search\n",
    "gs_efr = GridSearchCV(etr, param_grid=etr_params, cv = 5, scoring = make_scorer(rmse))"
   ]
  },
  {
   "cell_type": "code",
   "execution_count": 1375,
   "metadata": {},
   "outputs": [
    {
     "data": {
      "text/plain": [
       "GridSearchCV(cv=5, error_score=nan,\n",
       "             estimator=ExtraTreesRegressor(bootstrap=False, ccp_alpha=0.0,\n",
       "                                           criterion='mse', max_depth=None,\n",
       "                                           max_features='auto',\n",
       "                                           max_leaf_nodes=None,\n",
       "                                           max_samples=None,\n",
       "                                           min_impurity_decrease=0.0,\n",
       "                                           min_impurity_split=None,\n",
       "                                           min_samples_leaf=1,\n",
       "                                           min_samples_split=2,\n",
       "                                           min_weight_fraction_leaf=0.0,\n",
       "                                           n_estimators=100, n_jobs=None,\n",
       "                                           oob_score=False, random_state=None,\n",
       "                                           verbose=0, warm_start=False),\n",
       "             iid='deprecated', n_jobs=None,\n",
       "             param_grid={'max_depth': [15], 'max_features': [10],\n",
       "                         'min_samples_leaf': [5], 'min_samples_split': [10],\n",
       "                         'n_estimators': [50]},\n",
       "             pre_dispatch='2*n_jobs', refit=True, return_train_score=False,\n",
       "             scoring=make_scorer(rmse), verbose=0)"
      ]
     },
     "execution_count": 1375,
     "metadata": {},
     "output_type": "execute_result"
    }
   ],
   "source": [
    "gs_efr.fit(X_train, y_train)"
   ]
  },
  {
   "cell_type": "code",
   "execution_count": 1376,
   "metadata": {},
   "outputs": [
    {
     "data": {
      "text/plain": [
       "{'max_depth': 15,\n",
       " 'max_features': 10,\n",
       " 'min_samples_leaf': 5,\n",
       " 'min_samples_split': 10,\n",
       " 'n_estimators': 50}"
      ]
     },
     "execution_count": 1376,
     "metadata": {},
     "output_type": "execute_result"
    }
   ],
   "source": [
    "gs_efr.best_params_"
   ]
  },
  {
   "cell_type": "code",
   "execution_count": 1377,
   "metadata": {},
   "outputs": [],
   "source": [
    "y_train_pred_etr = gs_efr.predict(X_train)\n",
    "y_pred_etr = gs_efr.predict(X_test)"
   ]
  },
  {
   "cell_type": "code",
   "execution_count": 1379,
   "metadata": {},
   "outputs": [
    {
     "name": "stdout",
     "output_type": "stream",
     "text": [
      "Training RMSE: 2540.887676230132\n",
      "Testing RMSE: 2548.7640342671607\n",
      "Cross Validation Score: 2569.2925610541397\n"
     ]
    }
   ],
   "source": [
    "print(f'Training RMSE:', rmse(y_train, y_train_pred_etr))\n",
    "print(f'Testing RMSE:', rmse(y_test, y_pred_etr))\n",
    "print(f'Cross Validation Score:',cross_val_score(gs_efr, X, y, cv = 5, scoring = make_scorer(rmse)).mean())"
   ]
  },
  {
   "cell_type": "markdown",
   "metadata": {},
   "source": [
    "## Gradient Boost"
   ]
  },
  {
   "cell_type": "code",
   "execution_count": 1352,
   "metadata": {},
   "outputs": [],
   "source": [
    "gbr = GradientBoostingRegressor \n",
    "\n",
    "# create paramters\n",
    "gbr_params = {\n",
    "    'n_estimators': [100,200],\n",
    "    'max_depth': [15, 20],\n",
    "    'learning_rate': [0.02, 0.04, 1],\n",
    "    'min_samples_split': [5, 10],\n",
    "}\n",
    "\n",
    "\n",
    " # Grid Search over parameters \n",
    "gbr_gs = GridSearchCV(gbr, param_grid = gbr_params, cv = 5, scoring = make_scorer(rmse))\n"
   ]
  },
  {
   "cell_type": "code",
   "execution_count": 1353,
   "metadata": {},
   "outputs": [
    {
     "ename": "TypeError",
     "evalue": "Cannot clone object '<class 'sklearn.ensemble._gb.GradientBoostingRegressor'>' (type <class 'abc.ABCMeta'>): it does not seem to be a scikit-learn estimator as it does not implement a 'get_params' methods.",
     "output_type": "error",
     "traceback": [
      "\u001b[0;31m---------------------------------------------------------------------------\u001b[0m",
      "\u001b[0;31mTypeError\u001b[0m                                 Traceback (most recent call last)",
      "\u001b[0;32m<ipython-input-1353-ecd8a2b53201>\u001b[0m in \u001b[0;36m<module>\u001b[0;34m\u001b[0m\n\u001b[0;32m----> 1\u001b[0;31m \u001b[0mgbr_gs\u001b[0m\u001b[0;34m.\u001b[0m\u001b[0mfit\u001b[0m\u001b[0;34m(\u001b[0m\u001b[0mX_train\u001b[0m\u001b[0;34m,\u001b[0m \u001b[0my_train\u001b[0m\u001b[0;34m)\u001b[0m\u001b[0;34m\u001b[0m\u001b[0;34m\u001b[0m\u001b[0m\n\u001b[0m",
      "\u001b[0;32m/opt/anaconda3/lib/python3.7/site-packages/sklearn/model_selection/_search.py\u001b[0m in \u001b[0;36mfit\u001b[0;34m(self, X, y, groups, **fit_params)\u001b[0m\n\u001b[1;32m    653\u001b[0m         \u001b[0mn_splits\u001b[0m \u001b[0;34m=\u001b[0m \u001b[0mcv\u001b[0m\u001b[0;34m.\u001b[0m\u001b[0mget_n_splits\u001b[0m\u001b[0;34m(\u001b[0m\u001b[0mX\u001b[0m\u001b[0;34m,\u001b[0m \u001b[0my\u001b[0m\u001b[0;34m,\u001b[0m \u001b[0mgroups\u001b[0m\u001b[0;34m)\u001b[0m\u001b[0;34m\u001b[0m\u001b[0;34m\u001b[0m\u001b[0m\n\u001b[1;32m    654\u001b[0m \u001b[0;34m\u001b[0m\u001b[0m\n\u001b[0;32m--> 655\u001b[0;31m         \u001b[0mbase_estimator\u001b[0m \u001b[0;34m=\u001b[0m \u001b[0mclone\u001b[0m\u001b[0;34m(\u001b[0m\u001b[0mself\u001b[0m\u001b[0;34m.\u001b[0m\u001b[0mestimator\u001b[0m\u001b[0;34m)\u001b[0m\u001b[0;34m\u001b[0m\u001b[0;34m\u001b[0m\u001b[0m\n\u001b[0m\u001b[1;32m    656\u001b[0m \u001b[0;34m\u001b[0m\u001b[0m\n\u001b[1;32m    657\u001b[0m         parallel = Parallel(n_jobs=self.n_jobs, verbose=self.verbose,\n",
      "\u001b[0;32m/opt/anaconda3/lib/python3.7/site-packages/sklearn/base.py\u001b[0m in \u001b[0;36mclone\u001b[0;34m(estimator, safe)\u001b[0m\n\u001b[1;32m     65\u001b[0m                             \u001b[0;34m\"it does not seem to be a scikit-learn estimator \"\u001b[0m\u001b[0;34m\u001b[0m\u001b[0;34m\u001b[0m\u001b[0m\n\u001b[1;32m     66\u001b[0m                             \u001b[0;34m\"as it does not implement a 'get_params' methods.\"\u001b[0m\u001b[0;34m\u001b[0m\u001b[0;34m\u001b[0m\u001b[0m\n\u001b[0;32m---> 67\u001b[0;31m                             % (repr(estimator), type(estimator)))\n\u001b[0m\u001b[1;32m     68\u001b[0m     \u001b[0mklass\u001b[0m \u001b[0;34m=\u001b[0m \u001b[0mestimator\u001b[0m\u001b[0;34m.\u001b[0m\u001b[0m__class__\u001b[0m\u001b[0;34m\u001b[0m\u001b[0;34m\u001b[0m\u001b[0m\n\u001b[1;32m     69\u001b[0m     \u001b[0mnew_object_params\u001b[0m \u001b[0;34m=\u001b[0m \u001b[0mestimator\u001b[0m\u001b[0;34m.\u001b[0m\u001b[0mget_params\u001b[0m\u001b[0;34m(\u001b[0m\u001b[0mdeep\u001b[0m\u001b[0;34m=\u001b[0m\u001b[0;32mFalse\u001b[0m\u001b[0;34m)\u001b[0m\u001b[0;34m\u001b[0m\u001b[0;34m\u001b[0m\u001b[0m\n",
      "\u001b[0;31mTypeError\u001b[0m: Cannot clone object '<class 'sklearn.ensemble._gb.GradientBoostingRegressor'>' (type <class 'abc.ABCMeta'>): it does not seem to be a scikit-learn estimator as it does not implement a 'get_params' methods."
     ]
    }
   ],
   "source": [
    "gbr_gs.fit(X_train, y_train)"
   ]
  },
  {
   "cell_type": "code",
   "execution_count": 1354,
   "metadata": {},
   "outputs": [
    {
     "ename": "AttributeError",
     "evalue": "'GridSearchCV' object has no attribute 'best_estimator_'",
     "output_type": "error",
     "traceback": [
      "\u001b[0;31m---------------------------------------------------------------------------\u001b[0m",
      "\u001b[0;31mAttributeError\u001b[0m                            Traceback (most recent call last)",
      "\u001b[0;32m<ipython-input-1354-56c30808ef3a>\u001b[0m in \u001b[0;36m<module>\u001b[0;34m\u001b[0m\n\u001b[0;32m----> 1\u001b[0;31m \u001b[0my_train_pred_gbr\u001b[0m \u001b[0;34m=\u001b[0m \u001b[0mgbr_gs\u001b[0m\u001b[0;34m.\u001b[0m\u001b[0mpredict\u001b[0m\u001b[0;34m(\u001b[0m\u001b[0mX_train\u001b[0m\u001b[0;34m)\u001b[0m\u001b[0;34m\u001b[0m\u001b[0;34m\u001b[0m\u001b[0m\n\u001b[0m\u001b[1;32m      2\u001b[0m \u001b[0my_pred_gbr\u001b[0m \u001b[0;34m=\u001b[0m \u001b[0mgbr_gs\u001b[0m\u001b[0;34m.\u001b[0m\u001b[0mpredict\u001b[0m\u001b[0;34m(\u001b[0m\u001b[0mX_test\u001b[0m\u001b[0;34m)\u001b[0m\u001b[0;34m\u001b[0m\u001b[0;34m\u001b[0m\u001b[0m\n",
      "\u001b[0;32m/opt/anaconda3/lib/python3.7/site-packages/sklearn/utils/metaestimators.py\u001b[0m in \u001b[0;36m<lambda>\u001b[0;34m(*args, **kwargs)\u001b[0m\n\u001b[1;32m    114\u001b[0m \u001b[0;34m\u001b[0m\u001b[0m\n\u001b[1;32m    115\u001b[0m         \u001b[0;31m# lambda, but not partial, allows help() to work with update_wrapper\u001b[0m\u001b[0;34m\u001b[0m\u001b[0;34m\u001b[0m\u001b[0;34m\u001b[0m\u001b[0m\n\u001b[0;32m--> 116\u001b[0;31m         \u001b[0mout\u001b[0m \u001b[0;34m=\u001b[0m \u001b[0;32mlambda\u001b[0m \u001b[0;34m*\u001b[0m\u001b[0margs\u001b[0m\u001b[0;34m,\u001b[0m \u001b[0;34m**\u001b[0m\u001b[0mkwargs\u001b[0m\u001b[0;34m:\u001b[0m \u001b[0mself\u001b[0m\u001b[0;34m.\u001b[0m\u001b[0mfn\u001b[0m\u001b[0;34m(\u001b[0m\u001b[0mobj\u001b[0m\u001b[0;34m,\u001b[0m \u001b[0;34m*\u001b[0m\u001b[0margs\u001b[0m\u001b[0;34m,\u001b[0m \u001b[0;34m**\u001b[0m\u001b[0mkwargs\u001b[0m\u001b[0;34m)\u001b[0m\u001b[0;34m\u001b[0m\u001b[0;34m\u001b[0m\u001b[0m\n\u001b[0m\u001b[1;32m    117\u001b[0m         \u001b[0;31m# update the docstring of the returned function\u001b[0m\u001b[0;34m\u001b[0m\u001b[0;34m\u001b[0m\u001b[0;34m\u001b[0m\u001b[0m\n\u001b[1;32m    118\u001b[0m         \u001b[0mupdate_wrapper\u001b[0m\u001b[0;34m(\u001b[0m\u001b[0mout\u001b[0m\u001b[0;34m,\u001b[0m \u001b[0mself\u001b[0m\u001b[0;34m.\u001b[0m\u001b[0mfn\u001b[0m\u001b[0;34m)\u001b[0m\u001b[0;34m\u001b[0m\u001b[0;34m\u001b[0m\u001b[0m\n",
      "\u001b[0;32m/opt/anaconda3/lib/python3.7/site-packages/sklearn/model_selection/_search.py\u001b[0m in \u001b[0;36mpredict\u001b[0;34m(self, X)\u001b[0m\n\u001b[1;32m    475\u001b[0m         \"\"\"\n\u001b[1;32m    476\u001b[0m         \u001b[0mself\u001b[0m\u001b[0;34m.\u001b[0m\u001b[0m_check_is_fitted\u001b[0m\u001b[0;34m(\u001b[0m\u001b[0;34m'predict'\u001b[0m\u001b[0;34m)\u001b[0m\u001b[0;34m\u001b[0m\u001b[0;34m\u001b[0m\u001b[0m\n\u001b[0;32m--> 477\u001b[0;31m         \u001b[0;32mreturn\u001b[0m \u001b[0mself\u001b[0m\u001b[0;34m.\u001b[0m\u001b[0mbest_estimator_\u001b[0m\u001b[0;34m.\u001b[0m\u001b[0mpredict\u001b[0m\u001b[0;34m(\u001b[0m\u001b[0mX\u001b[0m\u001b[0;34m)\u001b[0m\u001b[0;34m\u001b[0m\u001b[0;34m\u001b[0m\u001b[0m\n\u001b[0m\u001b[1;32m    478\u001b[0m \u001b[0;34m\u001b[0m\u001b[0m\n\u001b[1;32m    479\u001b[0m     \u001b[0;34m@\u001b[0m\u001b[0mif_delegate_has_method\u001b[0m\u001b[0;34m(\u001b[0m\u001b[0mdelegate\u001b[0m\u001b[0;34m=\u001b[0m\u001b[0;34m(\u001b[0m\u001b[0;34m'best_estimator_'\u001b[0m\u001b[0;34m,\u001b[0m \u001b[0;34m'estimator'\u001b[0m\u001b[0;34m)\u001b[0m\u001b[0;34m)\u001b[0m\u001b[0;34m\u001b[0m\u001b[0;34m\u001b[0m\u001b[0m\n",
      "\u001b[0;31mAttributeError\u001b[0m: 'GridSearchCV' object has no attribute 'best_estimator_'"
     ]
    }
   ],
   "source": [
    "y_train_pred_gbr = gbr_gs.predict(X_train)\n",
    "y_pred_gbr = gbr_gs.predict(X_test)"
   ]
  },
  {
   "cell_type": "code",
   "execution_count": null,
   "metadata": {},
   "outputs": [],
   "source": [
    "print(f'Training RMSE:', rmse(y_train, y_train_pred_gbr))\n",
    "print(f'Testing RMSE:', rmse(y_test, y_pred_gbr))\n",
    "print(f'Cross Validation Score:',cross_val_score(gbr_gs, X, y, cv = 5, scoring = make_scorer(rmse)).mean())"
   ]
  },
  {
   "cell_type": "code",
   "execution_count": 1355,
   "metadata": {},
   "outputs": [
    {
     "data": {
      "text/plain": [
       "GradientBoostingRegressor(alpha=0.9, ccp_alpha=0.0, criterion='friedman_mse',\n",
       "                          init=None, learning_rate=0.02, loss='ls', max_depth=5,\n",
       "                          max_features=None, max_leaf_nodes=None,\n",
       "                          min_impurity_decrease=0.0, min_impurity_split=None,\n",
       "                          min_samples_leaf=1, min_samples_split=2,\n",
       "                          min_weight_fraction_leaf=0.0, n_estimators=200,\n",
       "                          n_iter_no_change=None, presort='deprecated',\n",
       "                          random_state=None, subsample=1.0, tol=0.0001,\n",
       "                          validation_fraction=0.1, verbose=0, warm_start=False)"
      ]
     },
     "execution_count": 1355,
     "metadata": {},
     "output_type": "execute_result"
    }
   ],
   "source": [
    "params = {'n_estimators': 200, 'max_depth': 5,\n",
    "          'learning_rate': 0.02, 'loss': 'ls'}\n",
    "\n",
    "#gbr = GradientBoostingRegressor(random_state = 42)\n",
    "gbr = GradientBoostingRegressor(**params)\n",
    "\n",
    "#Train the model\n",
    "gbr.fit(X_train, y_train)"
   ]
  },
  {
   "cell_type": "code",
   "execution_count": 1356,
   "metadata": {},
   "outputs": [],
   "source": [
    "y_preds_train_gbr = gbr.predict(X_train)\n",
    "y_preds_gbr = gbr.predict(X_test)"
   ]
  },
  {
   "cell_type": "code",
   "execution_count": 1357,
   "metadata": {},
   "outputs": [
    {
     "name": "stdout",
     "output_type": "stream",
     "text": [
      "Training RMSE: 1934.7273403704137\n",
      "Testing RMSE: 1916.762142917575\n",
      "Cross Validation Score: 1936.5234267006126\n"
     ]
    }
   ],
   "source": [
    "print(f'Training RMSE:', rmse(y_train, y_preds_train_gbr))\n",
    "print(f'Testing RMSE:', rmse(y_test, y_preds_gbr))\n",
    "print(f'Cross Validation Score:',cross_val_score(gbr, X, y, cv = 5, scoring = make_scorer(rmse)).mean())"
   ]
  },
  {
   "cell_type": "markdown",
   "metadata": {},
   "source": [
    "## Model Selection"
   ]
  },
  {
   "cell_type": "markdown",
   "metadata": {},
   "source": [
    "|Model|Training RMSE Score|Testing RMSE Score|\n",
    "|:---|:---|:---|\n",
    "|Linar Regression|2983.801|2954.703|\n",
    "|Ridge|2983.805|2954.704|\n",
    "|Lasso|1983.579|7753727.709|\n",
    "|Decision Tree|2574.526|2600.392|\n",
    "|Random Forest|1811.301|1838.693|\n",
    "|Extra Trees*|2540.888|2548.764|\n",
    "|Gradient Boost|1934.727|1916.762|"
   ]
  },
  {
   "cell_type": "markdown",
   "metadata": {},
   "source": [
    "Two models were in consdieration for model selection. The Random Forest model and the Gradient Boost model. The Random Forest model had a RMSE training score of 1274.47 and a testing score of 1710.21. The Gradient Boost model had a training score of 1223.34 and a testing score of 1343.34. The Random Forest had better scores overall but the difference between the training and the testing score shows that the model was overfit. This high amount of variance is problematic as this model may not peform well on other data sets. The Gradient Boost was the second best perfomer score wise but it was much better fit. We have more confidence in this model if it was used with new data. "
   ]
  },
  {
   "cell_type": "markdown",
   "metadata": {},
   "source": [
    "## Model Evaluation"
   ]
  },
  {
   "cell_type": "code",
   "execution_count": null,
   "metadata": {},
   "outputs": [],
   "source": [
    "#Residuals Plot\n",
    "plt.figure(figsize=(8,6))\n",
    "plt.title('Residuals Plot',size=22)\n",
    "plt.xlabel('Predictions',size=16)\n",
    "plt.ylabel('Residuals',size=16)\n",
    "plt.axhline(0, c = \"r\")\n",
    "plt.scatter(gamma_log_tr_preds, train_resids, label='Training data', alpha = .4,color='blue');\n",
    "plt.scatter(gamma_log_te_preds, test_resids, label='Testing data',alpha = .4,color='orange');\n",
    "plt.legend(loc='upper right',fontsize='x-large');"
   ]
  },
  {
   "cell_type": "code",
   "execution_count": null,
   "metadata": {},
   "outputs": [],
   "source": []
  },
  {
   "cell_type": "markdown",
   "metadata": {},
   "source": [
    "### Plotting Actual vs. Predicted Price"
   ]
  },
  {
   "cell_type": "code",
   "execution_count": null,
   "metadata": {},
   "outputs": [],
   "source": [
    "plt.figure(figsize=(12,6.5))\n",
    "sns.scatterplot(y_test, y_preds_gbr)\n",
    "plt.title('Predicted Price vs. Actual Price', size = 20)\n",
    "plt.xlabel('Actual Price')\n",
    "plt.ylabel('Predictions')\n",
    "plt.savefig('a.png')\n",
    "plt.plot([0, np.max(y_preds_gbr)],\n",
    "         [0, np.max(y_preds_gbr)],\n",
    "         color = 'black');"
   ]
  },
  {
   "cell_type": "markdown",
   "metadata": {},
   "source": [
    "It is hard to tell because there a high volumne of plots in above scatterplot but we can say with confidence that we observe heteroscedasticity. These plots do not have a similar scatter and from lowest to highest price we observe predictions that are extremely far off from the actual price. We also observe a fan out effect of our plots especially as the true values increase in price. As price increases we observe many predictions that are making predictions that are much lower than the actual price of the car. We can see from this plot that the model struggled to make accurate predictions as the actual price of the car increased, prediciting much lower prices than the true price of the cars. "
   ]
  },
  {
   "cell_type": "markdown",
   "metadata": {},
   "source": [
    "### Residuals Plot"
   ]
  },
  {
   "cell_type": "code",
   "execution_count": null,
   "metadata": {},
   "outputs": [],
   "source": [
    "saw was below 1 day.\n",
    "\n",
    "In [190]:\n",
    "plt.figure(figsize=(8,6))\n",
    "plt.title('Residuals Plot',size=22)\n",
    "plt.xlabel('Predictions',size=16)\n",
    "plt.ylabel('Residuals',size=16)\n",
    "plt.axhline(0, c = \"r\")\n",
    "plt.scatter(gamma_log_tr_preds, train_resids, label='Training data', alpha = .4,color='blue');\n",
    "plt.scatter(gamma_log_te_preds, test_resids, label='Testing data',alpha = .4,color='orange');\n",
    "plt.legend(loc='upper right',fontsize='x-large');"
   ]
  },
  {
   "cell_type": "markdown",
   "metadata": {},
   "source": [
    "### Residuals Distribution "
   ]
  },
  {
   "cell_type": "code",
   "execution_count": null,
   "metadata": {},
   "outputs": [],
   "source": [
    "plt.title(\"Distribution of Residuals\", fontsize = 20)\n",
    "residuals.hist(bins = 25);"
   ]
  },
  {
   "cell_type": "markdown",
   "metadata": {},
   "source": [
    "### Feature Importance"
   ]
  },
  {
   "cell_type": "markdown",
   "metadata": {},
   "source": [
    "fter being fit, the model provides a feature_importances_ property that can be accessed to retrieve the relative importance scores for each input feature. Feature selection methods can give you useful information on the relative importance or relevance of features for a given problem. You can use this information to create filtered versions of your dataset and increase the accuracy of your models."
   ]
  },
  {
   "cell_type": "code",
   "execution_count": null,
   "metadata": {},
   "outputs": [],
   "source": [
    "f_importance = gbr.feature_importances_\n",
    "\n",
    "f_list=X_train.columns\n",
    "\n",
    "df_feature_importance=pd.DataFrame(f_importance,columns=['importance'],index=f_list).sort_values(['importance'],ascending=False)"
   ]
  },
  {
   "cell_type": "code",
   "execution_count": null,
   "metadata": {},
   "outputs": [],
   "source": [
    "f_list=X.columns\n",
    "df_gbr = pd.DataFrame(f_importance,index=f_list,columns=['importance']).sort_values(['importance'],ascending=False)\n",
    "df_gbr.head(10)"
   ]
  },
  {
   "cell_type": "code",
   "execution_count": null,
   "metadata": {},
   "outputs": [],
   "source": [
    "#plot the feature importance\n",
    "fig, ax = plt.subplots(figsize=(10, 5))\n",
    "sns.barplot(top10_features.index,top10_features['importance'],data=top10_features)\n",
    "plt.xlabel('Feature')\n",
    "plt.title('Top 10 Features', size = 20)\n",
    "plt.xticks(rotation=45);"
   ]
  },
  {
   "cell_type": "markdown",
   "metadata": {},
   "source": [
    "Analyzing the features with the highest coefficients to price we observe the two features we hypothesized while doing our EDA in the top three. This comes as no surprise as intuition tells us that age and kilometers driven are the most important features when evaluating the re-sale value of a used car. Age seemed to be the most important factor. This is likely due to the fact that even if the odometer is realatively low on ab old car it just has had more time to wear. More things like rust, worn interior, outdated parts that may be hard to find are all contributing factors to price. Kilometers driven goes hand in hand with this, as mentioned in EDA there is a linear relation between these two variables. The older the car the higher the number on the odometer. \n",
    "\n",
    "The fact that Kilowatts is the second most important feature was somewhat surprising. At first it didn't make sense but after further research we learned that higher Kilowatts usually correlates to larger engine size. Engines being arguably the most important component of an automobile it is logical to assume that the larger the engine the higher the price of a car would be. Large powerful engines are also usually associated with luxury automobiles. "
   ]
  },
  {
   "cell_type": "markdown",
   "metadata": {},
   "source": [
    "## Interpretable Model/Model Coefficients"
   ]
  },
  {
   "cell_type": "markdown",
   "metadata": {},
   "source": [
    "Additionally we wanted to analyze an interpretable model to gain a better understaning of the most important features when predicting price. Here we are able to intepret the models coefficients. Our best performing Linear Regression model was the Ridge model."
   ]
  },
  {
   "cell_type": "code",
   "execution_count": null,
   "metadata": {},
   "outputs": [],
   "source": [
    "coef_df = pd.DataFrame({'name':X.columns, 'coeff':ridge.coef_})\n",
    "coef_df.sort_values(by='coeff', ascending = False)"
   ]
  },
  {
   "cell_type": "markdown",
   "metadata": {},
   "source": [
    "In regression with multiple independent variables, the coefficient tells you how much the dependent variable is expected to increase when that independent variable increases by one, holding all the other independent variables constant.\n",
    "\n",
    "A negative coefficient suggests that as the independent variable increases, the dependent variable tends to decrease. The coefficient value signifies how much the mean of the dependent variable changes given a one-unit shift in the independent variable while holding other variables in the model constant.\n",
    "\n",
    "When analyzing the coefficients of a higest correlated features we see age has a coefficent of -1,404.34. This can be interpreted by saying, as the age of a car increases by one unit (one year), then we expect the price of the car to decrease by €1,402.35 all else being equal. Now logically this does not make sense as if a car had a true value of € 5,000 in four years the car would be worth a negative amount. This is the weight our model is putting on this feature. We see here that this feature has a strong correlation to price and greatly affects the models prediction of a cars price. \n",
    "\n",
    "For the positve coefficeints we observe the top five are categorical variables. This could be interpreted as \"if the car is a Audi it will have an €816.06 increase in our y variable (price). "
   ]
  },
  {
   "cell_type": "code",
   "execution_count": null,
   "metadata": {},
   "outputs": [],
   "source": [
    "def plot_coef(model, top_n = 10):\n",
    "    cols = X_train.columns\n",
    "    coef = ridge.coef_\n",
    "    zipped = list(zip(cols, coef))\n",
    "    zipped.sort(key=lambda x: x[1], reverse = True)\n",
    "    top_10 = pd.DataFrame(zipped).head(top_n)\n",
    "    bottom_10 = pd.DataFrame(zipped).tail(top_n)\n",
    "    return pd.concat([top_10, bottom_10], axis=0).plot.barh(x = 0, y = 1)"
   ]
  },
  {
   "cell_type": "code",
   "execution_count": null,
   "metadata": {},
   "outputs": [],
   "source": [
    "plot_coef(ridge)\n",
    "plt.title('Model Coefficients', size = 20)\n",
    "plt.xlabel('Coefficient')\n",
    "plt.ylabel('Features');"
   ]
  },
  {
   "cell_type": "code",
   "execution_count": null,
   "metadata": {},
   "outputs": [],
   "source": []
  }
 ],
 "metadata": {
  "kernelspec": {
   "display_name": "Python 3",
   "language": "python",
   "name": "python3"
  },
  "language_info": {
   "codemirror_mode": {
    "name": "ipython",
    "version": 3
   },
   "file_extension": ".py",
   "mimetype": "text/x-python",
   "name": "python",
   "nbconvert_exporter": "python",
   "pygments_lexer": "ipython3",
   "version": "3.7.4"
  }
 },
 "nbformat": 4,
 "nbformat_minor": 2
}
